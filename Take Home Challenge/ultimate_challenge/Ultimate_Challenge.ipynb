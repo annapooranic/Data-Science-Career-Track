{
 "cells": [
  {
   "cell_type": "markdown",
   "metadata": {},
   "source": [
    "# Take home practice challenge - Ultimate Inc."
   ]
  },
  {
   "cell_type": "markdown",
   "metadata": {},
   "source": [
    "## Part 1  \n",
    "\n",
    "Exploratory data analysis The attached logins.json file contains (simulated) timestamps of user logins in a particular geographic location. Aggregate these login counts based on 15minute time intervals, and visualize and describe the resulting time series of login counts in ways that best characterize the underlying patterns of the demand. Please report/illustrate important features of the demand, such as daily cycles. If there are data quality issues, please report them."
   ]
  },
  {
   "cell_type": "code",
   "execution_count": 1,
   "metadata": {},
   "outputs": [],
   "source": [
    "# Import necessary Libraries\n",
    "import numpy as np\n",
    "import pandas as pd\n",
    "from datetime import datetime,timedelta\n",
    "import json\n",
    "import matplotlib.pyplot as plt\n",
    "import seaborn as sns"
   ]
  },
  {
   "cell_type": "code",
   "execution_count": 2,
   "metadata": {},
   "outputs": [],
   "source": [
    "# file read\n",
    "file_open = open('logins.json')\n",
    "file_str = file_open.read()\n",
    "data = json.loads(file_str)"
   ]
  },
  {
   "cell_type": "code",
   "execution_count": 3,
   "metadata": {},
   "outputs": [],
   "source": [
    "# conversion to datetime\n",
    "dates= [datetime.strptime(date, '%Y-%m-%d %X') for date in data['login_time']]"
   ]
  },
  {
   "cell_type": "code",
   "execution_count": 4,
   "metadata": {},
   "outputs": [
    {
     "name": "stdout",
     "output_type": "stream",
     "text": [
      "1970-01-01 20:12:16\n",
      "1970-04-13 18:57:38\n"
     ]
    }
   ],
   "source": [
    "# Creation of Timebins with intervak of 15 min\n",
    "timemin = min(dates)\n",
    "timemax = max(dates)\n",
    "timediff = timedelta(weeks=0, days=0, hours=0, minutes=15, seconds=0)\n",
    "timeIntervals = pd.date_range(start = timemin-timediff, end = timemax+timediff, freq = timediff)\n",
    "print(timemin)\n",
    "print(timemax)"
   ]
  },
  {
   "cell_type": "code",
   "execution_count": 5,
   "metadata": {},
   "outputs": [
    {
     "data": {
      "text/html": [
       "<div>\n",
       "<style scoped>\n",
       "    .dataframe tbody tr th:only-of-type {\n",
       "        vertical-align: middle;\n",
       "    }\n",
       "\n",
       "    .dataframe tbody tr th {\n",
       "        vertical-align: top;\n",
       "    }\n",
       "\n",
       "    .dataframe thead th {\n",
       "        text-align: right;\n",
       "    }\n",
       "</style>\n",
       "<table border=\"1\" class=\"dataframe\">\n",
       "  <thead>\n",
       "    <tr style=\"text-align: right;\">\n",
       "      <th></th>\n",
       "      <th>count</th>\n",
       "    </tr>\n",
       "    <tr>\n",
       "      <th>bucket</th>\n",
       "      <th></th>\n",
       "    </tr>\n",
       "  </thead>\n",
       "  <tbody>\n",
       "    <tr>\n",
       "      <th>(1970-01-01 19:57:16, 1970-01-01 20:12:16]</th>\n",
       "      <td>1</td>\n",
       "    </tr>\n",
       "    <tr>\n",
       "      <th>(1970-01-01 20:12:16, 1970-01-01 20:27:16]</th>\n",
       "      <td>7</td>\n",
       "    </tr>\n",
       "    <tr>\n",
       "      <th>(1970-01-01 20:27:16, 1970-01-01 20:42:16]</th>\n",
       "      <td>8</td>\n",
       "    </tr>\n",
       "    <tr>\n",
       "      <th>(1970-01-01 20:42:16, 1970-01-01 20:57:16]</th>\n",
       "      <td>6</td>\n",
       "    </tr>\n",
       "    <tr>\n",
       "      <th>(1970-01-01 20:57:16, 1970-01-01 21:12:16]</th>\n",
       "      <td>3</td>\n",
       "    </tr>\n",
       "    <tr>\n",
       "      <th>(1970-01-01 21:12:16, 1970-01-01 21:27:16]</th>\n",
       "      <td>3</td>\n",
       "    </tr>\n",
       "    <tr>\n",
       "      <th>(1970-01-01 21:27:16, 1970-01-01 21:42:16]</th>\n",
       "      <td>1</td>\n",
       "    </tr>\n",
       "    <tr>\n",
       "      <th>(1970-01-01 21:42:16, 1970-01-01 21:57:16]</th>\n",
       "      <td>1</td>\n",
       "    </tr>\n",
       "    <tr>\n",
       "      <th>(1970-01-01 21:57:16, 1970-01-01 22:12:16]</th>\n",
       "      <td>12</td>\n",
       "    </tr>\n",
       "    <tr>\n",
       "      <th>(1970-01-01 22:12:16, 1970-01-01 22:27:16]</th>\n",
       "      <td>8</td>\n",
       "    </tr>\n",
       "    <tr>\n",
       "      <th>(1970-01-01 22:27:16, 1970-01-01 22:42:16]</th>\n",
       "      <td>1</td>\n",
       "    </tr>\n",
       "    <tr>\n",
       "      <th>(1970-01-01 22:42:16, 1970-01-01 22:57:16]</th>\n",
       "      <td>2</td>\n",
       "    </tr>\n",
       "    <tr>\n",
       "      <th>(1970-01-01 22:57:16, 1970-01-01 23:12:16]</th>\n",
       "      <td>15</td>\n",
       "    </tr>\n",
       "    <tr>\n",
       "      <th>(1970-01-01 23:12:16, 1970-01-01 23:27:16]</th>\n",
       "      <td>15</td>\n",
       "    </tr>\n",
       "    <tr>\n",
       "      <th>(1970-01-01 23:27:16, 1970-01-01 23:42:16]</th>\n",
       "      <td>10</td>\n",
       "    </tr>\n",
       "    <tr>\n",
       "      <th>(1970-01-01 23:42:16, 1970-01-01 23:57:16]</th>\n",
       "      <td>18</td>\n",
       "    </tr>\n",
       "    <tr>\n",
       "      <th>(1970-01-01 23:57:16, 1970-01-02 00:12:16]</th>\n",
       "      <td>11</td>\n",
       "    </tr>\n",
       "    <tr>\n",
       "      <th>(1970-01-02 00:12:16, 1970-01-02 00:27:16]</th>\n",
       "      <td>13</td>\n",
       "    </tr>\n",
       "    <tr>\n",
       "      <th>(1970-01-02 00:27:16, 1970-01-02 00:42:16]</th>\n",
       "      <td>13</td>\n",
       "    </tr>\n",
       "    <tr>\n",
       "      <th>(1970-01-02 00:42:16, 1970-01-02 00:57:16]</th>\n",
       "      <td>13</td>\n",
       "    </tr>\n",
       "    <tr>\n",
       "      <th>(1970-01-02 00:57:16, 1970-01-02 01:12:16]</th>\n",
       "      <td>13</td>\n",
       "    </tr>\n",
       "    <tr>\n",
       "      <th>(1970-01-02 01:12:16, 1970-01-02 01:27:16]</th>\n",
       "      <td>8</td>\n",
       "    </tr>\n",
       "    <tr>\n",
       "      <th>(1970-01-02 01:27:16, 1970-01-02 01:42:16]</th>\n",
       "      <td>8</td>\n",
       "    </tr>\n",
       "    <tr>\n",
       "      <th>(1970-01-02 01:42:16, 1970-01-02 01:57:16]</th>\n",
       "      <td>7</td>\n",
       "    </tr>\n",
       "    <tr>\n",
       "      <th>(1970-01-02 01:57:16, 1970-01-02 02:12:16]</th>\n",
       "      <td>8</td>\n",
       "    </tr>\n",
       "    <tr>\n",
       "      <th>(1970-01-02 02:12:16, 1970-01-02 02:27:16]</th>\n",
       "      <td>18</td>\n",
       "    </tr>\n",
       "    <tr>\n",
       "      <th>(1970-01-02 02:27:16, 1970-01-02 02:42:16]</th>\n",
       "      <td>11</td>\n",
       "    </tr>\n",
       "    <tr>\n",
       "      <th>(1970-01-02 02:42:16, 1970-01-02 02:57:16]</th>\n",
       "      <td>5</td>\n",
       "    </tr>\n",
       "    <tr>\n",
       "      <th>(1970-01-02 02:57:16, 1970-01-02 03:12:16]</th>\n",
       "      <td>13</td>\n",
       "    </tr>\n",
       "    <tr>\n",
       "      <th>(1970-01-02 03:12:16, 1970-01-02 03:27:16]</th>\n",
       "      <td>6</td>\n",
       "    </tr>\n",
       "    <tr>\n",
       "      <th>...</th>\n",
       "      <td>...</td>\n",
       "    </tr>\n",
       "    <tr>\n",
       "      <th>(1970-04-13 11:42:16, 1970-04-13 11:57:16]</th>\n",
       "      <td>9</td>\n",
       "    </tr>\n",
       "    <tr>\n",
       "      <th>(1970-04-13 11:57:16, 1970-04-13 12:12:16]</th>\n",
       "      <td>6</td>\n",
       "    </tr>\n",
       "    <tr>\n",
       "      <th>(1970-04-13 12:12:16, 1970-04-13 12:27:16]</th>\n",
       "      <td>9</td>\n",
       "    </tr>\n",
       "    <tr>\n",
       "      <th>(1970-04-13 12:27:16, 1970-04-13 12:42:16]</th>\n",
       "      <td>10</td>\n",
       "    </tr>\n",
       "    <tr>\n",
       "      <th>(1970-04-13 12:42:16, 1970-04-13 12:57:16]</th>\n",
       "      <td>12</td>\n",
       "    </tr>\n",
       "    <tr>\n",
       "      <th>(1970-04-13 12:57:16, 1970-04-13 13:12:16]</th>\n",
       "      <td>4</td>\n",
       "    </tr>\n",
       "    <tr>\n",
       "      <th>(1970-04-13 13:12:16, 1970-04-13 13:27:16]</th>\n",
       "      <td>6</td>\n",
       "    </tr>\n",
       "    <tr>\n",
       "      <th>(1970-04-13 13:27:16, 1970-04-13 13:42:16]</th>\n",
       "      <td>4</td>\n",
       "    </tr>\n",
       "    <tr>\n",
       "      <th>(1970-04-13 13:42:16, 1970-04-13 13:57:16]</th>\n",
       "      <td>7</td>\n",
       "    </tr>\n",
       "    <tr>\n",
       "      <th>(1970-04-13 13:57:16, 1970-04-13 14:12:16]</th>\n",
       "      <td>4</td>\n",
       "    </tr>\n",
       "    <tr>\n",
       "      <th>(1970-04-13 14:12:16, 1970-04-13 14:27:16]</th>\n",
       "      <td>7</td>\n",
       "    </tr>\n",
       "    <tr>\n",
       "      <th>(1970-04-13 14:27:16, 1970-04-13 14:42:16]</th>\n",
       "      <td>8</td>\n",
       "    </tr>\n",
       "    <tr>\n",
       "      <th>(1970-04-13 14:42:16, 1970-04-13 14:57:16]</th>\n",
       "      <td>8</td>\n",
       "    </tr>\n",
       "    <tr>\n",
       "      <th>(1970-04-13 14:57:16, 1970-04-13 15:12:16]</th>\n",
       "      <td>13</td>\n",
       "    </tr>\n",
       "    <tr>\n",
       "      <th>(1970-04-13 15:12:16, 1970-04-13 15:27:16]</th>\n",
       "      <td>5</td>\n",
       "    </tr>\n",
       "    <tr>\n",
       "      <th>(1970-04-13 15:27:16, 1970-04-13 15:42:16]</th>\n",
       "      <td>2</td>\n",
       "    </tr>\n",
       "    <tr>\n",
       "      <th>(1970-04-13 15:42:16, 1970-04-13 15:57:16]</th>\n",
       "      <td>4</td>\n",
       "    </tr>\n",
       "    <tr>\n",
       "      <th>(1970-04-13 15:57:16, 1970-04-13 16:12:16]</th>\n",
       "      <td>7</td>\n",
       "    </tr>\n",
       "    <tr>\n",
       "      <th>(1970-04-13 16:12:16, 1970-04-13 16:27:16]</th>\n",
       "      <td>8</td>\n",
       "    </tr>\n",
       "    <tr>\n",
       "      <th>(1970-04-13 16:27:16, 1970-04-13 16:42:16]</th>\n",
       "      <td>4</td>\n",
       "    </tr>\n",
       "    <tr>\n",
       "      <th>(1970-04-13 16:42:16, 1970-04-13 16:57:16]</th>\n",
       "      <td>3</td>\n",
       "    </tr>\n",
       "    <tr>\n",
       "      <th>(1970-04-13 16:57:16, 1970-04-13 17:12:16]</th>\n",
       "      <td>4</td>\n",
       "    </tr>\n",
       "    <tr>\n",
       "      <th>(1970-04-13 17:12:16, 1970-04-13 17:27:16]</th>\n",
       "      <td>4</td>\n",
       "    </tr>\n",
       "    <tr>\n",
       "      <th>(1970-04-13 17:27:16, 1970-04-13 17:42:16]</th>\n",
       "      <td>9</td>\n",
       "    </tr>\n",
       "    <tr>\n",
       "      <th>(1970-04-13 17:42:16, 1970-04-13 17:57:16]</th>\n",
       "      <td>4</td>\n",
       "    </tr>\n",
       "    <tr>\n",
       "      <th>(1970-04-13 17:57:16, 1970-04-13 18:12:16]</th>\n",
       "      <td>4</td>\n",
       "    </tr>\n",
       "    <tr>\n",
       "      <th>(1970-04-13 18:12:16, 1970-04-13 18:27:16]</th>\n",
       "      <td>4</td>\n",
       "    </tr>\n",
       "    <tr>\n",
       "      <th>(1970-04-13 18:27:16, 1970-04-13 18:42:16]</th>\n",
       "      <td>5</td>\n",
       "    </tr>\n",
       "    <tr>\n",
       "      <th>(1970-04-13 18:42:16, 1970-04-13 18:57:16]</th>\n",
       "      <td>7</td>\n",
       "    </tr>\n",
       "    <tr>\n",
       "      <th>(1970-04-13 18:57:16, 1970-04-13 19:12:16]</th>\n",
       "      <td>1</td>\n",
       "    </tr>\n",
       "  </tbody>\n",
       "</table>\n",
       "<p>9789 rows × 1 columns</p>\n",
       "</div>"
      ],
      "text/plain": [
       "                                            count\n",
       "bucket                                           \n",
       "(1970-01-01 19:57:16, 1970-01-01 20:12:16]      1\n",
       "(1970-01-01 20:12:16, 1970-01-01 20:27:16]      7\n",
       "(1970-01-01 20:27:16, 1970-01-01 20:42:16]      8\n",
       "(1970-01-01 20:42:16, 1970-01-01 20:57:16]      6\n",
       "(1970-01-01 20:57:16, 1970-01-01 21:12:16]      3\n",
       "(1970-01-01 21:12:16, 1970-01-01 21:27:16]      3\n",
       "(1970-01-01 21:27:16, 1970-01-01 21:42:16]      1\n",
       "(1970-01-01 21:42:16, 1970-01-01 21:57:16]      1\n",
       "(1970-01-01 21:57:16, 1970-01-01 22:12:16]     12\n",
       "(1970-01-01 22:12:16, 1970-01-01 22:27:16]      8\n",
       "(1970-01-01 22:27:16, 1970-01-01 22:42:16]      1\n",
       "(1970-01-01 22:42:16, 1970-01-01 22:57:16]      2\n",
       "(1970-01-01 22:57:16, 1970-01-01 23:12:16]     15\n",
       "(1970-01-01 23:12:16, 1970-01-01 23:27:16]     15\n",
       "(1970-01-01 23:27:16, 1970-01-01 23:42:16]     10\n",
       "(1970-01-01 23:42:16, 1970-01-01 23:57:16]     18\n",
       "(1970-01-01 23:57:16, 1970-01-02 00:12:16]     11\n",
       "(1970-01-02 00:12:16, 1970-01-02 00:27:16]     13\n",
       "(1970-01-02 00:27:16, 1970-01-02 00:42:16]     13\n",
       "(1970-01-02 00:42:16, 1970-01-02 00:57:16]     13\n",
       "(1970-01-02 00:57:16, 1970-01-02 01:12:16]     13\n",
       "(1970-01-02 01:12:16, 1970-01-02 01:27:16]      8\n",
       "(1970-01-02 01:27:16, 1970-01-02 01:42:16]      8\n",
       "(1970-01-02 01:42:16, 1970-01-02 01:57:16]      7\n",
       "(1970-01-02 01:57:16, 1970-01-02 02:12:16]      8\n",
       "(1970-01-02 02:12:16, 1970-01-02 02:27:16]     18\n",
       "(1970-01-02 02:27:16, 1970-01-02 02:42:16]     11\n",
       "(1970-01-02 02:42:16, 1970-01-02 02:57:16]      5\n",
       "(1970-01-02 02:57:16, 1970-01-02 03:12:16]     13\n",
       "(1970-01-02 03:12:16, 1970-01-02 03:27:16]      6\n",
       "...                                           ...\n",
       "(1970-04-13 11:42:16, 1970-04-13 11:57:16]      9\n",
       "(1970-04-13 11:57:16, 1970-04-13 12:12:16]      6\n",
       "(1970-04-13 12:12:16, 1970-04-13 12:27:16]      9\n",
       "(1970-04-13 12:27:16, 1970-04-13 12:42:16]     10\n",
       "(1970-04-13 12:42:16, 1970-04-13 12:57:16]     12\n",
       "(1970-04-13 12:57:16, 1970-04-13 13:12:16]      4\n",
       "(1970-04-13 13:12:16, 1970-04-13 13:27:16]      6\n",
       "(1970-04-13 13:27:16, 1970-04-13 13:42:16]      4\n",
       "(1970-04-13 13:42:16, 1970-04-13 13:57:16]      7\n",
       "(1970-04-13 13:57:16, 1970-04-13 14:12:16]      4\n",
       "(1970-04-13 14:12:16, 1970-04-13 14:27:16]      7\n",
       "(1970-04-13 14:27:16, 1970-04-13 14:42:16]      8\n",
       "(1970-04-13 14:42:16, 1970-04-13 14:57:16]      8\n",
       "(1970-04-13 14:57:16, 1970-04-13 15:12:16]     13\n",
       "(1970-04-13 15:12:16, 1970-04-13 15:27:16]      5\n",
       "(1970-04-13 15:27:16, 1970-04-13 15:42:16]      2\n",
       "(1970-04-13 15:42:16, 1970-04-13 15:57:16]      4\n",
       "(1970-04-13 15:57:16, 1970-04-13 16:12:16]      7\n",
       "(1970-04-13 16:12:16, 1970-04-13 16:27:16]      8\n",
       "(1970-04-13 16:27:16, 1970-04-13 16:42:16]      4\n",
       "(1970-04-13 16:42:16, 1970-04-13 16:57:16]      3\n",
       "(1970-04-13 16:57:16, 1970-04-13 17:12:16]      4\n",
       "(1970-04-13 17:12:16, 1970-04-13 17:27:16]      4\n",
       "(1970-04-13 17:27:16, 1970-04-13 17:42:16]      9\n",
       "(1970-04-13 17:42:16, 1970-04-13 17:57:16]      4\n",
       "(1970-04-13 17:57:16, 1970-04-13 18:12:16]      4\n",
       "(1970-04-13 18:12:16, 1970-04-13 18:27:16]      4\n",
       "(1970-04-13 18:27:16, 1970-04-13 18:42:16]      5\n",
       "(1970-04-13 18:42:16, 1970-04-13 18:57:16]      7\n",
       "(1970-04-13 18:57:16, 1970-04-13 19:12:16]      1\n",
       "\n",
       "[9789 rows x 1 columns]"
      ]
     },
     "execution_count": 5,
     "metadata": {},
     "output_type": "execute_result"
    }
   ],
   "source": [
    "df = pd.DataFrame(dates,columns=['date'])\n",
    "df['bucket'] = pd.cut(df.date, bins = timeIntervals)\n",
    "df_count = df.groupby('bucket').count()\n",
    "df_count.rename(index=str,columns={'date':'count'})"
   ]
  },
  {
   "cell_type": "code",
   "execution_count": 6,
   "metadata": {},
   "outputs": [
    {
     "data": {
      "text/plain": [
       "<matplotlib.axes._subplots.AxesSubplot at 0x245972725c0>"
      ]
     },
     "execution_count": 6,
     "metadata": {},
     "output_type": "execute_result"
    },
    {
     "data": {
      "image/png": "[encoded data removed]",
      "text/plain": [
       "<Figure size 432x288 with 1 Axes>"
      ]
     },
     "metadata": {},
     "output_type": "display_data"
    }
   ],
   "source": [
    "sns.countplot(data=df,x='bucket')"
   ]
  },
  {
   "cell_type": "code",
   "execution_count": 7,
   "metadata": {},
   "outputs": [],
   "source": [
    "# Plotting for time of the day\n",
    "from datetime import date\n",
    "dt = datetime.today()\n",
    "time_data= [datetime.combine(dt,datetime.strptime(date, '%Y-%m-%d %X').time()) for date in data['login_time']]"
   ]
  },
  {
   "cell_type": "code",
   "execution_count": 8,
   "metadata": {},
   "outputs": [],
   "source": [
    "# Creating Intervals\n",
    "startTime = dt.replace(hour=0,minute=0,second=0,microsecond=0)\n",
    "endTime = dt.replace(hour=23,minute=59,second=59,microsecond=0)\n",
    "timediff = timedelta(weeks=0, days=0, hours=0, minutes=15, seconds=0)\n",
    "timeIntervals = pd.date_range(start = startTime, end = endTime, freq = '15 min')\n",
    "df_time = pd.DataFrame(time_data,columns=['time'])"
   ]
  },
  {
   "cell_type": "code",
   "execution_count": 9,
   "metadata": {},
   "outputs": [
    {
     "data": {
      "image/png": "[encoded data removed]",
      "text/plain": [
       "<Figure size 432x288 with 1 Axes>"
      ]
     },
     "metadata": {},
     "output_type": "display_data"
    }
   ],
   "source": [
    "# Assigning intervals and plotting the results\n",
    "df_time['bucket'],bins = pd.cut(df_time.time, bins = timeIntervals, retbins=True)\n",
    "totalTimeCounts = df_time.groupby('bucket').count()\n",
    "totalTimeCounts.plot(kind='bar')\n",
    "tickpos = [0,int(len(bins)/4),int(2*len(bins)/4),int(3*len(bins)/4),len(bins)-1]\n",
    "\n",
    "plt.xticks(tickpos,[0,int(24/4),int(24/2),int(3*24/4),24])\n",
    "plt.ylabel('Count')\n",
    "plt.xlabel('Time')\n",
    "plt.legend([])\n",
    "plt.show()\n"
   ]
  },
  {
   "cell_type": "code",
   "execution_count": 10,
   "metadata": {},
   "outputs": [],
   "source": [
    "weekday = [date.weekday() for date in dates]"
   ]
  },
  {
   "cell_type": "code",
   "execution_count": 11,
   "metadata": {},
   "outputs": [
    {
     "data": {
      "image/png": "[encoded data removed]",
      "text/plain": [
       "<Figure size 432x288 with 1 Axes>"
      ]
     },
     "metadata": {},
     "output_type": "display_data"
    }
   ],
   "source": [
    "bins = [0,1,2,3,4,5,6,7]\n",
    "labels = ['Monday','Tuesday','Wednesday','Thursday','Friday','Saturday','Sunday']\n",
    "plt.hist(weekday,bins)\n",
    "plt.xticks(bins, labels, rotation=90)\n",
    "plt.show()\n",
    "#g=sns.distplot(weekday,bins=bins,kde=True)\n",
    "#g.set(x= labels)\n",
    "#g.set_xticklabels(labels,rotation=30)"
   ]
  },
  {
   "cell_type": "markdown",
   "metadata": {},
   "source": [
    ">  __Plot shows usage is higher during weekends than the weekdays. Also there is continuous increase from Monday to Friday__"
   ]
  },
  {
   "cell_type": "markdown",
   "metadata": {},
   "source": [
    "## Part 2"
   ]
  },
  {
   "cell_type": "markdown",
   "metadata": {},
   "source": [
    "Experiment and metrics design The neighboring cities of Gotham and Metropolis have complementary circadian rhythms: on weekdays, Ultimate Gotham is most active at night, and Ultimate Metropolis is most active during the day. On weekends, there is reasonable activity in both cities. However, a toll bridge, with a two way toll, between the two cities causes driver partners to tend to be exclusive to each city. The Ultimate managers of city operations for the two cities have proposed an experiment to encourage driver partners to be available in both cities, by reimbursing all toll costs.\n",
    "\n",
    "What would you choose as the key measure of success of this experiment in encouraging driver partners to serve both cities, and why would you choose this metric?\n",
    "Describe a practical experiment you would design to compare the effectiveness of the proposed change in relation to the key measure of success. Please provide details on: a. how you will implement the experiment b. what statistical test(s) you will conduct to verify the significance of the observation c. how you would interpret the results and provide recommendations to the city operations team along with any caveats.\n",
    "There are a couple ways that the success of that experiment could be measured. The initial way would be to measure if the distance driven of drivers from both cities went up relatice to other cities. A more accurate measurement would likely be if the weekday driving percentage of drivers from both cities went up compared to the data from all other cities. Having drivers more flexibly in both cities should bring down the avg surge percentage in both cities. Ideally the number of cross city pairs (drivers with riders) should greatly increase.\n",
    "\n",
    "If the percentage of cross city driver/rider pairs is a measurement that should dirrectly show how effective the result is.\n",
    "\n",
    "a. Ideally you find two weeks that are similar, two weeks right next to eachother without any major holidays or events should be statistically similar. Then you use one of the weeks as a control to measure against (go with the first, because that is the existing setup and couldn't be changed by a past week. You then compare the results of the normal week and treatment week (where you gave the wavers). The comparison is done with a z-test to see if the mean is possible due to random deviation.\n",
    "\n",
    "b. statistical tests - z-test A z-test is used to determine whether two samples have the same mean and therefore are statistically similar sets of data. It assumes normal distribution and there must be more than 30 samples.\n",
    "\n",
    "The code would look roughly like: \"from statsmodels.stats import weightstats as stests testResult=stests.ztest(treatmentData,value=controlMean)\"\n",
    "\n",
    "where controlMean is equal to the mean of the control group and the treatmentData would be the data list from the other group.\n",
    "\n",
    "c. interpret If the testResult (the p-value) is <.025 then the difference in mean is statistically significant and the toll reimbursements were successful. So if the p-value is less than .025 the mean of the test with the reimbursement had a statistically signifigant change in the number of driver/rider pairs from each of the two cities. It would be wise to other compare to a completely unrelated city in the same week to help verify that other data such as press could not have affected the results."
   ]
  },
  {
   "cell_type": "markdown",
   "metadata": {},
   "source": [
    "## Part3"
   ]
  },
  {
   "cell_type": "markdown",
   "metadata": {},
   "source": [
    "Predictive modeling Ultimate is interested in predicting rider retention. To help explore this question, we have provided a sample dataset of a cohort of users who signed up for an Ultimate account in January 2014. The data was pulled several months later; we consider a user retained if they were “active” (i.e. took a trip) in the preceding 30 days. We would like you to use this data set to help understand what factors are the best predictors for retention, and offer suggestions to operationalize those insights to help Ultimate. The data is in the attached file ultimate_data_challenge.json. See below for a detailed description of the dataset. Please include any code you wrote for the analysis and delete the dataset when you have finished with the challenge.\n",
    "\n",
    "Perform any cleaning, exploratory analysis, and/or visualizations to use the provided data for this analysis (a few sentences/plots describing your approach will suffice). What fraction of the observed users were retained?\n",
    "Build a predictive model to help Ultimate determine whether or not a user will be active in their 6th month on the system. Discuss why you chose your approach, what alternatives you considered, and any concerns you have. How valid is your model? Include any key indicators of model performance.\n",
    "Briefly discuss how Ultimate might leverage the insights gained from the model to improve its longterm rider retention (again, a few sentences will suffice)"
   ]
  },
  {
   "cell_type": "code",
   "execution_count": 12,
   "metadata": {},
   "outputs": [],
   "source": [
    "# Loading data\n",
    "import json\n",
    "file_open2 = open('ultimate_data_challenge.json')\n",
    "file_str2 = file_open2.read()\n",
    "json_data = json.loads(file_str2)\n",
    "data2 = pd.DataFrame.from_dict(json_data)"
   ]
  },
  {
   "cell_type": "code",
   "execution_count": 13,
   "metadata": {},
   "outputs": [
    {
     "name": "stdout",
     "output_type": "stream",
     "text": [
      "   avg_dist  avg_rating_by_driver  avg_rating_of_driver  avg_surge  \\\n",
      "0      3.67                   5.0                   4.7        1.1   \n",
      "1      8.26                   5.0                   5.0        1.0   \n",
      "\n",
      "             city last_trip_date    phone signup_date  surge_pct  \\\n",
      "0  King's Landing     2014-06-17   iPhone  2014-01-25       15.4   \n",
      "1         Astapor     2014-05-05  Android  2014-01-29        0.0   \n",
      "\n",
      "   trips_in_first_30_days  ultimate_black_user  weekday_pct  retention  \n",
      "0                       4                 True         46.2       True  \n",
      "1                       0                False         50.0      False  \n"
     ]
    }
   ],
   "source": [
    "#change times from str to datetimes\n",
    "data2['last_trip_date'] = pd.to_datetime(data2.last_trip_date,format='%Y-%m-%d')\n",
    "data2['signup_date'] = pd.to_datetime(data2.signup_date,format='%Y-%m-%d')\n",
    "\n",
    "datePulledDate = max(data2['last_trip_date'])\n",
    "cutoff = datePulledDate-timedelta(days=30)\n",
    "data2['retention'] = data2.last_trip_date>=cutoff\n",
    "print(data2[:2])"
   ]
  },
  {
   "cell_type": "code",
   "execution_count": 14,
   "metadata": {},
   "outputs": [
    {
     "name": "stdout",
     "output_type": "stream",
     "text": [
      "37.608 percent active\n"
     ]
    }
   ],
   "source": [
    "print(100*sum(data2.retention)/len(data2),'percent active')"
   ]
  },
  {
   "cell_type": "code",
   "execution_count": 15,
   "metadata": {},
   "outputs": [
    {
     "data": {
      "image/png": "[encoded data removed]",
      "text/plain": [
       "<Figure size 432x288 with 1 Axes>"
      ]
     },
     "metadata": {},
     "output_type": "display_data"
    }
   ],
   "source": [
    "#create a general plot instance to show the different data\n",
    "import numpy as np\n",
    "import matplotlib.pyplot as plt\n",
    "\n",
    "#general plot\n",
    "def Plotbar(category = 'city'):\n",
    "    x_ret = data2[data2.retention==True][category]\n",
    "    x_lost = data2[data2.retention==False][category]\n",
    "    vc_ret = x_ret.value_counts()\n",
    "    vc_lost = x_lost.value_counts()\n",
    "    vc_ret.sort_index()\n",
    "    vc_lost.sort_index()\n",
    "    N=len(vc_lost)\n",
    "    #ind = np.arange(N)    # the x locations for the groups\n",
    "    width = 0.35       # the width of the bars: can also be len(x) sequence\n",
    "\n",
    "    p1 = plt.bar(list(vc_lost.keys()), vc_ret, width)\n",
    "    p2 = plt.bar(list(vc_lost.keys()), vc_lost, width, bottom=vc_ret)\n",
    "\n",
    "    plt.ylabel('Scores')\n",
    "    plt.title('Retention by ' +category)\n",
    "    plt.xticks(list(vc_lost.keys()), list(vc_lost.keys()))\n",
    "    plt.legend((p1[0], p2[0]), ('Retained', 'Lost'))\n",
    "\n",
    "    plt.show()\n",
    "\n",
    "Plotbar('city')"
   ]
  },
  {
   "cell_type": "markdown",
   "metadata": {},
   "source": [
    ">  __Winterfell have higher number of Users and so is the Lost users. King's Landing have retained more customers.__"
   ]
  },
  {
   "cell_type": "code",
   "execution_count": 16,
   "metadata": {},
   "outputs": [
    {
     "data": {
      "image/png": "[encoded data removed]",
      "text/plain": [
       "<Figure size 432x288 with 1 Axes>"
      ]
     },
     "metadata": {},
     "output_type": "display_data"
    }
   ],
   "source": [
    "Plotbar('phone')"
   ]
  },
  {
   "cell_type": "markdown",
   "metadata": {},
   "source": [
    ">  __iPhone have more lost Users compared to Android__"
   ]
  },
  {
   "cell_type": "code",
   "execution_count": 17,
   "metadata": {},
   "outputs": [
    {
     "data": {
      "image/png": "[encoded data removed]",
      "text/plain": [
       "<Figure size 432x288 with 1 Axes>"
      ]
     },
     "metadata": {},
     "output_type": "display_data"
    }
   ],
   "source": [
    "Plotbar('ultimate_black_user')"
   ]
  },
  {
   "cell_type": "markdown",
   "metadata": {},
   "source": [
    ">  __Users who used uber black had much higher retention and whether that is correlation or causation should be investigated__"
   ]
  },
  {
   "cell_type": "code",
   "execution_count": 18,
   "metadata": {},
   "outputs": [
    {
     "data": {
      "image/png": "[encoded data removed]",
      "text/plain": [
       "<Figure size 432x288 with 1 Axes>"
      ]
     },
     "metadata": {},
     "output_type": "display_data"
    },
    {
     "data": {
      "image/png": "[encoded data removed]",
      "text/plain": [
       "<Figure size 432x288 with 1 Axes>"
      ]
     },
     "metadata": {},
     "output_type": "display_data"
    }
   ],
   "source": [
    "# Plotting other metrics\n",
    "def dfPlot(category,binpos=None,ytickpos=None):\n",
    "    x_ret = data2[data2.retention==True][category]\n",
    "    x_lost = data2[data2.retention==False][category]\n",
    "    vc_ret = x_ret.value_counts()\n",
    "    vc_lost = x_lost.value_counts()\n",
    "    #vc_ret.sort_index()\n",
    "    vc_lost.sort_index()\n",
    "    N=len(vc_lost)\n",
    "    #ind = np.arange(N)    # the x locations for the groups\n",
    "    #width = 0.35       # the width of the bars: can also be len(x) sequence\n",
    "\n",
    "    p1 = plt.hist(vc_ret, bins= binpos)\n",
    "\n",
    "    plt.ylabel('Scores')\n",
    "    plt.title('avg dist ret')\n",
    "    if ytickpos != None:\n",
    "        plt.yticks(ytickpos)\n",
    "    plt.show()\n",
    "    p2 = plt.hist(vc_lost, bins= binpos)\n",
    "    plt.ylabel('Scores')\n",
    "    plt.title('avg dist lost')\n",
    "    plt.show()\n",
    "    \n",
    "dfPlot('avg_dist',[0,10,20,30,40,50,60],[250,500,750,1000,1250,1500,1750])"
   ]
  },
  {
   "cell_type": "code",
   "execution_count": 19,
   "metadata": {},
   "outputs": [
    {
     "name": "stdout",
     "output_type": "stream",
     "text": [
      "avg_rating_by_driver\n",
      "Retained mean:  4.762771739130456\n"
     ]
    },
    {
     "data": {
      "image/png": "[encoded data removed]",
      "text/plain": [
       "<Figure size 432x288 with 1 Axes>"
      ]
     },
     "metadata": {},
     "output_type": "display_data"
    },
    {
     "name": "stdout",
     "output_type": "stream",
     "text": [
      "Lost mean:  4.787464148754435\n"
     ]
    },
    {
     "data": {
      "image/png": "[encoded data removed]",
      "text/plain": [
       "<Figure size 432x288 with 1 Axes>"
      ]
     },
     "metadata": {},
     "output_type": "display_data"
    }
   ],
   "source": [
    "x_ret = data2[data2.retention==True]['avg_rating_by_driver']\n",
    "x_lost = data2[data2.retention==False]['avg_rating_by_driver']\n",
    "vc_ret = x_ret.value_counts()\n",
    "vc_lost = x_lost.value_counts()\n",
    "print('avg_rating_by_driver')\n",
    "print('Retained mean: ',np.mean(x_ret))\n",
    "plt.bar(list(vc_ret.keys()), vc_ret)\n",
    "plt.show()\n",
    "print('Lost mean: ',np.mean(x_lost))\n",
    "plt.bar(list(vc_lost.keys()), vc_lost)\n",
    "plt.show()"
   ]
  },
  {
   "cell_type": "code",
   "execution_count": 20,
   "metadata": {},
   "outputs": [
    {
     "name": "stdout",
     "output_type": "stream",
     "text": [
      "avg_rating_of_driver\n",
      "Retained mean:  4.592930351735465\n"
     ]
    },
    {
     "data": {
      "image/png": "[encoded data removed]",
      "text/plain": [
       "<Figure size 432x288 with 1 Axes>"
      ]
     },
     "metadata": {},
     "output_type": "display_data"
    },
    {
     "name": "stdout",
     "output_type": "stream",
     "text": [
      "lost mean:  4.607556868776835\n"
     ]
    },
    {
     "data": {
      "image/png": "[encoded data removed]",
      "text/plain": [
       "<Figure size 432x288 with 1 Axes>"
      ]
     },
     "metadata": {},
     "output_type": "display_data"
    }
   ],
   "source": [
    "x_ret = data2[data2.retention==True]['avg_rating_of_driver']\n",
    "x_lost = data2[data2.retention==False]['avg_rating_of_driver']\n",
    "vc_ret = x_ret.value_counts()\n",
    "vc_lost = x_lost.value_counts()\n",
    "print('avg_rating_of_driver')\n",
    "print('Retained mean: ',np.mean(x_ret))\n",
    "plt.bar(list(vc_ret.keys()), vc_ret)\n",
    "plt.show()\n",
    "print('lost mean: ',np.mean(x_lost))\n",
    "plt.bar(list(vc_lost.keys()), vc_lost)\n",
    "plt.show()"
   ]
  },
  {
   "cell_type": "code",
   "execution_count": 21,
   "metadata": {},
   "outputs": [
    {
     "name": "stdout",
     "output_type": "stream",
     "text": [
      "surge_pct\n",
      "Retained mean:  9.152797277175118\n"
     ]
    },
    {
     "data": {
      "image/png": "[encoded data removed]",
      "text/plain": [
       "<Figure size 432x288 with 1 Axes>"
      ]
     },
     "metadata": {},
     "output_type": "display_data"
    },
    {
     "name": "stdout",
     "output_type": "stream",
     "text": [
      "lost mean:  8.666739325554499\n"
     ]
    },
    {
     "data": {
      "image/png": "[encoded data removed]",
      "text/plain": [
       "<Figure size 432x288 with 1 Axes>"
      ]
     },
     "metadata": {},
     "output_type": "display_data"
    }
   ],
   "source": [
    "x_ret = data2[data2.retention==True]['surge_pct']\n",
    "x_lost = data2[data2.retention==False]['surge_pct']\n",
    "vc_ret = x_ret.value_counts()\n",
    "vc_lost = x_lost.value_counts()\n",
    "print('surge_pct')\n",
    "print('Retained mean: ',np.mean(x_ret))\n",
    "plt.bar(list(vc_ret.keys()), vc_ret)\n",
    "plt.show()\n",
    "print('lost mean: ',np.mean(x_lost))\n",
    "plt.bar(list(vc_lost.keys()), vc_lost)\n",
    "plt.show()"
   ]
  },
  {
   "cell_type": "code",
   "execution_count": 22,
   "metadata": {},
   "outputs": [
    {
     "name": "stdout",
     "output_type": "stream",
     "text": [
      "Retained mean:  1.073809295894508\n"
     ]
    },
    {
     "data": {
      "image/png": "[encoded data removed]",
      "text/plain": [
       "<Figure size 432x288 with 1 Axes>"
      ]
     },
     "metadata": {},
     "output_type": "display_data"
    },
    {
     "name": "stdout",
     "output_type": "stream",
     "text": [
      "lost mean:  1.075339146044379\n"
     ]
    },
    {
     "data": {
      "image/png": "[encoded data removed]",
      "text/plain": [
       "<Figure size 432x288 with 1 Axes>"
      ]
     },
     "metadata": {},
     "output_type": "display_data"
    }
   ],
   "source": [
    "x_ret = data2[data2.retention==True]['avg_surge']\n",
    "x_lost = data2[data2.retention==False]['avg_surge']\n",
    "vc_ret = x_ret.value_counts()\n",
    "vc_lost = x_lost.value_counts()\n",
    "print('Retained mean: ',np.mean(x_ret))\n",
    "plt.bar(list(vc_ret.keys()), vc_ret)\n",
    "plt.show()\n",
    "print('lost mean: ',np.mean(x_lost))\n",
    "plt.bar(list(vc_lost.keys()), vc_lost)\n",
    "plt.show()"
   ]
  },
  {
   "cell_type": "code",
   "execution_count": 23,
   "metadata": {},
   "outputs": [
    {
     "name": "stdout",
     "output_type": "stream",
     "text": [
      "weekday_pct\n",
      "Retained mean:  61.3890342480323\n"
     ]
    },
    {
     "data": {
      "image/png": "[encoded data removed]",
      "text/plain": [
       "<Figure size 432x288 with 1 Axes>"
      ]
     },
     "metadata": {},
     "output_type": "display_data"
    },
    {
     "name": "stdout",
     "output_type": "stream",
     "text": [
      "lost mean:  60.64703167072686\n"
     ]
    },
    {
     "data": {
      "image/png": "[encoded data removed]",
      "text/plain": [
       "<Figure size 432x288 with 1 Axes>"
      ]
     },
     "metadata": {},
     "output_type": "display_data"
    }
   ],
   "source": [
    "x_ret = data2[data2.retention==True]['weekday_pct']\n",
    "x_lost = data2[data2.retention==False]['weekday_pct']\n",
    "vc_ret = x_ret.value_counts()\n",
    "vc_lost = x_lost.value_counts()\n",
    "print('weekday_pct')\n",
    "print('Retained mean: ',np.mean(x_ret))\n",
    "plt.bar(list(vc_ret.keys()), vc_ret)\n",
    "plt.show()\n",
    "print('lost mean: ',np.mean(x_lost))\n",
    "plt.bar(list(vc_lost.keys()), vc_lost)\n",
    "plt.show()"
   ]
  },
  {
   "cell_type": "code",
   "execution_count": 24,
   "metadata": {},
   "outputs": [
    {
     "name": "stdout",
     "output_type": "stream",
     "text": [
      "181 days 00:00:00\n"
     ]
    }
   ],
   "source": [
    "print(max(data2.last_trip_date)-min(data2.signup_date))"
   ]
  },
  {
   "cell_type": "code",
   "execution_count": 25,
   "metadata": {},
   "outputs": [
    {
     "data": {
      "text/plain": [
       "avg_dist                     0\n",
       "avg_rating_by_driver       201\n",
       "avg_rating_of_driver      8122\n",
       "avg_surge                    0\n",
       "city                         0\n",
       "last_trip_date               0\n",
       "phone                        0\n",
       "signup_date                  0\n",
       "surge_pct                    0\n",
       "trips_in_first_30_days       0\n",
       "ultimate_black_user          0\n",
       "weekday_pct                  0\n",
       "retention                    0\n",
       "signup_date_year             0\n",
       "signup_date_month            0\n",
       "signup_date_day              0\n",
       "dtype: int64"
      ]
     },
     "execution_count": 25,
     "metadata": {},
     "output_type": "execute_result"
    }
   ],
   "source": [
    "#import needed functions\n",
    "from sklearn.model_selection import train_test_split\n",
    "from sklearn.linear_model import SGDClassifier\n",
    "from sklearn.metrics import classification_report\n",
    "from sklearn.ensemble import RandomForestClassifier\n",
    "\n",
    "#eliminate all non-numerical data before classification\n",
    "data2['signup_date_year'] = pd.Series([date.year for date in data2['signup_date']])\n",
    "data2['signup_date_month'] = pd.Series([date.month for date in data2['signup_date']])\n",
    "data2['signup_date_day'] = pd.Series([date.day for date in data2['signup_date']])\n",
    "\n",
    "data2['phone'] = data2['phone'].astype(\"category\").cat.codes\n",
    "data2['city'] = data2['city'].astype(\"category\").cat.codes\n",
    "data2.isnull().sum()"
   ]
  },
  {
   "cell_type": "code",
   "execution_count": 26,
   "metadata": {},
   "outputs": [
    {
     "name": "stdout",
     "output_type": "stream",
     "text": [
      "5.0\n"
     ]
    }
   ],
   "source": [
    "print(data2['avg_rating_by_driver'].median())"
   ]
  },
  {
   "cell_type": "code",
   "execution_count": 27,
   "metadata": {},
   "outputs": [],
   "source": [
    "data2['avg_rating_by_driver'] = data2['avg_rating_by_driver'].fillna(value = data2['avg_rating_by_driver'].median())\n",
    "data2['avg_rating_of_driver'] = data2['avg_rating_of_driver'].fillna(value = data2['avg_rating_of_driver'].median())"
   ]
  },
  {
   "cell_type": "code",
   "execution_count": 28,
   "metadata": {},
   "outputs": [
    {
     "name": "stdout",
     "output_type": "stream",
     "text": [
      "             precision    recall  f1-score   support\n",
      "\n",
      "      False       0.78      0.86      0.82     10305\n",
      "       True       0.72      0.59      0.65      6195\n",
      "\n",
      "avg / total       0.75      0.76      0.75     16500\n",
      "\n"
     ]
    }
   ],
   "source": [
    "#randomly split the data into training and test sets\n",
    "X_train, X_test, y_train, y_test = train_test_split(\\\n",
    "    data2.drop('retention',axis=1)\\\n",
    "    .drop('signup_date',axis=1)\\\n",
    "    .drop('last_trip_date',axis=1),\\\n",
    "    data2.retention, \\\n",
    "    test_size=0.33, \\\n",
    "    random_state=42)\n",
    "\n",
    "#instatiate and train classifier\n",
    "clf = RandomForestClassifier(class_weight='balanced_subsample')\n",
    "clf.fit(X_train, y_train)\n",
    "predictions = clf.predict(X_test)\n",
    "report = classification_report(y_true = np.array(y_test), y_pred = predictions)\n",
    "print(report)"
   ]
  },
  {
   "cell_type": "code",
   "execution_count": 29,
   "metadata": {},
   "outputs": [
    {
     "name": "stdout",
     "output_type": "stream",
     "text": [
      "Feature ranking:\n",
      "1. avg_dist (0.210432)\n",
      "2. avg_rating_by_driver (0.140604)\n",
      "3. signup_date_day (0.135309)\n",
      "4. weekday_pct (0.114188)\n",
      "5. trips_in_first_30_days (0.076024)\n",
      "6. city (0.075133)\n",
      "7. avg_rating_of_driver (0.071339)\n",
      "8. surge_pct (0.063376)\n",
      "9. avg_surge (0.044934)\n",
      "10. phone (0.037088)\n",
      "11. ultimate_black_user (0.031574)\n",
      "12. signup_date_month (0.000000)\n",
      "13. signup_date_year (0.000000)\n"
     ]
    },
    {
     "data": {
      "image/png": "[encoded data removed]",
      "text/plain": [
       "<Figure size 432x288 with 1 Axes>"
      ]
     },
     "metadata": {},
     "output_type": "display_data"
    }
   ],
   "source": [
    "#back calculate which features have the highest predictive importance for retention\n",
    "importances = clf.feature_importances_\n",
    "std = np.std([tree.feature_importances_ for tree in clf.estimators_],\n",
    "             axis=0)\n",
    "indices = np.argsort(importances)[::-1]\n",
    "\n",
    "# Print the feature ranking\n",
    "print(\"Feature ranking:\")\n",
    "\n",
    "for f in range(X_train.shape[1]):\n",
    "    print(\"%d. %s (%f)\" % (f + 1, X_train.columns.values[indices[f]], importances[indices[f]]))\n",
    "    #print(\"%d. %d (%f)\" % (f + 1, indices[f], importances[indices[f]]))\n",
    "\n",
    "    \n",
    "# Plot the feature importances of the forest\n",
    "plt.figure()\n",
    "plt.title(\"Feature importances\")\n",
    "plt.bar(range(X_train.shape[1]), importances[indices],\n",
    "       color=\"r\", yerr=std[indices], align=\"center\")\n",
    "#plt.xticks(X_train.columns.values, indices)\n",
    "plt.xticks(range(X_train.shape[1]), X_train.columns.values[indices],rotation=90)\n",
    "plt.xlim([-1, X_train.shape[1]])\n",
    "plt.show()"
   ]
  },
  {
   "cell_type": "code",
   "execution_count": null,
   "metadata": {},
   "outputs": [],
   "source": []
  }
 ],
 "metadata": {
  "kernelspec": {
   "display_name": "Python 3",
   "language": "python",
   "name": "python3"
  },
  "language_info": {
   "codemirror_mode": {
    "name": "ipython",
    "version": 3
   },
   "file_extension": ".py",
   "mimetype": "text/x-python",
   "name": "python",
   "nbconvert_exporter": "python",
   "pygments_lexer": "ipython3",
   "version": "3.6.4"
  }
 },
 "nbformat": 4,
 "nbformat_minor": 2
}
