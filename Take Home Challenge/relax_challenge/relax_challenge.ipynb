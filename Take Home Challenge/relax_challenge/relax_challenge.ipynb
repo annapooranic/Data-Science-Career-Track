{
 "cells": [
  {
   "cell_type": "code",
   "execution_count": 1,
   "metadata": {},
   "outputs": [],
   "source": [
    "# import necessary libraries\n",
    "import pandas as pd\n",
    "from datetime import datetime,timedelta\n",
    "import re"
   ]
  },
  {
   "cell_type": "code",
   "execution_count": 2,
   "metadata": {},
   "outputs": [],
   "source": [
    "# Read the file\n",
    "users = pd.read_csv('takehome_users.csv',encoding=\"ISO-8859-1\", index_col='object_id')"
   ]
  },
  {
   "cell_type": "code",
   "execution_count": 4,
   "metadata": {},
   "outputs": [],
   "source": [
    "# Read engagement file\n",
    "engagement = pd.read_csv('takehome_user_engagement.csv',encoding=\"ISO-8859-1\")\n",
    "engagement['time_stamp'] =  pd.to_datetime(user_engagement.time_stamp,format='%Y-%m-%d %X')"
   ]
  },
  {
   "cell_type": "code",
   "execution_count": 5,
   "metadata": {},
   "outputs": [],
   "source": [
    "Adoption = pd.DataFrame(pd.unique(engagement.user_id),columns=[\"user_id\"])\n",
    "Adoption['active'] = 0"
   ]
  },
  {
   "cell_type": "code",
   "execution_count": 6,
   "metadata": {},
   "outputs": [],
   "source": [
    "for user, activeStatus in Adoption.iterrows():\n",
    "    \n",
    "    if len(engagement[user_engagement.user_id==user])>3:\n",
    "        minTime_diff = timedelta(days=99)\n",
    "        tempArray = engagement[engagement.user_id==user].reset_index()\n",
    "        for place in range(len(tempArray)-2):\n",
    "            time_dif = (tempArray.loc[place+2].time_stamp-tempArray.loc[place].time_stamp)\n",
    "            if (minTime_diff > time_dif):\n",
    "                minTime_diff = time_dif\n",
    "        if minTime_diff <= timedelta(days=7):\n",
    "            Adoption.loc[user,'active'] = 1"
   ]
  },
  {
   "cell_type": "code",
   "execution_count": 9,
   "metadata": {},
   "outputs": [
    {
     "name": "stdout",
     "output_type": "stream",
     "text": [
      "         creation_time               name                       email  \\\n",
      "1  2014-04-22 03:53:30     Clausen August    AugustCClausen@yahoo.com   \n",
      "2  2013-11-15 03:45:04      Poole Matthew      MatthewPoole@gustr.com   \n",
      "3  2013-03-19 23:14:52  Bottrill Mitchell  MitchellBottrill@gustr.com   \n",
      "4  2013-05-21 08:09:28    Clausen Nicklas   NicklasSClausen@yahoo.com   \n",
      "5  2013-01-17 10:14:20          Raw Grace          GraceRaw@yahoo.com   \n",
      "\n",
      "  creation_source  last_session_creation_time  opted_in_to_mailing_list  \\\n",
      "1    GUEST_INVITE                1.398139e+09                         1   \n",
      "2      ORG_INVITE                1.396238e+09                         0   \n",
      "3      ORG_INVITE                1.363735e+09                         0   \n",
      "4    GUEST_INVITE                1.369210e+09                         0   \n",
      "5    GUEST_INVITE                1.358850e+09                         0   \n",
      "\n",
      "   enabled_for_marketing_drip  org_id  invited_by_user_id  user_id  active  \n",
      "1                           0      11             10803.0        2       0  \n",
      "2                           0       1               316.0        3       1  \n",
      "3                           0      94              1525.0        4       0  \n",
      "4                           0       1              5151.0        5       0  \n",
      "5                           0     193              5240.0        6       0  \n"
     ]
    }
   ],
   "source": [
    "#Joining data from two files\n",
    "data = users.join(Adoption,how='inner')\n",
    "print(data.head())"
   ]
  },
  {
   "cell_type": "code",
   "execution_count": 10,
   "metadata": {},
   "outputs": [],
   "source": [
    "# Date Extraction\n",
    "data['creation_time'] = pd.to_datetime(data.creation_time,format='%Y-%m-%d %X')"
   ]
  },
  {
   "cell_type": "code",
   "execution_count": 11,
   "metadata": {},
   "outputs": [],
   "source": [
    "# Email extraction\n",
    "def extractEmailSite(email=None):\n",
    "    if email != None:\n",
    "        site = re.search('@(.+?)\\.', email).group(1)\n",
    "        return site\n",
    "    else:\n",
    "        return None\n",
    "data['email_site'] = pd.Series([extractEmailSite(email) for email in data['email']])"
   ]
  },
  {
   "cell_type": "code",
   "execution_count": 12,
   "metadata": {},
   "outputs": [],
   "source": [
    "data['email_site_cat'] = data['email_site'].astype(\"category\").cat.codes\n",
    "data['creation_source_cat'] = data['creation_source'].astype(\"category\").cat.codes"
   ]
  },
  {
   "cell_type": "code",
   "execution_count": 13,
   "metadata": {},
   "outputs": [],
   "source": [
    "data['last_session_creation_time'] = data['last_session_creation_time'].map(lambda data: datetime.\\\n",
    "                                            fromtimestamp(int(data)).strftime('%Y-%m-%d %H:%M:%S'),na_action='ignore')\n",
    "\n",
    "data['last_session_creation_time'] = pd.to_datetime(data['last_session_creation_time'])\n",
    "\n",
    "data['total_time_used'] = data['last_session_creation_time'] - data['creation_time']\n",
    "\n",
    "data = data[data['total_time_used'] >= timedelta(days=0)]\n",
    "\n",
    "data['total_time_used'] = data['total_time_used'].map(lambda data: data.total_seconds())"
   ]
  },
  {
   "cell_type": "code",
   "execution_count": 14,
   "metadata": {},
   "outputs": [
    {
     "name": "stdout",
     "output_type": "stream",
     "text": [
      "  last_session_creation_time  opted_in_to_mailing_list  \\\n",
      "2        2014-03-30 23:45:04                         0   \n",
      "4        2013-05-22 04:09:28                         0   \n",
      "5        2013-01-22 05:14:20                         0   \n",
      "6        2013-12-18 22:37:06                         0   \n",
      "7        2012-12-20 08:24:32                         0   \n",
      "\n",
      "   enabled_for_marketing_drip  org_id  invited_by_user_id  user_id  active  \\\n",
      "2                           0       1               316.0        3       1   \n",
      "4                           0       1              5151.0        5       0   \n",
      "5                           0     193              5240.0        6       0   \n",
      "6                           0     197             11241.0        7       0   \n",
      "7                           1      37                 NaN       10       0   \n",
      "\n",
      "   email_site_cat  creation_source_cat  total_time_used  \n",
      "2             229                    1       11736000.0  \n",
      "4             819                    0          72000.0  \n",
      "5             819                    0         414000.0  \n",
      "6             323                    0         154800.0  \n",
      "7             819                    3         327600.0  \n"
     ]
    }
   ],
   "source": [
    "# Drop unused columns\n",
    "encoded_data = data.drop('email_site',axis=1).drop('creation_source',axis=1)\\\n",
    "                   .drop('name',axis=1).drop('creation_time',axis=1)\\\n",
    "                   .drop('email',axis=1)\n",
    "print(encoded_data.head())"
   ]
  },
  {
   "cell_type": "code",
   "execution_count": 15,
   "metadata": {},
   "outputs": [
    {
     "data": {
      "text/plain": [
       "last_session_creation_time       0\n",
       "opted_in_to_mailing_list         0\n",
       "enabled_for_marketing_drip       0\n",
       "org_id                           0\n",
       "invited_by_user_id            1890\n",
       "user_id                          0\n",
       "active                           0\n",
       "email_site_cat                   0\n",
       "creation_source_cat              0\n",
       "total_time_used                  0\n",
       "dtype: int64"
      ]
     },
     "execution_count": 15,
     "metadata": {},
     "output_type": "execute_result"
    }
   ],
   "source": [
    "#check null values\n",
    "encoded_data.isnull().sum()"
   ]
  },
  {
   "cell_type": "code",
   "execution_count": 16,
   "metadata": {},
   "outputs": [],
   "source": [
    "#Remove null values - invited_by_user_id\n",
    "encoded_data['invited_by_user_id'].fillna(0, inplace=True)"
   ]
  },
  {
   "cell_type": "code",
   "execution_count": 17,
   "metadata": {},
   "outputs": [
    {
     "data": {
      "text/plain": [
       "last_session_creation_time    0\n",
       "opted_in_to_mailing_list      0\n",
       "enabled_for_marketing_drip    0\n",
       "org_id                        0\n",
       "invited_by_user_id            0\n",
       "user_id                       0\n",
       "active                        0\n",
       "email_site_cat                0\n",
       "creation_source_cat           0\n",
       "total_time_used               0\n",
       "dtype: int64"
      ]
     },
     "execution_count": 17,
     "metadata": {},
     "output_type": "execute_result"
    }
   ],
   "source": [
    "encoded_data.dropna(axis=0, inplace=True)\n",
    "encoded_data.isnull().sum()"
   ]
  },
  {
   "cell_type": "code",
   "execution_count": 18,
   "metadata": {},
   "outputs": [],
   "source": [
    "import matplotlib.pyplot as plt\n",
    "from sklearn.model_selection import train_test_split\n",
    "from sklearn.metrics import classification_report\n",
    "from sklearn.ensemble import RandomForestClassifier\n",
    "import numpy as np"
   ]
  },
  {
   "cell_type": "code",
   "execution_count": 19,
   "metadata": {},
   "outputs": [],
   "source": [
    "X = encoded_data.drop(['active','last_session_creation_time'],axis=1)"
   ]
  },
  {
   "cell_type": "code",
   "execution_count": 20,
   "metadata": {},
   "outputs": [
    {
     "name": "stdout",
     "output_type": "stream",
     "text": [
      "      opted_in_to_mailing_list  enabled_for_marketing_drip  org_id  \\\n",
      "6710                         1                           0     121   \n",
      "2781                         0                           0     360   \n",
      "59                           0                           0     325   \n",
      "7514                         1                           1     279   \n",
      "4111                         0                           0      37   \n",
      "\n",
      "      invited_by_user_id  user_id  email_site_cat  creation_source_cat  \\\n",
      "6710                 0.0     9146             222                    3   \n",
      "2781              9732.0     3780             222                    1   \n",
      "59                   0.0       77             222                    4   \n",
      "7514                 0.0    10218             819                    3   \n",
      "4111                 0.0     5614              96                    3   \n",
      "\n",
      "      total_time_used  \n",
      "6710         158400.0  \n",
      "2781         158400.0  \n",
      "59          7416000.0  \n",
      "7514         158400.0  \n",
      "4111        1281600.0  \n",
      "Training Report\n",
      "             precision    recall  f1-score   support\n",
      "\n",
      "          0       0.99      1.00      1.00      2049\n",
      "          1       1.00      0.98      0.99       803\n",
      "\n",
      "avg / total       1.00      1.00      1.00      2852\n",
      "\n",
      "Testing Report\n",
      "             precision    recall  f1-score   support\n",
      "\n",
      "          0       0.95      0.96      0.96      1009\n",
      "          1       0.91      0.88      0.89       396\n",
      "\n",
      "avg / total       0.94      0.94      0.94      1405\n",
      "\n"
     ]
    }
   ],
   "source": [
    "# Split Training and Test Data\n",
    "X_train, X_test, y_train, y_test = train_test_split(X,\\\n",
    "    encoded_data.active, \\\n",
    "    test_size=0.33, \\\n",
    "    random_state=42,stratify=encoded_data.active)\n",
    "\n",
    "#instatiate and train classifier\n",
    "from sklearn.tree import DecisionTreeClassifier\n",
    "clf = RandomForestClassifier(n_estimators=10,class_weight='balanced_subsample')#DecisionTreeClassifier()\n",
    "print(X_train.head())\n",
    "clf.fit(X_train, y_train)\n",
    "predictions = clf.predict(X_train)\n",
    "\n",
    "print('Training Report')\n",
    "report = classification_report(y_true = np.array(y_train), y_pred = predictions)\n",
    "print(report)\n",
    "print('Testing Report')\n",
    "predictions = clf.predict(X_test)\n",
    "report = classification_report(y_true = np.array(y_test), y_pred = predictions)\n",
    "print(report)"
   ]
  },
  {
   "cell_type": "markdown",
   "metadata": {},
   "source": [
    ">  __ The model performed well on Training data than test data__"
   ]
  },
  {
   "cell_type": "code",
   "execution_count": 21,
   "metadata": {},
   "outputs": [
    {
     "name": "stdout",
     "output_type": "stream",
     "text": [
      "Feature ranking:\n",
      "1. total_time_used (0.800879)\n",
      "2. user_id (0.059157)\n",
      "3. org_id (0.052209)\n",
      "4. invited_by_user_id (0.035984)\n",
      "5. email_site_cat (0.024412)\n",
      "6. creation_source_cat (0.017816)\n",
      "7. opted_in_to_mailing_list (0.005665)\n",
      "8. enabled_for_marketing_drip (0.003878)\n"
     ]
    },
    {
     "data": {
      "image/png": "[encoded data removed]",
      "text/plain": [
       "<Figure size 432x288 with 1 Axes>"
      ]
     },
     "metadata": {},
     "output_type": "display_data"
    }
   ],
   "source": [
    "#feature engineering - finding features of importance\n",
    "importances = clf.feature_importances_\n",
    "std = np.std([tree.feature_importances_ for tree in clf.estimators_],\n",
    "             axis=0)\n",
    "indices = np.argsort(importances)[::-1]\n",
    "\n",
    "# Print the feature ranking\n",
    "print(\"Feature ranking:\")\n",
    "\n",
    "for f in range(X_train.shape[1]):\n",
    "    print(\"%d. %s (%f)\" % (f + 1, X_train.columns.values[indices[f]], importances[indices[f]]))\n",
    "    #print(\"%d. %d (%f)\" % (f + 1, indices[f], importances[indices[f]]))\n",
    "\n",
    "    \n",
    "# Plot the feature importances of the forest\n",
    "plt.figure()\n",
    "plt.title(\"Feature importances\")\n",
    "plt.bar(range(X_train.shape[1]), importances[indices],\n",
    "       color=\"r\", yerr=std[indices], align=\"center\")\n",
    "#plt.xticks(X_train.columns.values, indices)\n",
    "plt.xticks(range(X_train.shape[1]), X_train.columns.values[indices],rotation=90)\n",
    "plt.xlim([-1, X_train.shape[1]])\n",
    "plt.show()"
   ]
  },
  {
   "cell_type": "code",
   "execution_count": null,
   "metadata": {},
   "outputs": [],
   "source": []
  }
 ],
 "metadata": {
  "kernelspec": {
   "display_name": "Python 3",
   "language": "python",
   "name": "python3"
  },
  "language_info": {
   "codemirror_mode": {
    "name": "ipython",
    "version": 3
   },
   "file_extension": ".py",
   "mimetype": "text/x-python",
   "name": "python",
   "nbconvert_exporter": "python",
   "pygments_lexer": "ipython3",
   "version": "3.6.4"
  }
 },
 "nbformat": 4,
 "nbformat_minor": 2
}
