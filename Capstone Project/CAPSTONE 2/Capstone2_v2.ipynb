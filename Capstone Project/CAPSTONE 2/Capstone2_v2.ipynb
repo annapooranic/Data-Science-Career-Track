{
 "cells": [
  {
   "cell_type": "code",
   "execution_count": 1,
   "metadata": {},
   "outputs": [],
   "source": [
    "import pandas as pd\n",
    "import numpy as np\n",
    "import matplotlib.pyplot as plt\n",
    "import seaborn as sns"
   ]
  },
  {
   "cell_type": "code",
   "execution_count": 2,
   "metadata": {},
   "outputs": [],
   "source": [
    "data = pd.read_csv('Telco-Customer-Churn.csv')"
   ]
  },
  {
   "cell_type": "code",
   "execution_count": 3,
   "metadata": {},
   "outputs": [
    {
     "data": {
      "text/html": [
       "<div>\n",
       "<style scoped>\n",
       "    .dataframe tbody tr th:only-of-type {\n",
       "        vertical-align: middle;\n",
       "    }\n",
       "\n",
       "    .dataframe tbody tr th {\n",
       "        vertical-align: top;\n",
       "    }\n",
       "\n",
       "    .dataframe thead th {\n",
       "        text-align: right;\n",
       "    }\n",
       "</style>\n",
       "<table border=\"1\" class=\"dataframe\">\n",
       "  <thead>\n",
       "    <tr style=\"text-align: right;\">\n",
       "      <th></th>\n",
       "      <th>customerID</th>\n",
       "      <th>gender</th>\n",
       "      <th>SeniorCitizen</th>\n",
       "      <th>Partner</th>\n",
       "      <th>Dependents</th>\n",
       "      <th>tenure</th>\n",
       "      <th>PhoneService</th>\n",
       "      <th>MultipleLines</th>\n",
       "      <th>InternetService</th>\n",
       "      <th>OnlineSecurity</th>\n",
       "      <th>...</th>\n",
       "      <th>DeviceProtection</th>\n",
       "      <th>TechSupport</th>\n",
       "      <th>StreamingTV</th>\n",
       "      <th>StreamingMovies</th>\n",
       "      <th>Contract</th>\n",
       "      <th>PaperlessBilling</th>\n",
       "      <th>PaymentMethod</th>\n",
       "      <th>MonthlyCharges</th>\n",
       "      <th>TotalCharges</th>\n",
       "      <th>Churn</th>\n",
       "    </tr>\n",
       "  </thead>\n",
       "  <tbody>\n",
       "    <tr>\n",
       "      <th>0</th>\n",
       "      <td>7590-VHVEG</td>\n",
       "      <td>Female</td>\n",
       "      <td>0</td>\n",
       "      <td>Yes</td>\n",
       "      <td>No</td>\n",
       "      <td>1</td>\n",
       "      <td>No</td>\n",
       "      <td>No phone service</td>\n",
       "      <td>DSL</td>\n",
       "      <td>No</td>\n",
       "      <td>...</td>\n",
       "      <td>No</td>\n",
       "      <td>No</td>\n",
       "      <td>No</td>\n",
       "      <td>No</td>\n",
       "      <td>Month-to-month</td>\n",
       "      <td>Yes</td>\n",
       "      <td>Electronic check</td>\n",
       "      <td>29.85</td>\n",
       "      <td>29.85</td>\n",
       "      <td>No</td>\n",
       "    </tr>\n",
       "    <tr>\n",
       "      <th>1</th>\n",
       "      <td>5575-GNVDE</td>\n",
       "      <td>Male</td>\n",
       "      <td>0</td>\n",
       "      <td>No</td>\n",
       "      <td>No</td>\n",
       "      <td>34</td>\n",
       "      <td>Yes</td>\n",
       "      <td>No</td>\n",
       "      <td>DSL</td>\n",
       "      <td>Yes</td>\n",
       "      <td>...</td>\n",
       "      <td>Yes</td>\n",
       "      <td>No</td>\n",
       "      <td>No</td>\n",
       "      <td>No</td>\n",
       "      <td>One year</td>\n",
       "      <td>No</td>\n",
       "      <td>Mailed check</td>\n",
       "      <td>56.95</td>\n",
       "      <td>1889.5</td>\n",
       "      <td>No</td>\n",
       "    </tr>\n",
       "    <tr>\n",
       "      <th>2</th>\n",
       "      <td>3668-QPYBK</td>\n",
       "      <td>Male</td>\n",
       "      <td>0</td>\n",
       "      <td>No</td>\n",
       "      <td>No</td>\n",
       "      <td>2</td>\n",
       "      <td>Yes</td>\n",
       "      <td>No</td>\n",
       "      <td>DSL</td>\n",
       "      <td>Yes</td>\n",
       "      <td>...</td>\n",
       "      <td>No</td>\n",
       "      <td>No</td>\n",
       "      <td>No</td>\n",
       "      <td>No</td>\n",
       "      <td>Month-to-month</td>\n",
       "      <td>Yes</td>\n",
       "      <td>Mailed check</td>\n",
       "      <td>53.85</td>\n",
       "      <td>108.15</td>\n",
       "      <td>Yes</td>\n",
       "    </tr>\n",
       "    <tr>\n",
       "      <th>3</th>\n",
       "      <td>7795-CFOCW</td>\n",
       "      <td>Male</td>\n",
       "      <td>0</td>\n",
       "      <td>No</td>\n",
       "      <td>No</td>\n",
       "      <td>45</td>\n",
       "      <td>No</td>\n",
       "      <td>No phone service</td>\n",
       "      <td>DSL</td>\n",
       "      <td>Yes</td>\n",
       "      <td>...</td>\n",
       "      <td>Yes</td>\n",
       "      <td>Yes</td>\n",
       "      <td>No</td>\n",
       "      <td>No</td>\n",
       "      <td>One year</td>\n",
       "      <td>No</td>\n",
       "      <td>Bank transfer (automatic)</td>\n",
       "      <td>42.30</td>\n",
       "      <td>1840.75</td>\n",
       "      <td>No</td>\n",
       "    </tr>\n",
       "    <tr>\n",
       "      <th>4</th>\n",
       "      <td>9237-HQITU</td>\n",
       "      <td>Female</td>\n",
       "      <td>0</td>\n",
       "      <td>No</td>\n",
       "      <td>No</td>\n",
       "      <td>2</td>\n",
       "      <td>Yes</td>\n",
       "      <td>No</td>\n",
       "      <td>Fiber optic</td>\n",
       "      <td>No</td>\n",
       "      <td>...</td>\n",
       "      <td>No</td>\n",
       "      <td>No</td>\n",
       "      <td>No</td>\n",
       "      <td>No</td>\n",
       "      <td>Month-to-month</td>\n",
       "      <td>Yes</td>\n",
       "      <td>Electronic check</td>\n",
       "      <td>70.70</td>\n",
       "      <td>151.65</td>\n",
       "      <td>Yes</td>\n",
       "    </tr>\n",
       "  </tbody>\n",
       "</table>\n",
       "<p>5 rows × 21 columns</p>\n",
       "</div>"
      ],
      "text/plain": [
       "   customerID  gender  SeniorCitizen Partner Dependents  tenure PhoneService  \\\n",
       "0  7590-VHVEG  Female              0     Yes         No       1           No   \n",
       "1  5575-GNVDE    Male              0      No         No      34          Yes   \n",
       "2  3668-QPYBK    Male              0      No         No       2          Yes   \n",
       "3  7795-CFOCW    Male              0      No         No      45           No   \n",
       "4  9237-HQITU  Female              0      No         No       2          Yes   \n",
       "\n",
       "      MultipleLines InternetService OnlineSecurity  ...  DeviceProtection  \\\n",
       "0  No phone service             DSL             No  ...                No   \n",
       "1                No             DSL            Yes  ...               Yes   \n",
       "2                No             DSL            Yes  ...                No   \n",
       "3  No phone service             DSL            Yes  ...               Yes   \n",
       "4                No     Fiber optic             No  ...                No   \n",
       "\n",
       "  TechSupport StreamingTV StreamingMovies        Contract PaperlessBilling  \\\n",
       "0          No          No              No  Month-to-month              Yes   \n",
       "1          No          No              No        One year               No   \n",
       "2          No          No              No  Month-to-month              Yes   \n",
       "3         Yes          No              No        One year               No   \n",
       "4          No          No              No  Month-to-month              Yes   \n",
       "\n",
       "               PaymentMethod MonthlyCharges  TotalCharges Churn  \n",
       "0           Electronic check          29.85         29.85    No  \n",
       "1               Mailed check          56.95        1889.5    No  \n",
       "2               Mailed check          53.85        108.15   Yes  \n",
       "3  Bank transfer (automatic)          42.30       1840.75    No  \n",
       "4           Electronic check          70.70        151.65   Yes  \n",
       "\n",
       "[5 rows x 21 columns]"
      ]
     },
     "execution_count": 3,
     "metadata": {},
     "output_type": "execute_result"
    }
   ],
   "source": [
    "data.head(5)"
   ]
  },
  {
   "cell_type": "code",
   "execution_count": 4,
   "metadata": {},
   "outputs": [
    {
     "data": {
      "text/plain": [
       "Index(['customerID', 'gender', 'SeniorCitizen', 'Partner', 'Dependents',\n",
       "       'tenure', 'PhoneService', 'MultipleLines', 'InternetService',\n",
       "       'OnlineSecurity', 'OnlineBackup', 'DeviceProtection', 'TechSupport',\n",
       "       'StreamingTV', 'StreamingMovies', 'Contract', 'PaperlessBilling',\n",
       "       'PaymentMethod', 'MonthlyCharges', 'TotalCharges', 'Churn'],\n",
       "      dtype='object')"
      ]
     },
     "execution_count": 4,
     "metadata": {},
     "output_type": "execute_result"
    }
   ],
   "source": [
    "data.columns"
   ]
  },
  {
   "cell_type": "code",
   "execution_count": 5,
   "metadata": {},
   "outputs": [],
   "source": [
    "data.MonthlyCharges = pd.to_numeric(data.MonthlyCharges)"
   ]
  },
  {
   "cell_type": "code",
   "execution_count": 6,
   "metadata": {},
   "outputs": [],
   "source": [
    " data.TotalCharges = pd.to_numeric(data.TotalCharges,errors='coerce')"
   ]
  },
  {
   "cell_type": "code",
   "execution_count": 7,
   "metadata": {},
   "outputs": [
    {
     "data": {
      "text/html": [
       "<div>\n",
       "<style scoped>\n",
       "    .dataframe tbody tr th:only-of-type {\n",
       "        vertical-align: middle;\n",
       "    }\n",
       "\n",
       "    .dataframe tbody tr th {\n",
       "        vertical-align: top;\n",
       "    }\n",
       "\n",
       "    .dataframe thead th {\n",
       "        text-align: right;\n",
       "    }\n",
       "</style>\n",
       "<table border=\"1\" class=\"dataframe\">\n",
       "  <thead>\n",
       "    <tr style=\"text-align: right;\">\n",
       "      <th></th>\n",
       "      <th>customerID</th>\n",
       "      <th>gender</th>\n",
       "      <th>SeniorCitizen</th>\n",
       "      <th>Partner</th>\n",
       "      <th>Dependents</th>\n",
       "      <th>tenure</th>\n",
       "      <th>PhoneService</th>\n",
       "      <th>MultipleLines</th>\n",
       "      <th>InternetService</th>\n",
       "      <th>OnlineSecurity</th>\n",
       "      <th>...</th>\n",
       "      <th>DeviceProtection</th>\n",
       "      <th>TechSupport</th>\n",
       "      <th>StreamingTV</th>\n",
       "      <th>StreamingMovies</th>\n",
       "      <th>Contract</th>\n",
       "      <th>PaperlessBilling</th>\n",
       "      <th>PaymentMethod</th>\n",
       "      <th>MonthlyCharges</th>\n",
       "      <th>TotalCharges</th>\n",
       "      <th>Churn</th>\n",
       "    </tr>\n",
       "  </thead>\n",
       "  <tbody>\n",
       "    <tr>\n",
       "      <th>488</th>\n",
       "      <td>4472-LVYGI</td>\n",
       "      <td>Female</td>\n",
       "      <td>0</td>\n",
       "      <td>Yes</td>\n",
       "      <td>Yes</td>\n",
       "      <td>0</td>\n",
       "      <td>No</td>\n",
       "      <td>No phone service</td>\n",
       "      <td>DSL</td>\n",
       "      <td>Yes</td>\n",
       "      <td>...</td>\n",
       "      <td>Yes</td>\n",
       "      <td>Yes</td>\n",
       "      <td>Yes</td>\n",
       "      <td>No</td>\n",
       "      <td>Two year</td>\n",
       "      <td>Yes</td>\n",
       "      <td>Bank transfer (automatic)</td>\n",
       "      <td>52.55</td>\n",
       "      <td>NaN</td>\n",
       "      <td>No</td>\n",
       "    </tr>\n",
       "    <tr>\n",
       "      <th>753</th>\n",
       "      <td>3115-CZMZD</td>\n",
       "      <td>Male</td>\n",
       "      <td>0</td>\n",
       "      <td>No</td>\n",
       "      <td>Yes</td>\n",
       "      <td>0</td>\n",
       "      <td>Yes</td>\n",
       "      <td>No</td>\n",
       "      <td>No</td>\n",
       "      <td>No internet service</td>\n",
       "      <td>...</td>\n",
       "      <td>No internet service</td>\n",
       "      <td>No internet service</td>\n",
       "      <td>No internet service</td>\n",
       "      <td>No internet service</td>\n",
       "      <td>Two year</td>\n",
       "      <td>No</td>\n",
       "      <td>Mailed check</td>\n",
       "      <td>20.25</td>\n",
       "      <td>NaN</td>\n",
       "      <td>No</td>\n",
       "    </tr>\n",
       "    <tr>\n",
       "      <th>936</th>\n",
       "      <td>5709-LVOEQ</td>\n",
       "      <td>Female</td>\n",
       "      <td>0</td>\n",
       "      <td>Yes</td>\n",
       "      <td>Yes</td>\n",
       "      <td>0</td>\n",
       "      <td>Yes</td>\n",
       "      <td>No</td>\n",
       "      <td>DSL</td>\n",
       "      <td>Yes</td>\n",
       "      <td>...</td>\n",
       "      <td>Yes</td>\n",
       "      <td>No</td>\n",
       "      <td>Yes</td>\n",
       "      <td>Yes</td>\n",
       "      <td>Two year</td>\n",
       "      <td>No</td>\n",
       "      <td>Mailed check</td>\n",
       "      <td>80.85</td>\n",
       "      <td>NaN</td>\n",
       "      <td>No</td>\n",
       "    </tr>\n",
       "    <tr>\n",
       "      <th>1082</th>\n",
       "      <td>4367-NUYAO</td>\n",
       "      <td>Male</td>\n",
       "      <td>0</td>\n",
       "      <td>Yes</td>\n",
       "      <td>Yes</td>\n",
       "      <td>0</td>\n",
       "      <td>Yes</td>\n",
       "      <td>Yes</td>\n",
       "      <td>No</td>\n",
       "      <td>No internet service</td>\n",
       "      <td>...</td>\n",
       "      <td>No internet service</td>\n",
       "      <td>No internet service</td>\n",
       "      <td>No internet service</td>\n",
       "      <td>No internet service</td>\n",
       "      <td>Two year</td>\n",
       "      <td>No</td>\n",
       "      <td>Mailed check</td>\n",
       "      <td>25.75</td>\n",
       "      <td>NaN</td>\n",
       "      <td>No</td>\n",
       "    </tr>\n",
       "    <tr>\n",
       "      <th>1340</th>\n",
       "      <td>1371-DWPAZ</td>\n",
       "      <td>Female</td>\n",
       "      <td>0</td>\n",
       "      <td>Yes</td>\n",
       "      <td>Yes</td>\n",
       "      <td>0</td>\n",
       "      <td>No</td>\n",
       "      <td>No phone service</td>\n",
       "      <td>DSL</td>\n",
       "      <td>Yes</td>\n",
       "      <td>...</td>\n",
       "      <td>Yes</td>\n",
       "      <td>Yes</td>\n",
       "      <td>Yes</td>\n",
       "      <td>No</td>\n",
       "      <td>Two year</td>\n",
       "      <td>No</td>\n",
       "      <td>Credit card (automatic)</td>\n",
       "      <td>56.05</td>\n",
       "      <td>NaN</td>\n",
       "      <td>No</td>\n",
       "    </tr>\n",
       "    <tr>\n",
       "      <th>3331</th>\n",
       "      <td>7644-OMVMY</td>\n",
       "      <td>Male</td>\n",
       "      <td>0</td>\n",
       "      <td>Yes</td>\n",
       "      <td>Yes</td>\n",
       "      <td>0</td>\n",
       "      <td>Yes</td>\n",
       "      <td>No</td>\n",
       "      <td>No</td>\n",
       "      <td>No internet service</td>\n",
       "      <td>...</td>\n",
       "      <td>No internet service</td>\n",
       "      <td>No internet service</td>\n",
       "      <td>No internet service</td>\n",
       "      <td>No internet service</td>\n",
       "      <td>Two year</td>\n",
       "      <td>No</td>\n",
       "      <td>Mailed check</td>\n",
       "      <td>19.85</td>\n",
       "      <td>NaN</td>\n",
       "      <td>No</td>\n",
       "    </tr>\n",
       "    <tr>\n",
       "      <th>3826</th>\n",
       "      <td>3213-VVOLG</td>\n",
       "      <td>Male</td>\n",
       "      <td>0</td>\n",
       "      <td>Yes</td>\n",
       "      <td>Yes</td>\n",
       "      <td>0</td>\n",
       "      <td>Yes</td>\n",
       "      <td>Yes</td>\n",
       "      <td>No</td>\n",
       "      <td>No internet service</td>\n",
       "      <td>...</td>\n",
       "      <td>No internet service</td>\n",
       "      <td>No internet service</td>\n",
       "      <td>No internet service</td>\n",
       "      <td>No internet service</td>\n",
       "      <td>Two year</td>\n",
       "      <td>No</td>\n",
       "      <td>Mailed check</td>\n",
       "      <td>25.35</td>\n",
       "      <td>NaN</td>\n",
       "      <td>No</td>\n",
       "    </tr>\n",
       "    <tr>\n",
       "      <th>4380</th>\n",
       "      <td>2520-SGTTA</td>\n",
       "      <td>Female</td>\n",
       "      <td>0</td>\n",
       "      <td>Yes</td>\n",
       "      <td>Yes</td>\n",
       "      <td>0</td>\n",
       "      <td>Yes</td>\n",
       "      <td>No</td>\n",
       "      <td>No</td>\n",
       "      <td>No internet service</td>\n",
       "      <td>...</td>\n",
       "      <td>No internet service</td>\n",
       "      <td>No internet service</td>\n",
       "      <td>No internet service</td>\n",
       "      <td>No internet service</td>\n",
       "      <td>Two year</td>\n",
       "      <td>No</td>\n",
       "      <td>Mailed check</td>\n",
       "      <td>20.00</td>\n",
       "      <td>NaN</td>\n",
       "      <td>No</td>\n",
       "    </tr>\n",
       "    <tr>\n",
       "      <th>5218</th>\n",
       "      <td>2923-ARZLG</td>\n",
       "      <td>Male</td>\n",
       "      <td>0</td>\n",
       "      <td>Yes</td>\n",
       "      <td>Yes</td>\n",
       "      <td>0</td>\n",
       "      <td>Yes</td>\n",
       "      <td>No</td>\n",
       "      <td>No</td>\n",
       "      <td>No internet service</td>\n",
       "      <td>...</td>\n",
       "      <td>No internet service</td>\n",
       "      <td>No internet service</td>\n",
       "      <td>No internet service</td>\n",
       "      <td>No internet service</td>\n",
       "      <td>One year</td>\n",
       "      <td>Yes</td>\n",
       "      <td>Mailed check</td>\n",
       "      <td>19.70</td>\n",
       "      <td>NaN</td>\n",
       "      <td>No</td>\n",
       "    </tr>\n",
       "    <tr>\n",
       "      <th>6670</th>\n",
       "      <td>4075-WKNIU</td>\n",
       "      <td>Female</td>\n",
       "      <td>0</td>\n",
       "      <td>Yes</td>\n",
       "      <td>Yes</td>\n",
       "      <td>0</td>\n",
       "      <td>Yes</td>\n",
       "      <td>Yes</td>\n",
       "      <td>DSL</td>\n",
       "      <td>No</td>\n",
       "      <td>...</td>\n",
       "      <td>Yes</td>\n",
       "      <td>Yes</td>\n",
       "      <td>Yes</td>\n",
       "      <td>No</td>\n",
       "      <td>Two year</td>\n",
       "      <td>No</td>\n",
       "      <td>Mailed check</td>\n",
       "      <td>73.35</td>\n",
       "      <td>NaN</td>\n",
       "      <td>No</td>\n",
       "    </tr>\n",
       "    <tr>\n",
       "      <th>6754</th>\n",
       "      <td>2775-SEFEE</td>\n",
       "      <td>Male</td>\n",
       "      <td>0</td>\n",
       "      <td>No</td>\n",
       "      <td>Yes</td>\n",
       "      <td>0</td>\n",
       "      <td>Yes</td>\n",
       "      <td>Yes</td>\n",
       "      <td>DSL</td>\n",
       "      <td>Yes</td>\n",
       "      <td>...</td>\n",
       "      <td>No</td>\n",
       "      <td>Yes</td>\n",
       "      <td>No</td>\n",
       "      <td>No</td>\n",
       "      <td>Two year</td>\n",
       "      <td>Yes</td>\n",
       "      <td>Bank transfer (automatic)</td>\n",
       "      <td>61.90</td>\n",
       "      <td>NaN</td>\n",
       "      <td>No</td>\n",
       "    </tr>\n",
       "  </tbody>\n",
       "</table>\n",
       "<p>11 rows × 21 columns</p>\n",
       "</div>"
      ],
      "text/plain": [
       "      customerID  gender  SeniorCitizen Partner Dependents  tenure  \\\n",
       "488   4472-LVYGI  Female              0     Yes        Yes       0   \n",
       "753   3115-CZMZD    Male              0      No        Yes       0   \n",
       "936   5709-LVOEQ  Female              0     Yes        Yes       0   \n",
       "1082  4367-NUYAO    Male              0     Yes        Yes       0   \n",
       "1340  1371-DWPAZ  Female              0     Yes        Yes       0   \n",
       "3331  7644-OMVMY    Male              0     Yes        Yes       0   \n",
       "3826  3213-VVOLG    Male              0     Yes        Yes       0   \n",
       "4380  2520-SGTTA  Female              0     Yes        Yes       0   \n",
       "5218  2923-ARZLG    Male              0     Yes        Yes       0   \n",
       "6670  4075-WKNIU  Female              0     Yes        Yes       0   \n",
       "6754  2775-SEFEE    Male              0      No        Yes       0   \n",
       "\n",
       "     PhoneService     MultipleLines InternetService       OnlineSecurity  \\\n",
       "488            No  No phone service             DSL                  Yes   \n",
       "753           Yes                No              No  No internet service   \n",
       "936           Yes                No             DSL                  Yes   \n",
       "1082          Yes               Yes              No  No internet service   \n",
       "1340           No  No phone service             DSL                  Yes   \n",
       "3331          Yes                No              No  No internet service   \n",
       "3826          Yes               Yes              No  No internet service   \n",
       "4380          Yes                No              No  No internet service   \n",
       "5218          Yes                No              No  No internet service   \n",
       "6670          Yes               Yes             DSL                   No   \n",
       "6754          Yes               Yes             DSL                  Yes   \n",
       "\n",
       "      ...       DeviceProtection          TechSupport          StreamingTV  \\\n",
       "488   ...                    Yes                  Yes                  Yes   \n",
       "753   ...    No internet service  No internet service  No internet service   \n",
       "936   ...                    Yes                   No                  Yes   \n",
       "1082  ...    No internet service  No internet service  No internet service   \n",
       "1340  ...                    Yes                  Yes                  Yes   \n",
       "3331  ...    No internet service  No internet service  No internet service   \n",
       "3826  ...    No internet service  No internet service  No internet service   \n",
       "4380  ...    No internet service  No internet service  No internet service   \n",
       "5218  ...    No internet service  No internet service  No internet service   \n",
       "6670  ...                    Yes                  Yes                  Yes   \n",
       "6754  ...                     No                  Yes                   No   \n",
       "\n",
       "          StreamingMovies  Contract PaperlessBilling  \\\n",
       "488                    No  Two year              Yes   \n",
       "753   No internet service  Two year               No   \n",
       "936                   Yes  Two year               No   \n",
       "1082  No internet service  Two year               No   \n",
       "1340                   No  Two year               No   \n",
       "3331  No internet service  Two year               No   \n",
       "3826  No internet service  Two year               No   \n",
       "4380  No internet service  Two year               No   \n",
       "5218  No internet service  One year              Yes   \n",
       "6670                   No  Two year               No   \n",
       "6754                   No  Two year              Yes   \n",
       "\n",
       "                  PaymentMethod MonthlyCharges  TotalCharges  Churn  \n",
       "488   Bank transfer (automatic)          52.55           NaN     No  \n",
       "753                Mailed check          20.25           NaN     No  \n",
       "936                Mailed check          80.85           NaN     No  \n",
       "1082               Mailed check          25.75           NaN     No  \n",
       "1340    Credit card (automatic)          56.05           NaN     No  \n",
       "3331               Mailed check          19.85           NaN     No  \n",
       "3826               Mailed check          25.35           NaN     No  \n",
       "4380               Mailed check          20.00           NaN     No  \n",
       "5218               Mailed check          19.70           NaN     No  \n",
       "6670               Mailed check          73.35           NaN     No  \n",
       "6754  Bank transfer (automatic)          61.90           NaN     No  \n",
       "\n",
       "[11 rows x 21 columns]"
      ]
     },
     "execution_count": 7,
     "metadata": {},
     "output_type": "execute_result"
    }
   ],
   "source": [
    "data[data.TotalCharges.isna()]"
   ]
  },
  {
   "cell_type": "code",
   "execution_count": 8,
   "metadata": {},
   "outputs": [],
   "source": [
    "data = data.drop(index=data.index[data.TotalCharges.isna()])"
   ]
  },
  {
   "cell_type": "code",
   "execution_count": 9,
   "metadata": {},
   "outputs": [
    {
     "data": {
      "text/plain": [
       "Index(['customerID', 'gender', 'SeniorCitizen', 'Partner', 'Dependents',\n",
       "       'tenure', 'PhoneService', 'MultipleLines', 'InternetService',\n",
       "       'OnlineSecurity', 'OnlineBackup', 'DeviceProtection', 'TechSupport',\n",
       "       'StreamingTV', 'StreamingMovies', 'Contract', 'PaperlessBilling',\n",
       "       'PaymentMethod', 'MonthlyCharges', 'TotalCharges', 'Churn'],\n",
       "      dtype='object')"
      ]
     },
     "execution_count": 9,
     "metadata": {},
     "output_type": "execute_result"
    }
   ],
   "source": [
    "data.columns"
   ]
  },
  {
   "cell_type": "code",
   "execution_count": 10,
   "metadata": {},
   "outputs": [],
   "source": [
    "new_data = pd.get_dummies(data,columns=['gender','SeniorCitizen','Partner','Dependents','PhoneService','MultipleLines','InternetService','OnlineSecurity','OnlineBackup','DeviceProtection','TechSupport','StreamingTV','StreamingMovies','Contract','PaperlessBilling','PaymentMethod','Churn'])"
   ]
  },
  {
   "cell_type": "code",
   "execution_count": 11,
   "metadata": {},
   "outputs": [
    {
     "data": {
      "text/plain": [
       "Index(['customerID', 'tenure', 'MonthlyCharges', 'TotalCharges',\n",
       "       'gender_Female', 'gender_Male', 'SeniorCitizen_0', 'SeniorCitizen_1',\n",
       "       'Partner_No', 'Partner_Yes', 'Dependents_No', 'Dependents_Yes',\n",
       "       'PhoneService_No', 'PhoneService_Yes', 'MultipleLines_No',\n",
       "       'MultipleLines_No phone service', 'MultipleLines_Yes',\n",
       "       'InternetService_DSL', 'InternetService_Fiber optic',\n",
       "       'InternetService_No', 'OnlineSecurity_No',\n",
       "       'OnlineSecurity_No internet service', 'OnlineSecurity_Yes',\n",
       "       'OnlineBackup_No', 'OnlineBackup_No internet service',\n",
       "       'OnlineBackup_Yes', 'DeviceProtection_No',\n",
       "       'DeviceProtection_No internet service', 'DeviceProtection_Yes',\n",
       "       'TechSupport_No', 'TechSupport_No internet service', 'TechSupport_Yes',\n",
       "       'StreamingTV_No', 'StreamingTV_No internet service', 'StreamingTV_Yes',\n",
       "       'StreamingMovies_No', 'StreamingMovies_No internet service',\n",
       "       'StreamingMovies_Yes', 'Contract_Month-to-month', 'Contract_One year',\n",
       "       'Contract_Two year', 'PaperlessBilling_No', 'PaperlessBilling_Yes',\n",
       "       'PaymentMethod_Bank transfer (automatic)',\n",
       "       'PaymentMethod_Credit card (automatic)',\n",
       "       'PaymentMethod_Electronic check', 'PaymentMethod_Mailed check',\n",
       "       'Churn_No', 'Churn_Yes'],\n",
       "      dtype='object')"
      ]
     },
     "execution_count": 11,
     "metadata": {},
     "output_type": "execute_result"
    }
   ],
   "source": [
    "new_data.columns"
   ]
  },
  {
   "cell_type": "code",
   "execution_count": 12,
   "metadata": {},
   "outputs": [],
   "source": [
    "new_data = new_data.drop(['customerID','gender_Male', 'SeniorCitizen_0','Partner_No','Dependents_No','PhoneService_No','MultipleLines_No',\n",
    "       'MultipleLines_No phone service','OnlineSecurity_No','InternetService_DSL',\n",
    "       'OnlineSecurity_No internet service','OnlineBackup_No', 'OnlineBackup_No internet service','DeviceProtection_No',\n",
    "       'DeviceProtection_No internet service','TechSupport_No', 'TechSupport_No internet service','StreamingTV_No', 'StreamingTV_No internet service','StreamingMovies_No', 'StreamingMovies_No internet service','PaperlessBilling_No','PaymentMethod_Credit card (automatic)','Churn_No'],axis='columns')"
   ]
  },
  {
   "cell_type": "code",
   "execution_count": 13,
   "metadata": {},
   "outputs": [
    {
     "data": {
      "text/plain": [
       "Index(['tenure', 'MonthlyCharges', 'TotalCharges', 'gender_Female',\n",
       "       'SeniorCitizen_1', 'Partner_Yes', 'Dependents_Yes', 'PhoneService_Yes',\n",
       "       'MultipleLines_Yes', 'InternetService_Fiber optic',\n",
       "       'InternetService_No', 'OnlineSecurity_Yes', 'OnlineBackup_Yes',\n",
       "       'DeviceProtection_Yes', 'TechSupport_Yes', 'StreamingTV_Yes',\n",
       "       'StreamingMovies_Yes', 'Contract_Month-to-month', 'Contract_One year',\n",
       "       'Contract_Two year', 'PaperlessBilling_Yes',\n",
       "       'PaymentMethod_Bank transfer (automatic)',\n",
       "       'PaymentMethod_Electronic check', 'PaymentMethod_Mailed check',\n",
       "       'Churn_Yes'],\n",
       "      dtype='object')"
      ]
     },
     "execution_count": 13,
     "metadata": {},
     "output_type": "execute_result"
    }
   ],
   "source": [
    "new_data.columns"
   ]
  },
  {
   "cell_type": "code",
   "execution_count": 14,
   "metadata": {},
   "outputs": [],
   "source": [
    "new_data = new_data.rename({'InternetService_Fiber optic':'InternetService_Fiber_optic','Contract_Month-to-month':'Contract_Month_to_month','Contract_One year':'Contract_One_year','Contract_Two year':'Contract_Two_year','PaymentMethod_Bank transfer (automatic)':'PaymentMethod_Bank_transfer_automatic','PaymentMethod_Credit card (automatic)':'PaymentMethod_Credit_card_automatic','PaymentMethod_Electronic check':'PaymentMethod_Electronic_check','PaymentMethod_Mailed check':'PaymentMethod_Mailed_check'},axis='columns')"
   ]
  },
  {
   "cell_type": "code",
   "execution_count": 15,
   "metadata": {},
   "outputs": [
    {
     "data": {
      "text/plain": [
       "Index(['tenure', 'MonthlyCharges', 'TotalCharges', 'gender_Female',\n",
       "       'SeniorCitizen_1', 'Partner_Yes', 'Dependents_Yes', 'PhoneService_Yes',\n",
       "       'MultipleLines_Yes', 'InternetService_Fiber_optic',\n",
       "       'InternetService_No', 'OnlineSecurity_Yes', 'OnlineBackup_Yes',\n",
       "       'DeviceProtection_Yes', 'TechSupport_Yes', 'StreamingTV_Yes',\n",
       "       'StreamingMovies_Yes', 'Contract_Month_to_month', 'Contract_One_year',\n",
       "       'Contract_Two_year', 'PaperlessBilling_Yes',\n",
       "       'PaymentMethod_Bank_transfer_automatic',\n",
       "       'PaymentMethod_Electronic_check', 'PaymentMethod_Mailed_check',\n",
       "       'Churn_Yes'],\n",
       "      dtype='object')"
      ]
     },
     "execution_count": 15,
     "metadata": {},
     "output_type": "execute_result"
    }
   ],
   "source": [
    "new_data.columns"
   ]
  },
  {
   "cell_type": "markdown",
   "metadata": {},
   "source": [
    "# Explorotary Data Analysis"
   ]
  },
  {
   "cell_type": "markdown",
   "metadata": {},
   "source": [
    "EDA helps in Visualizing underlying insights from the data. It helps in Feature Enginerring also paves way for identifying new scope of data. As churn is the key field of study,first part of the notebook deals with the picturization of churn data based on different features."
   ]
  },
  {
   "cell_type": "code",
   "execution_count": 16,
   "metadata": {
    "scrolled": true
   },
   "outputs": [
    {
     "data": {
      "text/plain": [
       "<seaborn.axisgrid.FacetGrid at 0x2274fccfba8>"
      ]
     },
     "execution_count": 16,
     "metadata": {},
     "output_type": "execute_result"
    },
    {
     "data": {
      "image/png": "[encoded data removed]",
      "text/plain": [
       "<Figure size 720x360 with 2 Axes>"
      ]
     },
     "metadata": {},
     "output_type": "display_data"
    }
   ],
   "source": [
    "sns.catplot(x='Churn',col='gender',data = data,kind='count')"
   ]
  },
  {
   "cell_type": "markdown",
   "metadata": {},
   "source": [
    "As from above chart churning rate looks similar for both male and female so there is __no significant difference in churning rate based on gender.__"
   ]
  },
  {
   "cell_type": "code",
   "execution_count": 17,
   "metadata": {
    "scrolled": true
   },
   "outputs": [
    {
     "data": {
      "text/plain": [
       "<seaborn.axisgrid.FacetGrid at 0x227500245f8>"
      ]
     },
     "execution_count": 17,
     "metadata": {},
     "output_type": "execute_result"
    },
    {
     "data": {
      "image/png": "[encoded data removed]",
      "text/plain": [
       "<Figure size 720x360 with 2 Axes>"
      ]
     },
     "metadata": {},
     "output_type": "display_data"
    }
   ],
   "source": [
    "sns.catplot(x='Churn',col='SeniorCitizen',data = data,kind='count')"
   ]
  },
  {
   "cell_type": "markdown",
   "metadata": {},
   "source": [
    "__It seems Senior citizens churned and not churned numbers have very less difference, also the number of Total Senior Citizens is less compared to remaining population.__"
   ]
  },
  {
   "cell_type": "code",
   "execution_count": 18,
   "metadata": {
    "scrolled": true
   },
   "outputs": [
    {
     "data": {
      "text/plain": [
       "<seaborn.axisgrid.FacetGrid at 0x22750077550>"
      ]
     },
     "execution_count": 18,
     "metadata": {},
     "output_type": "execute_result"
    },
    {
     "data": {
      "image/png": "[encoded data removed]",
      "text/plain": [
       "<Figure size 720x360 with 2 Axes>"
      ]
     },
     "metadata": {},
     "output_type": "display_data"
    }
   ],
   "source": [
    "sns.catplot(x='Churn',col='Partner',data = data,kind='count')\n"
   ]
  },
  {
   "cell_type": "markdown",
   "metadata": {},
   "source": [
    "__If there is no partner then churn rate is little higher.__"
   ]
  },
  {
   "cell_type": "code",
   "execution_count": 19,
   "metadata": {},
   "outputs": [
    {
     "data": {
      "text/plain": [
       "<seaborn.axisgrid.FacetGrid at 0x2275012b0b8>"
      ]
     },
     "execution_count": 19,
     "metadata": {},
     "output_type": "execute_result"
    },
    {
     "data": {
      "image/png": "[encoded data removed]",
      "text/plain": [
       "<Figure size 720x360 with 2 Axes>"
      ]
     },
     "metadata": {},
     "output_type": "display_data"
    }
   ],
   "source": [
    "sns.catplot(x='Churn',col='Dependents',data = data,kind='count')"
   ]
  },
  {
   "cell_type": "markdown",
   "metadata": {},
   "source": [
    "__If there are no Dependents then Churning numbers are higher__"
   ]
  },
  {
   "cell_type": "code",
   "execution_count": 20,
   "metadata": {},
   "outputs": [
    {
     "data": {
      "text/plain": [
       "No     4933\n",
       "Yes    2099\n",
       "Name: Dependents, dtype: int64"
      ]
     },
     "execution_count": 20,
     "metadata": {},
     "output_type": "execute_result"
    }
   ],
   "source": [
    "data.Dependents.value_counts()"
   ]
  },
  {
   "cell_type": "markdown",
   "metadata": {},
   "source": [
    "Nearly only half of the total customers have Dependents, when there are dependents then churn rate is little less. It can be one of the feature can be considered but not very much primary."
   ]
  },
  {
   "cell_type": "code",
   "execution_count": 21,
   "metadata": {},
   "outputs": [
    {
     "data": {
      "text/plain": [
       "<seaborn.axisgrid.FacetGrid at 0x22750234908>"
      ]
     },
     "execution_count": 21,
     "metadata": {},
     "output_type": "execute_result"
    },
    {
     "data": {
      "image/png": "[encoded data removed]",
      "text/plain": [
       "<Figure size 720x360 with 2 Axes>"
      ]
     },
     "metadata": {},
     "output_type": "display_data"
    }
   ],
   "source": [
    "sns.catplot(x='Churn',col='PhoneService',data = data,kind='count')"
   ]
  },
  {
   "cell_type": "code",
   "execution_count": 22,
   "metadata": {},
   "outputs": [
    {
     "data": {
      "text/plain": [
       "Yes    6352\n",
       "No      680\n",
       "Name: PhoneService, dtype: int64"
      ]
     },
     "execution_count": 22,
     "metadata": {},
     "output_type": "execute_result"
    }
   ],
   "source": [
    "data.PhoneService.value_counts()"
   ]
  },
  {
   "cell_type": "markdown",
   "metadata": {},
   "source": [
    "Most of the Telcom customers have Phone service too, __Nearly 10% of them Phone Service customers are churned__"
   ]
  },
  {
   "cell_type": "code",
   "execution_count": 23,
   "metadata": {
    "scrolled": true
   },
   "outputs": [
    {
     "data": {
      "text/plain": [
       "<seaborn.axisgrid.FacetGrid at 0x227512a4f60>"
      ]
     },
     "execution_count": 23,
     "metadata": {},
     "output_type": "execute_result"
    },
    {
     "data": {
      "image/png": "[encoded data removed]",
      "text/plain": [
       "<Figure size 1080x360 with 3 Axes>"
      ]
     },
     "metadata": {},
     "output_type": "display_data"
    }
   ],
   "source": [
    "sns.catplot(x='Churn',col='MultipleLines',data = data,kind='count')"
   ]
  },
  {
   "cell_type": "markdown",
   "metadata": {},
   "source": [
    "__Irrespective of customer have multiple lines or not the Churning numbers are same.__"
   ]
  },
  {
   "cell_type": "code",
   "execution_count": 24,
   "metadata": {},
   "outputs": [
    {
     "data": {
      "text/plain": [
       "<seaborn.axisgrid.FacetGrid at 0x22751330b38>"
      ]
     },
     "execution_count": 24,
     "metadata": {},
     "output_type": "execute_result"
    },
    {
     "data": {
      "image/png": "[encoded data removed]",
      "text/plain": [
       "<Figure size 1080x360 with 3 Axes>"
      ]
     },
     "metadata": {},
     "output_type": "display_data"
    }
   ],
   "source": [
    "sns.catplot(x='Churn',col='DeviceProtection',data = data,kind='count')"
   ]
  },
  {
   "cell_type": "markdown",
   "metadata": {},
   "source": [
    "__Customer without device protection churned higher__"
   ]
  },
  {
   "cell_type": "code",
   "execution_count": 25,
   "metadata": {},
   "outputs": [
    {
     "data": {
      "text/plain": [
       "<seaborn.axisgrid.FacetGrid at 0x227513758d0>"
      ]
     },
     "execution_count": 25,
     "metadata": {},
     "output_type": "execute_result"
    },
    {
     "data": {
      "image/png": "[encoded data removed]",
      "text/plain": [
       "<Figure size 1080x360 with 3 Axes>"
      ]
     },
     "metadata": {},
     "output_type": "display_data"
    }
   ],
   "source": [
    "sns.catplot(x='Churn',col='InternetService',data = data,kind='count')"
   ]
  },
  {
   "cell_type": "markdown",
   "metadata": {},
   "source": [
    "__Customers getting Internet Service by Fiber optics Churned more, so definetly that may be a important feature.__"
   ]
  },
  {
   "cell_type": "code",
   "execution_count": 26,
   "metadata": {},
   "outputs": [
    {
     "data": {
      "text/plain": [
       "<seaborn.axisgrid.FacetGrid at 0x22751d7be48>"
      ]
     },
     "execution_count": 26,
     "metadata": {},
     "output_type": "execute_result"
    },
    {
     "data": {
      "image/png": "[encoded data removed]",
      "text/plain": [
       "<Figure size 1080x360 with 3 Axes>"
      ]
     },
     "metadata": {},
     "output_type": "display_data"
    }
   ],
   "source": [
    "sns.catplot(x='Churn',col='Contract',data = data,kind='count')"
   ]
  },
  {
   "cell_type": "markdown",
   "metadata": {},
   "source": [
    "__Customers chosen Month-to-month contract churned higher,this also may be a important feature__"
   ]
  },
  {
   "cell_type": "code",
   "execution_count": 27,
   "metadata": {},
   "outputs": [
    {
     "data": {
      "text/plain": [
       "<seaborn.axisgrid.FacetGrid at 0x22751d88898>"
      ]
     },
     "execution_count": 27,
     "metadata": {},
     "output_type": "execute_result"
    },
    {
     "data": {
      "image/png": "[encoded data removed]",
      "text/plain": [
       "<Figure size 1440x360 with 4 Axes>"
      ]
     },
     "metadata": {},
     "output_type": "display_data"
    }
   ],
   "source": [
    "sns.catplot(x='Churn',col='PaymentMethod',data = data,kind='count')"
   ]
  },
  {
   "cell_type": "markdown",
   "metadata": {},
   "source": [
    "__Customer paid by electronic check churned more__"
   ]
  },
  {
   "cell_type": "code",
   "execution_count": 28,
   "metadata": {},
   "outputs": [
    {
     "data": {
      "text/plain": [
       "<seaborn.axisgrid.FacetGrid at 0x22752181860>"
      ]
     },
     "execution_count": 28,
     "metadata": {},
     "output_type": "execute_result"
    },
    {
     "data": {
      "image/png": "[encoded data removed]",
      "text/plain": [
       "<Figure size 1080x360 with 3 Axes>"
      ]
     },
     "metadata": {},
     "output_type": "display_data"
    }
   ],
   "source": [
    "sns.catplot(x='Churn',col='TechSupport',data = data,kind='count')"
   ]
  },
  {
   "cell_type": "markdown",
   "metadata": {},
   "source": [
    "__Customer without tech support churned higher than customer with tech support__"
   ]
  },
  {
   "cell_type": "code",
   "execution_count": 29,
   "metadata": {},
   "outputs": [
    {
     "data": {
      "text/plain": [
       "<seaborn.axisgrid.FacetGrid at 0x22752acca90>"
      ]
     },
     "execution_count": 29,
     "metadata": {},
     "output_type": "execute_result"
    },
    {
     "data": {
      "image/png": "[encoded data removed]",
      "text/plain": [
       "<Figure size 720x360 with 2 Axes>"
      ]
     },
     "metadata": {},
     "output_type": "display_data"
    }
   ],
   "source": [
    "sns.catplot(x='Churn',col='PaperlessBilling',data = data,kind='count')"
   ]
  },
  {
   "cell_type": "markdown",
   "metadata": {},
   "source": [
    "__Churning rate of paperless billing customer are greater than the billing sent by post customers__"
   ]
  },
  {
   "cell_type": "code",
   "execution_count": 30,
   "metadata": {},
   "outputs": [
    {
     "data": {
      "text/plain": [
       "<seaborn.axisgrid.FacetGrid at 0x22752912320>"
      ]
     },
     "execution_count": 30,
     "metadata": {},
     "output_type": "execute_result"
    },
    {
     "data": {
      "image/png": "[encoded data removed]",
      "text/plain": [
       "<Figure size 1080x360 with 3 Axes>"
      ]
     },
     "metadata": {},
     "output_type": "display_data"
    }
   ],
   "source": [
    "sns.catplot(x='Churn',col='StreamingTV',data = data,kind='count')"
   ]
  },
  {
   "cell_type": "code",
   "execution_count": 31,
   "metadata": {},
   "outputs": [
    {
     "data": {
      "text/plain": [
       "<seaborn.axisgrid.FacetGrid at 0x22752d303c8>"
      ]
     },
     "execution_count": 31,
     "metadata": {},
     "output_type": "execute_result"
    },
    {
     "data": {
      "image/png": "[encoded data removed]",
      "text/plain": [
       "<Figure size 1080x360 with 3 Axes>"
      ]
     },
     "metadata": {},
     "output_type": "display_data"
    }
   ],
   "source": [
    "sns.catplot(x='Churn',col='StreamingMovies',data = data,kind='count')\n"
   ]
  },
  {
   "cell_type": "markdown",
   "metadata": {},
   "source": [
    "__Both Streaming Tv and Streaming Movies have greater churn rate__"
   ]
  },
  {
   "cell_type": "markdown",
   "metadata": {},
   "source": [
    "# Feature Engineering"
   ]
  },
  {
   "cell_type": "markdown",
   "metadata": {},
   "source": [
    "From EDA __Internet Service,Contract,Payment Method,Streaming Tv and Streaming Movies,Tech Support are the Primary features and Paperless billing and Senior Citizen can be of secondary importance.__"
   ]
  },
  {
   "cell_type": "code",
   "execution_count": 32,
   "metadata": {},
   "outputs": [
    {
     "name": "stdout",
     "output_type": "stream",
     "text": [
      "Optimization terminated successfully.\n",
      "         Current function value: 0.414311\n",
      "         Iterations 9\n",
      "                           Logit Regression Results                           \n",
      "==============================================================================\n",
      "Dep. Variable:              Churn_Yes   No. Observations:                 7032\n",
      "Model:                          Logit   Df Residuals:                     7009\n",
      "Method:                           MLE   Df Model:                           22\n",
      "Date:                Mon, 24 Sep 2018   Pseudo R-squ.:                  0.2845\n",
      "Time:                        12:08:59   Log-Likelihood:                -2913.4\n",
      "converged:                       True   LL-Null:                       -4071.7\n",
      "                                        LLR p-value:                     0.000\n",
      "==================================================================================================\n",
      "                                     coef    std err          z      P>|z|      [0.025      0.975]\n",
      "--------------------------------------------------------------------------------------------------\n",
      "Intercept                          0.3202   3.87e+06   8.27e-08      1.000   -7.59e+06    7.59e+06\n",
      "gender_Female                      0.0221      0.065      0.341      0.733      -0.105       0.149\n",
      "tenure                            -0.0606      0.006     -9.713      0.000      -0.073      -0.048\n",
      "MonthlyCharges                    -0.0404      0.032     -1.271      0.204      -0.103       0.022\n",
      "TotalCharges                       0.0003   7.06e-05      4.657      0.000       0.000       0.000\n",
      "SeniorCitizen_1                    0.2168      0.085      2.564      0.010       0.051       0.382\n",
      "Partner_Yes                        0.0013      0.078      0.017      0.986      -0.151       0.154\n",
      "Dependents_Yes                    -0.1491      0.090     -1.662      0.097      -0.325       0.027\n",
      "PhoneService_Yes                   0.1743      0.649      0.269      0.788      -1.097       1.446\n",
      "MultipleLines_Yes                  0.4485      0.177      2.530      0.011       0.101       0.796\n",
      "InternetService_Fiber_optic        1.7490      0.798      2.191      0.028       0.185       3.314\n",
      "InternetService_No                -1.7879      0.807     -2.214      0.027      -3.370      -0.205\n",
      "OnlineSecurity_Yes                -0.2049      0.179     -1.146      0.252      -0.555       0.145\n",
      "OnlineBackup_Yes                   0.0259      0.175      0.148      0.883      -0.318       0.370\n",
      "DeviceProtection_Yes               0.1470      0.176      0.834      0.405      -0.199       0.493\n",
      "TechSupport_Yes                   -0.1810      0.181     -1.002      0.316      -0.535       0.173\n",
      "StreamingTV_Yes                    0.5916      0.326      1.813      0.070      -0.048       1.231\n",
      "StreamingMovies_Yes                0.5998      0.327      1.836      0.066      -0.041       1.240\n",
      "Contract_Month_to_month            0.7798   3.87e+06   2.01e-07      1.000   -7.59e+06    7.59e+06\n",
      "Contract_One_year                  0.1182   3.87e+06   3.05e-08      1.000   -7.59e+06    7.59e+06\n",
      "Contract_Two_year                 -0.5777   3.87e+06  -1.49e-07      1.000   -7.59e+06    7.59e+06\n",
      "PaperlessBilling_Yes               0.3411      0.074      4.580      0.000       0.195       0.487\n",
      "PaymentMethod_Electronic_check     0.3469      0.077      4.503      0.000       0.196       0.498\n",
      "PaymentMethod_Mailed_check        -0.0146      0.101     -0.145      0.885      -0.212       0.183\n",
      "==================================================================================================\n"
     ]
    }
   ],
   "source": [
    "from statsmodels.formula.api import logit\n",
    "m = logit('Churn_Yes ~ gender_Female + tenure + MonthlyCharges + TotalCharges + SeniorCitizen_1 + Partner_Yes + Dependents_Yes + PhoneService_Yes + MultipleLines_Yes + InternetService_Fiber_optic + InternetService_No + OnlineSecurity_Yes + OnlineBackup_Yes +DeviceProtection_Yes + TechSupport_Yes+ StreamingTV_Yes + StreamingMovies_Yes + Contract_Month_to_month + Contract_One_year+ Contract_Two_year + PaperlessBilling_Yes + PaymentMethod_Electronic_check + PaymentMethod_Mailed_check',new_data).fit()\n",
    "print(m.summary())"
   ]
  },
  {
   "cell_type": "code",
   "execution_count": 33,
   "metadata": {},
   "outputs": [],
   "source": [
    "y = new_data['Churn_Yes'].values\n",
    "X = new_data.drop(['Churn_Yes'], axis=1).values\n",
    "\n",
    "from sklearn.linear_model import LogisticRegression\n",
    "from sklearn.metrics import confusion_matrix, classification_report\n",
    "from sklearn.model_selection import train_test_split\n",
    "\n",
    "# Create training and test sets\n",
    "X_train, X_test, y_train, y_test = train_test_split(X, y, test_size = 0.3, random_state=42)\n"
   ]
  },
  {
   "cell_type": "code",
   "execution_count": 34,
   "metadata": {},
   "outputs": [
    {
     "name": "stderr",
     "output_type": "stream",
     "text": [
      "[Parallel(n_jobs=1)]: Done   1 out of   1 | elapsed:    2.2s remaining:    0.0s\n",
      "[Parallel(n_jobs=1)]: Done  24 out of  24 | elapsed:   45.2s finished\n",
      "\n",
      "[2018-09-24 12:09:48] Features: 1/10 -- score: 0.7543736395618755[Parallel(n_jobs=1)]: Done   1 out of   1 | elapsed:    2.2s remaining:    0.0s\n",
      "[Parallel(n_jobs=1)]: Done  23 out of  23 | elapsed:   52.7s finished\n",
      "\n",
      "[2018-09-24 12:10:41] Features: 2/10 -- score: 0.7878904256685388[Parallel(n_jobs=1)]: Done   1 out of   1 | elapsed:    2.2s remaining:    0.0s\n",
      "[Parallel(n_jobs=1)]: Done  22 out of  22 | elapsed:   50.6s finished\n",
      "\n",
      "[2018-09-24 12:11:32] Features: 3/10 -- score: 0.7923644507491959[Parallel(n_jobs=1)]: Done   1 out of   1 | elapsed:    2.3s remaining:    0.0s\n",
      "[Parallel(n_jobs=1)]: Done  21 out of  21 | elapsed:   48.3s finished\n",
      "\n",
      "[2018-09-24 12:12:20] Features: 4/10 -- score: 0.7907390526910933[Parallel(n_jobs=1)]: Done   1 out of   1 | elapsed:    2.2s remaining:    0.0s\n",
      "[Parallel(n_jobs=1)]: Done  20 out of  20 | elapsed:   46.5s finished\n",
      "\n",
      "[2018-09-24 12:13:07] Features: 5/10 -- score: 0.7858636851652455[Parallel(n_jobs=1)]: Done   1 out of   1 | elapsed:    2.2s remaining:    0.0s\n",
      "[Parallel(n_jobs=1)]: Done  19 out of  19 | elapsed:   44.2s finished\n",
      "\n",
      "[2018-09-24 12:13:51] Features: 6/10 -- score: 0.7807807276966656[Parallel(n_jobs=1)]: Done   1 out of   1 | elapsed:    2.2s remaining:    0.0s\n",
      "[Parallel(n_jobs=1)]: Done  18 out of  18 | elapsed:   41.0s finished\n",
      "\n",
      "[2018-09-24 12:14:32] Features: 7/10 -- score: 0.7795605952003253[Parallel(n_jobs=1)]: Done   1 out of   1 | elapsed:    2.2s remaining:    0.0s\n",
      "[Parallel(n_jobs=1)]: Done  17 out of  17 | elapsed:   38.7s finished\n",
      "\n",
      "[2018-09-24 12:15:11] Features: 8/10 -- score: 0.7746872936658786[Parallel(n_jobs=1)]: Done   1 out of   1 | elapsed:    2.4s remaining:    0.0s\n",
      "[Parallel(n_jobs=1)]: Done  16 out of  16 | elapsed:   37.4s finished\n",
      "\n",
      "[2018-09-24 12:15:48] Features: 9/10 -- score: 0.776313104838295[Parallel(n_jobs=1)]: Done   1 out of   1 | elapsed:    2.2s remaining:    0.0s\n"
     ]
    },
    {
     "name": "stdout",
     "output_type": "stream",
     "text": [
      "[0, 4, 8, 9, 10, 16, 17, 18, 19, 23]\n"
     ]
    },
    {
     "name": "stderr",
     "output_type": "stream",
     "text": [
      "[Parallel(n_jobs=1)]: Done  15 out of  15 | elapsed:   34.4s finished\n",
      "\n",
      "[2018-09-24 12:16:23] Features: 10/10 -- score: 0.7738780031447907"
     ]
    }
   ],
   "source": [
    "from sklearn.ensemble import RandomForestClassifier\n",
    "from mlxtend.feature_selection import SequentialFeatureSelector as sfs\n",
    "clf = RandomForestClassifier(n_estimators=100, n_jobs=-1)\n",
    "\n",
    "sfs1 = sfs(clf,\n",
    "           k_features=10,\n",
    "           forward=True,\n",
    "           floating=False,\n",
    "           verbose=2,\n",
    "           scoring='accuracy',\n",
    "           cv=5)\n",
    "\n",
    "# Perform SFFS\n",
    "sfs1 = sfs1.fit(X_train, y_train)\n",
    "\n",
    "feat_cols = list(sfs1.k_feature_idx_)\n",
    "print(feat_cols)"
   ]
  },
  {
   "cell_type": "code",
   "execution_count": 35,
   "metadata": {},
   "outputs": [
    {
     "data": {
      "text/plain": [
       "Index(['tenure', 'MonthlyCharges', 'TotalCharges', 'gender_Female',\n",
       "       'SeniorCitizen_1', 'Partner_Yes', 'Dependents_Yes', 'PhoneService_Yes',\n",
       "       'MultipleLines_Yes', 'InternetService_Fiber_optic',\n",
       "       'InternetService_No', 'OnlineSecurity_Yes', 'OnlineBackup_Yes',\n",
       "       'DeviceProtection_Yes', 'TechSupport_Yes', 'StreamingTV_Yes',\n",
       "       'StreamingMovies_Yes', 'Contract_Month_to_month', 'Contract_One_year',\n",
       "       'Contract_Two_year', 'PaperlessBilling_Yes',\n",
       "       'PaymentMethod_Bank_transfer_automatic',\n",
       "       'PaymentMethod_Electronic_check', 'PaymentMethod_Mailed_check',\n",
       "       'Churn_Yes'],\n",
       "      dtype='object')"
      ]
     },
     "execution_count": 35,
     "metadata": {},
     "output_type": "execute_result"
    }
   ],
   "source": [
    "new_data.columns"
   ]
  },
  {
   "cell_type": "markdown",
   "metadata": {},
   "source": [
    "Tenure,MonthlyCharges,SeniorCitizen_1,PhoneService_Yes,InternetService_Fiber_optic,InternetService_No,Contract_Month_to_month,Contract_One_year,\n",
    "       Contract_Two_year,PaymentMethod_Electronic_check"
   ]
  },
  {
   "cell_type": "markdown",
   "metadata": {},
   "source": [
    "# Classification"
   ]
  },
  {
   "cell_type": "markdown",
   "metadata": {},
   "source": [
    "Approaches for Predicting Qualitative Responses are called Classification. There are many classification techniques,widely used are __Logistic Regression,Decision Trees,SVM,Random Forest and XG Boost__. __Deep Learning__ also can be applied for classification problems."
   ]
  },
  {
   "attachments": {
    "image.png": {
     "image/png": "[encoded data removed]"
    }
   },
   "cell_type": "markdown",
   "metadata": {},
   "source": [
    "__Confusion Matrix__\t\n",
    "![image.png](attachment:image.png)\n",
    "\n",
    "\n",
    "The above table is called the Confusion Matrix, it clearly helps in studying our model performance.\n",
    "\n",
    "*  True Positive  - Actual Data point is positive and Predicted as positive\n",
    "*  True Negative  - Actual Data point is negative and Predicted as negative\n",
    "*  False Positive - Actual Data point is negative and Predicted as positive\n",
    "*  False Negative - Actual Data point is positive and Predicted as negative.\n",
    "\n",
    "From above four values two metrics are calculated \n",
    "\n",
    "*  __Precision = True Positives/(True Positives + False Positives)__\n",
    "*  __Recall    = True Positives/(True Positives + False Negatives)__\n",
    "\n",
    "\n",
    "Precision talks about out of Total predicted postive values how many are actually Positive. Recall talks about the Total positive values predicted right.\n",
    "\n",
    "* __Cost of False Postive is high, then Precision is a good measure__\n",
    "* __Cost of False Negative is high, then recall is a good measure.__\n",
    "\n",
    "\n",
    "__For Customer churn classification, False Negative cost is high that is if a customer churned, is identified as not churned customer. So Recall is an important measure for this dataset.__"
   ]
  },
  {
   "cell_type": "markdown",
   "metadata": {},
   "source": [
    "## Logistic Regression\n",
    "\n",
    "__Logistic Regression__ models the __probability__that the output variable belongs to a particular category. Logistic Regression uses Logistic function as follows\n",
    "\n",
    "                p(X) = e^(b0 + b1*X) / (1 + e^(b0 + b1*X))\n",
    "                "
   ]
  },
  {
   "cell_type": "code",
   "execution_count": 36,
   "metadata": {},
   "outputs": [
    {
     "name": "stdout",
     "output_type": "stream",
     "text": [
      "[[1152  148]\n",
      " [ 223  235]]\n",
      "             precision    recall  f1-score   support\n",
      "\n",
      "          0       0.84      0.89      0.86      1300\n",
      "          1       0.61      0.51      0.56       458\n",
      "\n",
      "avg / total       0.78      0.79      0.78      1758\n",
      "\n"
     ]
    }
   ],
   "source": [
    "from sklearn.linear_model import LogisticRegression\n",
    "from sklearn.metrics import confusion_matrix, classification_report\n",
    "from sklearn.model_selection import train_test_split\n",
    "X_train, X_test, y_train, y_test = train_test_split(X, y, test_size = 0.25, random_state=42)\n",
    "# Create the classifier: logreg\n",
    "logreg = LogisticRegression()\n",
    "\n",
    "# Fit the classifier to the training data\n",
    "logreg.fit(X_train,y_train)\n",
    "\n",
    "# Predict the labels of the test set: y_pred\n",
    "y_pred = logreg.predict(X_test)\n",
    "\n",
    "# Compute and print the confusion matrix and classification report\n",
    "print(confusion_matrix(y_test, y_pred))\n",
    "print(classification_report(y_test, y_pred))\n"
   ]
  },
  {
   "cell_type": "markdown",
   "metadata": {},
   "source": [
    "## Decision Trees"
   ]
  },
  {
   "cell_type": "markdown",
   "metadata": {},
   "source": [
    "Decision Trees are non- non-parametric supervised learning method used for classification and regression. The goal is to create a model that predicts the value of a target variable by learning simple decision rules inferred from the data features. \n",
    "*  Decision Trees can be able to handle both continuous and categorical data. \n",
    "*  The main disadvantage of Decision trees are it will create overcomplex trees that lead to __Overfitting__. It also create biased tree if one class dominates."
   ]
  },
  {
   "cell_type": "code",
   "execution_count": 37,
   "metadata": {},
   "outputs": [
    {
     "name": "stdout",
     "output_type": "stream",
     "text": [
      "[[1033  267]\n",
      " [ 229  229]]\n",
      "             precision    recall  f1-score   support\n",
      "\n",
      "          0       0.82      0.79      0.81      1300\n",
      "          1       0.46      0.50      0.48       458\n",
      "\n",
      "avg / total       0.73      0.72      0.72      1758\n",
      "\n",
      "0.7178612059158134\n"
     ]
    }
   ],
   "source": [
    "import model_evaluation_utils as meu\n",
    "from sklearn.tree import DecisionTreeClassifier\n",
    "\n",
    "Dtree = DecisionTreeClassifier()\n",
    "Dtree.fit(X_train,y_train)\n",
    "\n",
    "Dtree_predictions = Dtree.predict(X_test)\n",
    "\n",
    "#meu.display_model_performance_metrics(true_labels=y_test, predicted_labels=Dtree_predictions, \n",
    "                                    #  classes=b_test_labels)\n",
    "    \n",
    "from sklearn import metrics\n",
    "\n",
    "print(confusion_matrix(y_test, Dtree_predictions))\n",
    "print(classification_report(y_test, Dtree_predictions))\n",
    "\n",
    "print (metrics.accuracy_score(y_test,Dtree_predictions))"
   ]
  },
  {
   "cell_type": "markdown",
   "metadata": {},
   "source": [
    "## Random Forest"
   ]
  },
  {
   "cell_type": "markdown",
   "metadata": {},
   "source": [
    "In Random Forest each tree is built from samples wit replacement from training set. Split is not chosen as the best split among features instead built from random subset of features."
   ]
  },
  {
   "cell_type": "code",
   "execution_count": 38,
   "metadata": {},
   "outputs": [
    {
     "name": "stdout",
     "output_type": "stream",
     "text": [
      "[[1159  141]\n",
      " [ 250  208]]\n",
      "             precision    recall  f1-score   support\n",
      "\n",
      "          0       0.82      0.89      0.86      1300\n",
      "          1       0.60      0.45      0.52       458\n",
      "\n",
      "avg / total       0.76      0.78      0.77      1758\n",
      "\n",
      "0.7775881683731513\n"
     ]
    }
   ],
   "source": [
    "from sklearn.ensemble import RandomForestClassifier\n",
    "# train the model\n",
    "RF = RandomForestClassifier()\n",
    "RF.fit(X_train, y_train)\n",
    "# predict and evaluate performance\n",
    "RF_predictions = RF.predict(X_test)\n",
    "\n",
    "print(confusion_matrix(y_test, RF_predictions))\n",
    "print(classification_report(y_test, RF_predictions))\n",
    "\n",
    "print (metrics.accuracy_score(y_test,RF_predictions))"
   ]
  },
  {
   "cell_type": "markdown",
   "metadata": {},
   "source": [
    "## SVM"
   ]
  },
  {
   "cell_type": "markdown",
   "metadata": {},
   "source": [
    "*  SVM - Support Vector Machines are very effective in high dimensional spaces.\n",
    "*  Rather than simply drawing a zero-width line between the classes, margin of some width can be drawn around each line, up to the nearest point."
   ]
  },
  {
   "cell_type": "code",
   "execution_count": 39,
   "metadata": {},
   "outputs": [
    {
     "name": "stdout",
     "output_type": "stream",
     "text": [
      "[[1224   76]\n",
      " [ 344  114]]\n",
      "             precision    recall  f1-score   support\n",
      "\n",
      "          0       0.78      0.94      0.85      1300\n",
      "          1       0.60      0.25      0.35       458\n",
      "\n",
      "avg / total       0.73      0.76      0.72      1758\n",
      "\n",
      "0.7610921501706485\n"
     ]
    }
   ],
   "source": [
    "from sklearn import svm\n",
    "sv = svm.SVC()\n",
    "sv.fit(X_train, y_train)\n",
    "\n",
    "# predict and evaluate performance\n",
    "sv_predictions = sv.predict(X_test)\n",
    "\n",
    "print(confusion_matrix(y_test, sv_predictions))\n",
    "print(classification_report(y_test, sv_predictions))\n",
    "\n",
    "print (metrics.accuracy_score(y_test,sv_predictions))"
   ]
  },
  {
   "cell_type": "markdown",
   "metadata": {},
   "source": [
    "## XG Boost"
   ]
  },
  {
   "cell_type": "markdown",
   "metadata": {},
   "source": [
    "XGBoost is an implementation of gradient boosted decision trees designed for speed and performance that is dominative competitive machine learning."
   ]
  },
  {
   "cell_type": "code",
   "execution_count": 40,
   "metadata": {},
   "outputs": [
    {
     "name": "stdout",
     "output_type": "stream",
     "text": [
      "[[1169  131]\n",
      " [ 236  222]]\n",
      "             precision    recall  f1-score   support\n",
      "\n",
      "          0       0.83      0.90      0.86      1300\n",
      "          1       0.63      0.48      0.55       458\n",
      "\n",
      "avg / total       0.78      0.79      0.78      1758\n",
      "\n",
      "0.7912400455062572\n"
     ]
    },
    {
     "name": "stderr",
     "output_type": "stream",
     "text": [
      "C:\\Users\\Sivakumar\\Anaconda3\\lib\\site-packages\\sklearn\\preprocessing\\label.py:151: DeprecationWarning: The truth value of an empty array is ambiguous. Returning False, but in future this will result in an error. Use `array.size > 0` to check that an array is not empty.\n",
      "  if diff:\n"
     ]
    }
   ],
   "source": [
    "import xgboost as xgb\n",
    "xgb = xgb.XGBClassifier(seed=42)\n",
    "xgb.fit(X_train, y_train)\n",
    "xgb_predictions = xgb.predict(X_test)\n",
    "print(confusion_matrix(y_test, xgb_predictions))\n",
    "print(classification_report(y_test, xgb_predictions))\n",
    "\n",
    "print (metrics.accuracy_score(y_test,xgb_predictions))"
   ]
  },
  {
   "cell_type": "markdown",
   "metadata": {},
   "source": [
    "## Deep Learning"
   ]
  },
  {
   "cell_type": "code",
   "execution_count": 41,
   "metadata": {},
   "outputs": [
    {
     "name": "stderr",
     "output_type": "stream",
     "text": [
      "C:\\Users\\Sivakumar\\Anaconda3\\lib\\site-packages\\h5py\\__init__.py:36: FutureWarning: Conversion of the second argument of issubdtype from `float` to `np.floating` is deprecated. In future, it will be treated as `np.float64 == np.dtype(float).type`.\n",
      "  from ._conv import register_converters as _register_converters\n",
      "Using TensorFlow backend.\n"
     ]
    },
    {
     "name": "stdout",
     "output_type": "stream",
     "text": [
      "Epoch 1/100\n",
      "5274/5274 [==============================] - 2s 335us/step - loss: 3.0065 - acc: 0.7311\n",
      "Epoch 2/100\n",
      "5274/5274 [==============================] - 0s 47us/step - loss: 2.6574 - acc: 0.7372\n",
      "Epoch 3/100\n",
      "5274/5274 [==============================] - 0s 46us/step - loss: 2.4148 - acc: 0.7476\n",
      "Epoch 4/100\n",
      "5274/5274 [==============================] - 0s 45us/step - loss: 3.0260 - acc: 0.7349\n",
      "Epoch 5/100\n",
      "5274/5274 [==============================] - 0s 46us/step - loss: 2.5970 - acc: 0.7543\n",
      "Epoch 6/100\n",
      "5274/5274 [==============================] - 0s 44us/step - loss: 2.3121 - acc: 0.7353\n",
      "Epoch 7/100\n",
      "5274/5274 [==============================] - 0s 44us/step - loss: 2.0924 - acc: 0.7516\n",
      "Epoch 8/100\n",
      "5274/5274 [==============================] - 0s 44us/step - loss: 2.2452 - acc: 0.7526\n",
      "Epoch 9/100\n",
      "5274/5274 [==============================] - 0s 44us/step - loss: 2.3750 - acc: 0.7491\n",
      "Epoch 10/100\n",
      "5274/5274 [==============================] - 0s 44us/step - loss: 1.7016 - acc: 0.7380\n",
      "Epoch 11/100\n",
      "5274/5274 [==============================] - 0s 45us/step - loss: 1.1265 - acc: 0.7412\n",
      "Epoch 12/100\n",
      "5274/5274 [==============================] - 0s 45us/step - loss: 0.7644 - acc: 0.7473\n",
      "Epoch 13/100\n",
      "5274/5274 [==============================] - 0s 44us/step - loss: 0.5922 - acc: 0.7611\n",
      "Epoch 14/100\n",
      "5274/5274 [==============================] - 0s 47us/step - loss: 0.6568 - acc: 0.7622\n",
      "Epoch 15/100\n",
      "5274/5274 [==============================] - 0s 44us/step - loss: 0.5272 - acc: 0.7681\n",
      "Epoch 16/100\n",
      "5274/5274 [==============================] - 0s 49us/step - loss: 0.4981 - acc: 0.7770\n",
      "Epoch 17/100\n",
      "5274/5274 [==============================] - 0s 45us/step - loss: 0.4860 - acc: 0.7856\n",
      "Epoch 18/100\n",
      "5274/5274 [==============================] - 0s 48us/step - loss: 0.5010 - acc: 0.7787\n",
      "Epoch 19/100\n",
      "5274/5274 [==============================] - 0s 47us/step - loss: 0.4537 - acc: 0.7916\n",
      "Epoch 20/100\n",
      "5274/5274 [==============================] - 0s 45us/step - loss: 0.4590 - acc: 0.7874\n",
      "Epoch 21/100\n",
      "5274/5274 [==============================] - 0s 62us/step - loss: 0.4673 - acc: 0.7825\n",
      "Epoch 22/100\n",
      "5274/5274 [==============================] - 0s 65us/step - loss: 0.4511 - acc: 0.7918\n",
      "Epoch 23/100\n",
      "5274/5274 [==============================] - 0s 63us/step - loss: 0.4812 - acc: 0.7880\n",
      "Epoch 24/100\n",
      "5274/5274 [==============================] - 0s 45us/step - loss: 0.4384 - acc: 0.7931\n",
      "Epoch 25/100\n",
      "5274/5274 [==============================] - 0s 45us/step - loss: 0.4778 - acc: 0.7793\n",
      "Epoch 26/100\n",
      "5274/5274 [==============================] - 0s 45us/step - loss: 0.4406 - acc: 0.7962\n",
      "Epoch 27/100\n",
      "5274/5274 [==============================] - 0s 47us/step - loss: 0.4345 - acc: 0.7911\n",
      "Epoch 28/100\n",
      "5274/5274 [==============================] - 0s 46us/step - loss: 0.4506 - acc: 0.7873\n",
      "Epoch 29/100\n",
      "5274/5274 [==============================] - 0s 53us/step - loss: 0.4529 - acc: 0.7926\n",
      "Epoch 30/100\n",
      "5274/5274 [==============================] - 0s 55us/step - loss: 0.4621 - acc: 0.7892\n",
      "Epoch 31/100\n",
      "5274/5274 [==============================] - 0s 58us/step - loss: 0.4409 - acc: 0.7954\n",
      "Epoch 32/100\n",
      "5274/5274 [==============================] - 0s 57us/step - loss: 0.4506 - acc: 0.7871\n",
      "Epoch 33/100\n",
      "5274/5274 [==============================] - 0s 54us/step - loss: 0.4586 - acc: 0.7888\n",
      "Epoch 34/100\n",
      "5274/5274 [==============================] - 0s 57us/step - loss: 0.4776 - acc: 0.7791\n",
      "Epoch 35/100\n",
      "5274/5274 [==============================] - 0s 54us/step - loss: 0.4405 - acc: 0.7922\n",
      "Epoch 36/100\n",
      "5274/5274 [==============================] - 0s 55us/step - loss: 0.4651 - acc: 0.7814\n",
      "Epoch 37/100\n",
      "5274/5274 [==============================] - 0s 52us/step - loss: 0.4317 - acc: 0.7888\n",
      "Epoch 38/100\n",
      "5274/5274 [==============================] - 0s 52us/step - loss: 0.4321 - acc: 0.7984\n",
      "Epoch 39/100\n",
      "5274/5274 [==============================] - 0s 52us/step - loss: 0.4467 - acc: 0.7903\n",
      "Epoch 40/100\n",
      "5274/5274 [==============================] - 0s 52us/step - loss: 0.4308 - acc: 0.7996\n",
      "Epoch 41/100\n",
      "5274/5274 [==============================] - 0s 53us/step - loss: 0.4389 - acc: 0.7962\n",
      "Epoch 42/100\n",
      "5274/5274 [==============================] - 0s 88us/step - loss: 0.4482 - acc: 0.7907\n",
      "Epoch 43/100\n",
      "5274/5274 [==============================] - 0s 91us/step - loss: 0.4299 - acc: 0.7956\n",
      "Epoch 44/100\n",
      "5274/5274 [==============================] - 0s 63us/step - loss: 0.4413 - acc: 0.7929\n",
      "Epoch 45/100\n",
      "5274/5274 [==============================] - 0s 61us/step - loss: 0.4606 - acc: 0.7865\n",
      "Epoch 46/100\n",
      "5274/5274 [==============================] - 0s 64us/step - loss: 0.4582 - acc: 0.7878\n",
      "Epoch 47/100\n",
      "5274/5274 [==============================] - 0s 59us/step - loss: 0.4444 - acc: 0.7965\n",
      "Epoch 48/100\n",
      "5274/5274 [==============================] - 0s 48us/step - loss: 0.4523 - acc: 0.7945\n",
      "Epoch 49/100\n",
      "5274/5274 [==============================] - 0s 48us/step - loss: 0.4436 - acc: 0.7988\n",
      "Epoch 50/100\n",
      "5274/5274 [==============================] - 0s 45us/step - loss: 0.4454 - acc: 0.7981\n",
      "Epoch 51/100\n",
      "5274/5274 [==============================] - 0s 46us/step - loss: 0.4554 - acc: 0.7948\n",
      "Epoch 52/100\n",
      "5274/5274 [==============================] - 0s 45us/step - loss: 0.4820 - acc: 0.7850\n",
      "Epoch 53/100\n",
      "5274/5274 [==============================] - 0s 44us/step - loss: 0.4417 - acc: 0.7975\n",
      "Epoch 54/100\n",
      "5274/5274 [==============================] - 0s 43us/step - loss: 0.4381 - acc: 0.7969\n",
      "Epoch 55/100\n",
      "5274/5274 [==============================] - 0s 46us/step - loss: 0.4387 - acc: 0.7977\n",
      "Epoch 56/100\n",
      "5274/5274 [==============================] - 0s 44us/step - loss: 0.4256 - acc: 0.8041\n",
      "Epoch 57/100\n",
      "5274/5274 [==============================] - 0s 45us/step - loss: 0.4320 - acc: 0.7945\n",
      "Epoch 58/100\n",
      "5274/5274 [==============================] - 0s 43us/step - loss: 0.4336 - acc: 0.7998\n",
      "Epoch 59/100\n",
      "5274/5274 [==============================] - 0s 45us/step - loss: 0.4346 - acc: 0.8020\n",
      "Epoch 60/100\n",
      "5274/5274 [==============================] - 0s 45us/step - loss: 0.4354 - acc: 0.7990\n",
      "Epoch 61/100\n",
      "5274/5274 [==============================] - 0s 45us/step - loss: 0.4512 - acc: 0.7918\n",
      "Epoch 62/100\n",
      "5274/5274 [==============================] - 0s 45us/step - loss: 0.4246 - acc: 0.8049\n",
      "Epoch 63/100\n",
      "5274/5274 [==============================] - 0s 54us/step - loss: 0.4456 - acc: 0.7971\n",
      "Epoch 64/100\n",
      "5274/5274 [==============================] - 0s 63us/step - loss: 0.4267 - acc: 0.8053\n",
      "Epoch 65/100\n",
      "5274/5274 [==============================] - 0s 62us/step - loss: 0.4397 - acc: 0.7979\n",
      "Epoch 66/100\n",
      "5274/5274 [==============================] - 0s 44us/step - loss: 0.4311 - acc: 0.8017\n",
      "Epoch 67/100\n",
      "5274/5274 [==============================] - 0s 45us/step - loss: 0.4247 - acc: 0.8060\n",
      "Epoch 68/100\n",
      "5274/5274 [==============================] - 0s 45us/step - loss: 0.4351 - acc: 0.7956\n",
      "Epoch 69/100\n",
      "5274/5274 [==============================] - 0s 45us/step - loss: 0.4362 - acc: 0.7990\n",
      "Epoch 70/100\n",
      "5274/5274 [==============================] - 0s 43us/step - loss: 0.4335 - acc: 0.8017\n",
      "Epoch 71/100\n",
      "5274/5274 [==============================] - 0s 45us/step - loss: 0.4308 - acc: 0.7988\n",
      "Epoch 72/100\n",
      "5274/5274 [==============================] - 0s 45us/step - loss: 0.4242 - acc: 0.8034\n",
      "Epoch 73/100\n",
      "5274/5274 [==============================] - 0s 45us/step - loss: 0.4321 - acc: 0.7994\n",
      "Epoch 74/100\n",
      "5274/5274 [==============================] - 0s 45us/step - loss: 0.4278 - acc: 0.8022\n",
      "Epoch 75/100\n",
      "5274/5274 [==============================] - 0s 45us/step - loss: 0.4405 - acc: 0.7928\n",
      "Epoch 76/100\n",
      "5274/5274 [==============================] - 0s 46us/step - loss: 0.4337 - acc: 0.8030\n",
      "Epoch 77/100\n",
      "5274/5274 [==============================] - 0s 45us/step - loss: 0.4336 - acc: 0.7992\n",
      "Epoch 78/100\n",
      "5274/5274 [==============================] - 0s 45us/step - loss: 0.4370 - acc: 0.7986\n",
      "Epoch 79/100\n",
      "5274/5274 [==============================] - 0s 45us/step - loss: 0.4218 - acc: 0.7979\n",
      "Epoch 80/100\n",
      "5274/5274 [==============================] - 0s 44us/step - loss: 0.4438 - acc: 0.7954\n",
      "Epoch 81/100\n",
      "5274/5274 [==============================] - 0s 45us/step - loss: 0.4345 - acc: 0.7998\n",
      "Epoch 82/100\n",
      "5274/5274 [==============================] - 0s 43us/step - loss: 0.4224 - acc: 0.8020\n",
      "Epoch 83/100\n"
     ]
    },
    {
     "name": "stdout",
     "output_type": "stream",
     "text": [
      "5274/5274 [==============================] - 0s 44us/step - loss: 0.4257 - acc: 0.7984\n",
      "Epoch 84/100\n",
      "5274/5274 [==============================] - 0s 41us/step - loss: 0.4269 - acc: 0.7977\n",
      "Epoch 85/100\n",
      "5274/5274 [==============================] - 0s 43us/step - loss: 0.4252 - acc: 0.7992\n",
      "Epoch 86/100\n",
      "5274/5274 [==============================] - 0s 49us/step - loss: 0.4242 - acc: 0.8020\n",
      "Epoch 87/100\n",
      "5274/5274 [==============================] - 0s 66us/step - loss: 0.4203 - acc: 0.8013\n",
      "Epoch 88/100\n",
      "5274/5274 [==============================] - 0s 69us/step - loss: 0.4288 - acc: 0.7996\n",
      "Epoch 89/100\n",
      "5274/5274 [==============================] - 0s 54us/step - loss: 0.4202 - acc: 0.8070\n",
      "Epoch 90/100\n",
      "5274/5274 [==============================] - 0s 55us/step - loss: 0.4251 - acc: 0.7979\n",
      "Epoch 91/100\n",
      "5274/5274 [==============================] - 0s 53us/step - loss: 0.4354 - acc: 0.7960\n",
      "Epoch 92/100\n",
      "5274/5274 [==============================] - 0s 52us/step - loss: 0.4321 - acc: 0.7983\n",
      "Epoch 93/100\n",
      "5274/5274 [==============================] - 0s 54us/step - loss: 0.4827 - acc: 0.7884\n",
      "Epoch 94/100\n",
      "5274/5274 [==============================] - 0s 50us/step - loss: 0.4171 - acc: 0.8047\n",
      "Epoch 95/100\n",
      "5274/5274 [==============================] - 0s 52us/step - loss: 0.4110 - acc: 0.8064\n",
      "Epoch 96/100\n",
      "5274/5274 [==============================] - 0s 50us/step - loss: 0.4150 - acc: 0.8051\n",
      "Epoch 97/100\n",
      "5274/5274 [==============================] - 0s 51us/step - loss: 0.4225 - acc: 0.8017\n",
      "Epoch 98/100\n",
      "5274/5274 [==============================] - 0s 50us/step - loss: 0.4148 - acc: 0.8068\n",
      "Epoch 99/100\n",
      "5274/5274 [==============================] - 0s 48us/step - loss: 0.4108 - acc: 0.8115\n",
      "Epoch 100/100\n",
      "5274/5274 [==============================] - 0s 50us/step - loss: 0.4207 - acc: 0.8034\n"
     ]
    },
    {
     "data": {
      "text/plain": [
       "<keras.callbacks.History at 0x2275fb916a0>"
      ]
     },
     "execution_count": 41,
     "metadata": {},
     "output_type": "execute_result"
    }
   ],
   "source": [
    "import keras\n",
    "from keras.layers import Dense\n",
    "from keras.models import Sequential\n",
    "from keras.utils import to_categorical\n",
    "\n",
    "# Convert the target to categorical: target\n",
    "\n",
    "\n",
    "target = to_categorical(new_data.Churn_Yes)\n",
    "n_cols = X.shape[1]\n",
    "\n",
    "A_train, A_test, b_train, b_test = train_test_split(X, target, test_size = 0.25, random_state=42)\n",
    "model = Sequential()\n",
    "\n",
    "# Add the first layer\n",
    "model.add(Dense(64,activation='relu',input_shape=(n_cols,)))\n",
    "\n",
    "model.add(Dense(64,activation='relu'))\n",
    "# Add the output layer\n",
    "\n",
    "model.add(Dense(64,activation='relu'))\n",
    "model.add(Dense(2,activation='softmax'))\n",
    "\n",
    "# Compile the model\n",
    "model.compile(optimizer='adam',loss='categorical_crossentropy',metrics=['accuracy'])\n",
    "\n",
    "# Fit the model\n",
    "model.fit(A_train,b_train,epochs=100)\n"
   ]
  },
  {
   "cell_type": "code",
   "execution_count": 42,
   "metadata": {},
   "outputs": [
    {
     "data": {
      "text/plain": [
       "No     5163\n",
       "Yes    1869\n",
       "Name: Churn, dtype: int64"
      ]
     },
     "execution_count": 42,
     "metadata": {},
     "output_type": "execute_result"
    }
   ],
   "source": [
    "data.Churn.value_counts()"
   ]
  },
  {
   "cell_type": "code",
   "execution_count": 43,
   "metadata": {},
   "outputs": [
    {
     "data": {
      "text/plain": [
       "1758"
      ]
     },
     "execution_count": 43,
     "metadata": {},
     "output_type": "execute_result"
    }
   ],
   "source": [
    "len(y_test)"
   ]
  },
  {
   "cell_type": "code",
   "execution_count": 44,
   "metadata": {},
   "outputs": [
    {
     "data": {
      "text/plain": [
       "Counter({0: 1300, 1: 458})"
      ]
     },
     "execution_count": 44,
     "metadata": {},
     "output_type": "execute_result"
    }
   ],
   "source": [
    "import collections\n",
    "collections.Counter(y_test)"
   ]
  },
  {
   "cell_type": "markdown",
   "metadata": {},
   "source": [
    "# SMOTE"
   ]
  },
  {
   "cell_type": "code",
   "execution_count": 45,
   "metadata": {},
   "outputs": [
    {
     "name": "stdout",
     "output_type": "stream",
     "text": [
      "Before OverSampling, counts of label '1': 1411\n",
      "Before OverSampling, counts of label '0': 3863 \n",
      "\n"
     ]
    }
   ],
   "source": [
    "print(\"Before OverSampling, counts of label '1': {}\".format(sum(y_train==1)))\n",
    "print(\"Before OverSampling, counts of label '0': {} \\n\".format(sum(y_train==0)))"
   ]
  },
  {
   "cell_type": "code",
   "execution_count": 46,
   "metadata": {},
   "outputs": [],
   "source": [
    "from imblearn.over_sampling import SMOTE\n",
    "sm = SMOTE(random_state=2)\n",
    "X_train_res, y_train_res = sm.fit_sample(X_train, y_train.ravel())"
   ]
  },
  {
   "cell_type": "code",
   "execution_count": 47,
   "metadata": {},
   "outputs": [
    {
     "name": "stdout",
     "output_type": "stream",
     "text": [
      "After OverSampling, counts of label '1': 3863\n",
      "After OverSampling, counts of label '0': 3863\n"
     ]
    }
   ],
   "source": [
    "print(\"After OverSampling, counts of label '1': {}\".format(sum(y_train_res==1)))\n",
    "print(\"After OverSampling, counts of label '0': {}\".format(sum(y_train_res==0)))"
   ]
  },
  {
   "cell_type": "markdown",
   "metadata": {},
   "source": [
    "## Logistic regression after SMOTE"
   ]
  },
  {
   "cell_type": "code",
   "execution_count": 48,
   "metadata": {},
   "outputs": [
    {
     "name": "stdout",
     "output_type": "stream",
     "text": [
      "[[947 353]\n",
      " [ 93 365]]\n",
      "             precision    recall  f1-score   support\n",
      "\n",
      "          0       0.91      0.73      0.81      1300\n",
      "          1       0.51      0.80      0.62       458\n",
      "\n",
      "avg / total       0.81      0.75      0.76      1758\n",
      "\n",
      "0.7463026166097838\n",
      "0.46915844115220157\n"
     ]
    }
   ],
   "source": [
    "logreg_smote = LogisticRegression()\n",
    "\n",
    "# Fit the classifier to the training data\n",
    "logreg_smote.fit(X_train_res,y_train_res.ravel())\n",
    "\n",
    "# Predict the labels of the test set: y_pred\n",
    "y_pred = logreg_smote.predict(X_test)\n",
    "\n",
    "# Compute and print the confusion matrix and classification report\n",
    "print(confusion_matrix(y_test, y_pred))\n",
    "print(classification_report(y_test, y_pred))\n",
    "from sklearn import metrics\n",
    "\n",
    "print (metrics.accuracy_score(y_test,y_pred))\n",
    "from sklearn.metrics import matthews_corrcoef\n",
    "print (matthews_corrcoef(y_test,y_pred))"
   ]
  },
  {
   "cell_type": "markdown",
   "metadata": {},
   "source": [
    "## Decision Tree - SMOTE"
   ]
  },
  {
   "cell_type": "code",
   "execution_count": 49,
   "metadata": {},
   "outputs": [
    {
     "name": "stdout",
     "output_type": "stream",
     "text": [
      "[[1030  270]\n",
      " [ 220  238]]\n",
      "             precision    recall  f1-score   support\n",
      "\n",
      "          0       0.82      0.79      0.81      1300\n",
      "          1       0.47      0.52      0.49       458\n",
      "\n",
      "avg / total       0.73      0.72      0.73      1758\n",
      "\n",
      "0.7212741751990899\n"
     ]
    }
   ],
   "source": [
    "Dtree_smote = DecisionTreeClassifier()\n",
    "Dtree_smote.fit(X_train_res,y_train_res)\n",
    "\n",
    "Dtree_predictions_smote = Dtree_smote.predict(X_test)\n",
    "\n",
    "#meu.display_model_performance_metrics(true_labels=y_test, predicted_labels=Dtree_predictions, \n",
    "                                    #  classes=b_test_labels)\n",
    "    \n",
    "from sklearn import metrics\n",
    "\n",
    "print(confusion_matrix(y_test, Dtree_predictions_smote))\n",
    "print(classification_report(y_test, Dtree_predictions_smote))\n",
    "\n",
    "print (metrics.accuracy_score(y_test,Dtree_predictions_smote))"
   ]
  },
  {
   "cell_type": "markdown",
   "metadata": {},
   "source": [
    "## Random Forest"
   ]
  },
  {
   "cell_type": "code",
   "execution_count": 50,
   "metadata": {},
   "outputs": [
    {
     "name": "stdout",
     "output_type": "stream",
     "text": [
      "[[1139  161]\n",
      " [ 248  210]]\n",
      "             precision    recall  f1-score   support\n",
      "\n",
      "          0       0.82      0.88      0.85      1300\n",
      "          1       0.57      0.46      0.51       458\n",
      "\n",
      "avg / total       0.75      0.77      0.76      1758\n",
      "\n",
      "0.767349260523322\n"
     ]
    }
   ],
   "source": [
    "RF_smote = RandomForestClassifier()\n",
    "RF_smote.fit(X_train_res, y_train_res)\n",
    "# predict and evaluate performance\n",
    "RF_predictions_smote = RF_smote.predict(X_test)\n",
    "\n",
    "print(confusion_matrix(y_test, RF_predictions_smote))\n",
    "print(classification_report(y_test, RF_predictions_smote))\n",
    "\n",
    "print (metrics.accuracy_score(y_test,RF_predictions_smote))"
   ]
  },
  {
   "cell_type": "markdown",
   "metadata": {},
   "source": [
    "## SVM with SMOTE"
   ]
  },
  {
   "cell_type": "code",
   "execution_count": 51,
   "metadata": {},
   "outputs": [
    {
     "name": "stdout",
     "output_type": "stream",
     "text": [
      "[[1092  208]\n",
      " [ 256  202]]\n",
      "             precision    recall  f1-score   support\n",
      "\n",
      "          0       0.81      0.84      0.82      1300\n",
      "          1       0.49      0.44      0.47       458\n",
      "\n",
      "avg / total       0.73      0.74      0.73      1758\n",
      "\n",
      "0.7360637087599545\n"
     ]
    }
   ],
   "source": [
    "sv_smote = svm.SVC()\n",
    "sv_smote.fit(X_train_res, y_train_res)\n",
    "# predict and evaluate performance\n",
    "sv_predictions_smote = sv_smote.predict(X_test)\n",
    "\n",
    "print(confusion_matrix(y_test, sv_predictions_smote))\n",
    "print(classification_report(y_test, sv_predictions_smote))\n",
    "\n",
    "print (metrics.accuracy_score(y_test,sv_predictions_smote))"
   ]
  },
  {
   "cell_type": "markdown",
   "metadata": {},
   "source": [
    "## XGBoost"
   ]
  },
  {
   "cell_type": "code",
   "execution_count": 52,
   "metadata": {},
   "outputs": [
    {
     "name": "stdout",
     "output_type": "stream",
     "text": [
      "[[1111  189]\n",
      " [ 194  264]]\n",
      "             precision    recall  f1-score   support\n",
      "\n",
      "          0       0.85      0.85      0.85      1300\n",
      "          1       0.58      0.58      0.58       458\n",
      "\n",
      "avg / total       0.78      0.78      0.78      1758\n",
      "\n",
      "0.7821387940841866\n"
     ]
    },
    {
     "name": "stderr",
     "output_type": "stream",
     "text": [
      "C:\\Users\\Sivakumar\\Anaconda3\\lib\\site-packages\\sklearn\\preprocessing\\label.py:151: DeprecationWarning: The truth value of an empty array is ambiguous. Returning False, but in future this will result in an error. Use `array.size > 0` to check that an array is not empty.\n",
      "  if diff:\n"
     ]
    }
   ],
   "source": [
    "import xgboost as xgb\n",
    "xgb_smote = xgb.XGBClassifier(seed=42)\n",
    "xgb_smote.fit(X_train_res, y_train_res)\n",
    "xgb_predictions_smote = xgb_smote.predict(X_test)\n",
    "print(confusion_matrix(y_test, xgb_predictions_smote))\n",
    "print(classification_report(y_test, xgb_predictions_smote))\n",
    "\n",
    "print (metrics.accuracy_score(y_test,xgb_predictions_smote))"
   ]
  },
  {
   "cell_type": "markdown",
   "metadata": {},
   "source": [
    "##  with less features Tenure,MonthlyCharges,SeniorCitizen_1,PhoneService_Yes,InternetService_Fiber_optic,InternetService_No,Contract_Month_to_month,Contract_One_year, Contract_Two_year,PaymentMethod_Electronic_check"
   ]
  },
  {
   "cell_type": "code",
   "execution_count": 53,
   "metadata": {},
   "outputs": [
    {
     "data": {
      "text/plain": [
       "Index(['tenure', 'MonthlyCharges', 'TotalCharges', 'gender_Female',\n",
       "       'SeniorCitizen_1', 'Partner_Yes', 'Dependents_Yes', 'PhoneService_Yes',\n",
       "       'MultipleLines_Yes', 'InternetService_Fiber_optic',\n",
       "       'InternetService_No', 'OnlineSecurity_Yes', 'OnlineBackup_Yes',\n",
       "       'DeviceProtection_Yes', 'TechSupport_Yes', 'StreamingTV_Yes',\n",
       "       'StreamingMovies_Yes', 'Contract_Month_to_month', 'Contract_One_year',\n",
       "       'Contract_Two_year', 'PaperlessBilling_Yes',\n",
       "       'PaymentMethod_Bank_transfer_automatic',\n",
       "       'PaymentMethod_Electronic_check', 'PaymentMethod_Mailed_check',\n",
       "       'Churn_Yes'],\n",
       "      dtype='object')"
      ]
     },
     "execution_count": 53,
     "metadata": {},
     "output_type": "execute_result"
    }
   ],
   "source": [
    "new_data.columns"
   ]
  },
  {
   "cell_type": "code",
   "execution_count": 54,
   "metadata": {},
   "outputs": [],
   "source": [
    "y1 = new_data['Churn_Yes'].values\n",
    "X1 = new_data[['InternetService_Fiber_optic','SeniorCitizen_1',\n",
    "       'InternetService_No','Contract_Month_to_month', 'Contract_One_year',\n",
    "       'Contract_Two_year','PaymentMethod_Bank_transfer_automatic',\n",
    "       'PaymentMethod_Electronic_check', 'PaymentMethod_Mailed_check']].values\n",
    "\n",
    "from sklearn.linear_model import LogisticRegression\n",
    "from sklearn.metrics import confusion_matrix, classification_report\n",
    "from sklearn.model_selection import train_test_split\n",
    "\n",
    "# Create training and test sets\n",
    "X1_train, X1_test, y1_train, y1_test = train_test_split(X1, y1, test_size = 0.25, random_state=42)\n",
    "\n",
    "from imblearn.over_sampling import SMOTE\n",
    "sm = SMOTE(random_state=2)\n",
    "X1_train_res, y1_train_res = sm.fit_sample(X1_train, y1_train)"
   ]
  },
  {
   "cell_type": "markdown",
   "metadata": {},
   "source": [
    "## Logistic Regression"
   ]
  },
  {
   "cell_type": "code",
   "execution_count": 55,
   "metadata": {},
   "outputs": [
    {
     "name": "stdout",
     "output_type": "stream",
     "text": [
      "[[861 439]\n",
      " [ 86 372]]\n",
      "             precision    recall  f1-score   support\n",
      "\n",
      "          0       0.91      0.66      0.77      1300\n",
      "          1       0.46      0.81      0.59       458\n",
      "\n",
      "avg / total       0.79      0.70      0.72      1758\n",
      "\n",
      "0.7013651877133106\n",
      "0.4178178931794868\n"
     ]
    }
   ],
   "source": [
    "logreg_f = LogisticRegression()\n",
    "\n",
    "# Fit the classifier to the training data\n",
    "logreg_f.fit(X1_train_res,y1_train_res)\n",
    "\n",
    "# Predict the labels of the test set: y_pred\n",
    "y_pred_f = logreg_f.predict(X1_test)\n",
    "\n",
    "# Compute and print the confusion matrix and classification report\n",
    "print(confusion_matrix(y1_test, y_pred_f))\n",
    "print(classification_report(y1_test, y_pred_f))\n",
    "from sklearn import metrics\n",
    "\n",
    "print (metrics.accuracy_score(y1_test,y_pred_f))\n",
    "print(matthews_corrcoef(y1_test,y_pred_f))"
   ]
  },
  {
   "cell_type": "markdown",
   "metadata": {},
   "source": [
    "## XG Boost"
   ]
  },
  {
   "cell_type": "code",
   "execution_count": 56,
   "metadata": {},
   "outputs": [
    {
     "name": "stdout",
     "output_type": "stream",
     "text": [
      "[[892 408]\n",
      " [ 99 359]]\n",
      "             precision    recall  f1-score   support\n",
      "\n",
      "          0       0.90      0.69      0.78      1300\n",
      "          1       0.47      0.78      0.59       458\n",
      "\n",
      "avg / total       0.79      0.71      0.73      1758\n",
      "\n",
      "0.71160409556314\n",
      "0.41597253798357825\n"
     ]
    },
    {
     "name": "stderr",
     "output_type": "stream",
     "text": [
      "C:\\Users\\Sivakumar\\Anaconda3\\lib\\site-packages\\sklearn\\preprocessing\\label.py:151: DeprecationWarning: The truth value of an empty array is ambiguous. Returning False, but in future this will result in an error. Use `array.size > 0` to check that an array is not empty.\n",
      "  if diff:\n"
     ]
    }
   ],
   "source": [
    "xgb_f = xgb.XGBClassifier(seed=42)\n",
    "xgb_f.fit(X1_train_res, y1_train_res)\n",
    "xgb_predictions_f = xgb_f.predict(X1_test)\n",
    "print(confusion_matrix(y1_test, xgb_predictions_f))\n",
    "print(classification_report(y1_test, xgb_predictions_f))\n",
    "\n",
    "print (metrics.accuracy_score(y1_test,xgb_predictions_f))\n",
    "print(matthews_corrcoef(y1_test,xgb_predictions_f))"
   ]
  },
  {
   "cell_type": "markdown",
   "metadata": {},
   "source": [
    "## Random Forest"
   ]
  },
  {
   "cell_type": "code",
   "execution_count": 57,
   "metadata": {},
   "outputs": [
    {
     "name": "stdout",
     "output_type": "stream",
     "text": [
      "[[893 407]\n",
      " [ 99 359]]\n",
      "             precision    recall  f1-score   support\n",
      "\n",
      "          0       0.90      0.69      0.78      1300\n",
      "          1       0.47      0.78      0.59       458\n",
      "\n",
      "avg / total       0.79      0.71      0.73      1758\n",
      "\n",
      "0.7121729237770194\n",
      "0.4167150304509077\n"
     ]
    }
   ],
   "source": [
    "RF_f = RandomForestClassifier()\n",
    "RF_f.fit(X1_train_res, y1_train_res)\n",
    "# predict and evaluate performance\n",
    "RF_predictions_f = RF_f.predict(X1_test)\n",
    "\n",
    "print(confusion_matrix(y1_test, RF_predictions_f))\n",
    "print(classification_report(y1_test, RF_predictions_f))\n",
    "\n",
    "print (metrics.accuracy_score(y1_test,RF_predictions_f))\n",
    "print(matthews_corrcoef(y1_test,RF_predictions_f))"
   ]
  },
  {
   "cell_type": "markdown",
   "metadata": {},
   "source": [
    "## SVM"
   ]
  },
  {
   "cell_type": "code",
   "execution_count": 58,
   "metadata": {},
   "outputs": [
    {
     "name": "stdout",
     "output_type": "stream",
     "text": [
      "[[832 468]\n",
      " [ 79 379]]\n",
      "             precision    recall  f1-score   support\n",
      "\n",
      "          0       0.91      0.64      0.75      1300\n",
      "          1       0.45      0.83      0.58       458\n",
      "\n",
      "avg / total       0.79      0.69      0.71      1758\n",
      "\n",
      "0.6888509670079636\n",
      "0.4106721748908771\n"
     ]
    }
   ],
   "source": [
    "sv_f = svm.SVC()\n",
    "sv_f.fit(X1_train_res, y1_train_res)\n",
    "# predict and evaluate performance\n",
    "sv_predictions_f = sv_f.predict(X1_test)\n",
    "\n",
    "print(confusion_matrix(y1_test, sv_predictions_f))\n",
    "print(classification_report(y1_test, sv_predictions_f))\n",
    "\n",
    "print (metrics.accuracy_score(y1_test,sv_predictions_f))\n",
    "print(matthews_corrcoef(y1_test,sv_predictions_f))"
   ]
  },
  {
   "cell_type": "code",
   "execution_count": null,
   "metadata": {},
   "outputs": [],
   "source": []
  }
 ],
 "metadata": {
  "kernelspec": {
   "display_name": "Python 3",
   "language": "python",
   "name": "python3"
  },
  "language_info": {
   "codemirror_mode": {
    "name": "ipython",
    "version": 3
   },
   "file_extension": ".py",
   "mimetype": "text/x-python",
   "name": "python",
   "nbconvert_exporter": "python",
   "pygments_lexer": "ipython3",
   "version": "3.6.4"
  }
 },
 "nbformat": 4,
 "nbformat_minor": 2
}
