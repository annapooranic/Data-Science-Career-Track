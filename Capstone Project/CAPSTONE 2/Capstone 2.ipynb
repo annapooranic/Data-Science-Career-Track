{
 "cells": [
  {
   "cell_type": "code",
   "execution_count": 1,
   "metadata": {},
   "outputs": [],
   "source": [
    "import pandas as pd\n",
    "import numpy as np\n",
    "import matplotlib.pyplot as plt\n",
    "import seaborn as sns"
   ]
  },
  {
   "cell_type": "code",
   "execution_count": 2,
   "metadata": {},
   "outputs": [],
   "source": [
    "data = pd.read_csv('Telco-Customer-Churn.csv')"
   ]
  },
  {
   "cell_type": "code",
   "execution_count": 3,
   "metadata": {},
   "outputs": [
    {
     "data": {
      "text/html": [
       "<div>\n",
       "<style scoped>\n",
       "    .dataframe tbody tr th:only-of-type {\n",
       "        vertical-align: middle;\n",
       "    }\n",
       "\n",
       "    .dataframe tbody tr th {\n",
       "        vertical-align: top;\n",
       "    }\n",
       "\n",
       "    .dataframe thead th {\n",
       "        text-align: right;\n",
       "    }\n",
       "</style>\n",
       "<table border=\"1\" class=\"dataframe\">\n",
       "  <thead>\n",
       "    <tr style=\"text-align: right;\">\n",
       "      <th></th>\n",
       "      <th>customerID</th>\n",
       "      <th>gender</th>\n",
       "      <th>SeniorCitizen</th>\n",
       "      <th>Partner</th>\n",
       "      <th>Dependents</th>\n",
       "      <th>tenure</th>\n",
       "      <th>PhoneService</th>\n",
       "      <th>MultipleLines</th>\n",
       "      <th>InternetService</th>\n",
       "      <th>OnlineSecurity</th>\n",
       "      <th>...</th>\n",
       "      <th>DeviceProtection</th>\n",
       "      <th>TechSupport</th>\n",
       "      <th>StreamingTV</th>\n",
       "      <th>StreamingMovies</th>\n",
       "      <th>Contract</th>\n",
       "      <th>PaperlessBilling</th>\n",
       "      <th>PaymentMethod</th>\n",
       "      <th>MonthlyCharges</th>\n",
       "      <th>TotalCharges</th>\n",
       "      <th>Churn</th>\n",
       "    </tr>\n",
       "  </thead>\n",
       "  <tbody>\n",
       "    <tr>\n",
       "      <th>0</th>\n",
       "      <td>7590-VHVEG</td>\n",
       "      <td>Female</td>\n",
       "      <td>0</td>\n",
       "      <td>Yes</td>\n",
       "      <td>No</td>\n",
       "      <td>1</td>\n",
       "      <td>No</td>\n",
       "      <td>No phone service</td>\n",
       "      <td>DSL</td>\n",
       "      <td>No</td>\n",
       "      <td>...</td>\n",
       "      <td>No</td>\n",
       "      <td>No</td>\n",
       "      <td>No</td>\n",
       "      <td>No</td>\n",
       "      <td>Month-to-month</td>\n",
       "      <td>Yes</td>\n",
       "      <td>Electronic check</td>\n",
       "      <td>29.85</td>\n",
       "      <td>29.85</td>\n",
       "      <td>No</td>\n",
       "    </tr>\n",
       "    <tr>\n",
       "      <th>1</th>\n",
       "      <td>5575-GNVDE</td>\n",
       "      <td>Male</td>\n",
       "      <td>0</td>\n",
       "      <td>No</td>\n",
       "      <td>No</td>\n",
       "      <td>34</td>\n",
       "      <td>Yes</td>\n",
       "      <td>No</td>\n",
       "      <td>DSL</td>\n",
       "      <td>Yes</td>\n",
       "      <td>...</td>\n",
       "      <td>Yes</td>\n",
       "      <td>No</td>\n",
       "      <td>No</td>\n",
       "      <td>No</td>\n",
       "      <td>One year</td>\n",
       "      <td>No</td>\n",
       "      <td>Mailed check</td>\n",
       "      <td>56.95</td>\n",
       "      <td>1889.5</td>\n",
       "      <td>No</td>\n",
       "    </tr>\n",
       "    <tr>\n",
       "      <th>2</th>\n",
       "      <td>3668-QPYBK</td>\n",
       "      <td>Male</td>\n",
       "      <td>0</td>\n",
       "      <td>No</td>\n",
       "      <td>No</td>\n",
       "      <td>2</td>\n",
       "      <td>Yes</td>\n",
       "      <td>No</td>\n",
       "      <td>DSL</td>\n",
       "      <td>Yes</td>\n",
       "      <td>...</td>\n",
       "      <td>No</td>\n",
       "      <td>No</td>\n",
       "      <td>No</td>\n",
       "      <td>No</td>\n",
       "      <td>Month-to-month</td>\n",
       "      <td>Yes</td>\n",
       "      <td>Mailed check</td>\n",
       "      <td>53.85</td>\n",
       "      <td>108.15</td>\n",
       "      <td>Yes</td>\n",
       "    </tr>\n",
       "    <tr>\n",
       "      <th>3</th>\n",
       "      <td>7795-CFOCW</td>\n",
       "      <td>Male</td>\n",
       "      <td>0</td>\n",
       "      <td>No</td>\n",
       "      <td>No</td>\n",
       "      <td>45</td>\n",
       "      <td>No</td>\n",
       "      <td>No phone service</td>\n",
       "      <td>DSL</td>\n",
       "      <td>Yes</td>\n",
       "      <td>...</td>\n",
       "      <td>Yes</td>\n",
       "      <td>Yes</td>\n",
       "      <td>No</td>\n",
       "      <td>No</td>\n",
       "      <td>One year</td>\n",
       "      <td>No</td>\n",
       "      <td>Bank transfer (automatic)</td>\n",
       "      <td>42.30</td>\n",
       "      <td>1840.75</td>\n",
       "      <td>No</td>\n",
       "    </tr>\n",
       "    <tr>\n",
       "      <th>4</th>\n",
       "      <td>9237-HQITU</td>\n",
       "      <td>Female</td>\n",
       "      <td>0</td>\n",
       "      <td>No</td>\n",
       "      <td>No</td>\n",
       "      <td>2</td>\n",
       "      <td>Yes</td>\n",
       "      <td>No</td>\n",
       "      <td>Fiber optic</td>\n",
       "      <td>No</td>\n",
       "      <td>...</td>\n",
       "      <td>No</td>\n",
       "      <td>No</td>\n",
       "      <td>No</td>\n",
       "      <td>No</td>\n",
       "      <td>Month-to-month</td>\n",
       "      <td>Yes</td>\n",
       "      <td>Electronic check</td>\n",
       "      <td>70.70</td>\n",
       "      <td>151.65</td>\n",
       "      <td>Yes</td>\n",
       "    </tr>\n",
       "  </tbody>\n",
       "</table>\n",
       "<p>5 rows × 21 columns</p>\n",
       "</div>"
      ],
      "text/plain": [
       "   customerID  gender  SeniorCitizen Partner Dependents  tenure PhoneService  \\\n",
       "0  7590-VHVEG  Female              0     Yes         No       1           No   \n",
       "1  5575-GNVDE    Male              0      No         No      34          Yes   \n",
       "2  3668-QPYBK    Male              0      No         No       2          Yes   \n",
       "3  7795-CFOCW    Male              0      No         No      45           No   \n",
       "4  9237-HQITU  Female              0      No         No       2          Yes   \n",
       "\n",
       "      MultipleLines InternetService OnlineSecurity  ...  DeviceProtection  \\\n",
       "0  No phone service             DSL             No  ...                No   \n",
       "1                No             DSL            Yes  ...               Yes   \n",
       "2                No             DSL            Yes  ...                No   \n",
       "3  No phone service             DSL            Yes  ...               Yes   \n",
       "4                No     Fiber optic             No  ...                No   \n",
       "\n",
       "  TechSupport StreamingTV StreamingMovies        Contract PaperlessBilling  \\\n",
       "0          No          No              No  Month-to-month              Yes   \n",
       "1          No          No              No        One year               No   \n",
       "2          No          No              No  Month-to-month              Yes   \n",
       "3         Yes          No              No        One year               No   \n",
       "4          No          No              No  Month-to-month              Yes   \n",
       "\n",
       "               PaymentMethod MonthlyCharges  TotalCharges Churn  \n",
       "0           Electronic check          29.85         29.85    No  \n",
       "1               Mailed check          56.95        1889.5    No  \n",
       "2               Mailed check          53.85        108.15   Yes  \n",
       "3  Bank transfer (automatic)          42.30       1840.75    No  \n",
       "4           Electronic check          70.70        151.65   Yes  \n",
       "\n",
       "[5 rows x 21 columns]"
      ]
     },
     "execution_count": 3,
     "metadata": {},
     "output_type": "execute_result"
    }
   ],
   "source": [
    "data.head(5)"
   ]
  },
  {
   "cell_type": "code",
   "execution_count": 4,
   "metadata": {},
   "outputs": [
    {
     "data": {
      "text/plain": [
       "Index(['customerID', 'gender', 'SeniorCitizen', 'Partner', 'Dependents',\n",
       "       'tenure', 'PhoneService', 'MultipleLines', 'InternetService',\n",
       "       'OnlineSecurity', 'OnlineBackup', 'DeviceProtection', 'TechSupport',\n",
       "       'StreamingTV', 'StreamingMovies', 'Contract', 'PaperlessBilling',\n",
       "       'PaymentMethod', 'MonthlyCharges', 'TotalCharges', 'Churn'],\n",
       "      dtype='object')"
      ]
     },
     "execution_count": 4,
     "metadata": {},
     "output_type": "execute_result"
    }
   ],
   "source": [
    "data.columns"
   ]
  },
  {
   "cell_type": "code",
   "execution_count": 5,
   "metadata": {},
   "outputs": [
    {
     "name": "stdout",
     "output_type": "stream",
     "text": [
      "<class 'pandas.core.frame.DataFrame'>\n",
      "RangeIndex: 7043 entries, 0 to 7042\n",
      "Data columns (total 21 columns):\n",
      "customerID          7043 non-null object\n",
      "gender              7043 non-null object\n",
      "SeniorCitizen       7043 non-null int64\n",
      "Partner             7043 non-null object\n",
      "Dependents          7043 non-null object\n",
      "tenure              7043 non-null int64\n",
      "PhoneService        7043 non-null object\n",
      "MultipleLines       7043 non-null object\n",
      "InternetService     7043 non-null object\n",
      "OnlineSecurity      7043 non-null object\n",
      "OnlineBackup        7043 non-null object\n",
      "DeviceProtection    7043 non-null object\n",
      "TechSupport         7043 non-null object\n",
      "StreamingTV         7043 non-null object\n",
      "StreamingMovies     7043 non-null object\n",
      "Contract            7043 non-null object\n",
      "PaperlessBilling    7043 non-null object\n",
      "PaymentMethod       7043 non-null object\n",
      "MonthlyCharges      7043 non-null float64\n",
      "TotalCharges        7043 non-null object\n",
      "Churn               7043 non-null object\n",
      "dtypes: float64(1), int64(2), object(18)\n",
      "memory usage: 1.1+ MB\n"
     ]
    }
   ],
   "source": [
    "data.info()"
   ]
  },
  {
   "cell_type": "code",
   "execution_count": 6,
   "metadata": {},
   "outputs": [],
   "source": [
    "data.MonthlyCharges = pd.to_numeric(data.MonthlyCharges)"
   ]
  },
  {
   "cell_type": "code",
   "execution_count": 7,
   "metadata": {},
   "outputs": [],
   "source": [
    "data.TotalCharges = pd.to_numeric(data.TotalCharges,errors='coerce')"
   ]
  },
  {
   "cell_type": "code",
   "execution_count": 8,
   "metadata": {},
   "outputs": [],
   "source": [
    "data['TotalCharges'].fillna(0, inplace=True)"
   ]
  },
  {
   "cell_type": "code",
   "execution_count": 9,
   "metadata": {},
   "outputs": [
    {
     "data": {
      "text/plain": [
       "<matplotlib.axes._subplots.AxesSubplot at 0x24bc4358588>"
      ]
     },
     "execution_count": 9,
     "metadata": {},
     "output_type": "execute_result"
    },
    {
     "data": {
      "image/png": "[encoded data removed]",
      "text/plain": [
       "<Figure size 432x288 with 1 Axes>"
      ]
     },
     "metadata": {},
     "output_type": "display_data"
    }
   ],
   "source": [
    "sns.countplot(x='Churn',data = data)"
   ]
  },
  {
   "cell_type": "code",
   "execution_count": 10,
   "metadata": {},
   "outputs": [
    {
     "data": {
      "text/plain": [
       "<seaborn.axisgrid.FacetGrid at 0x24bc442edd8>"
      ]
     },
     "execution_count": 10,
     "metadata": {},
     "output_type": "execute_result"
    },
    {
     "data": {
      "image/png": "[encoded data removed]",
      "text/plain": [
       "<Figure size 1080x360 with 3 Axes>"
      ]
     },
     "metadata": {},
     "output_type": "display_data"
    }
   ],
   "source": [
    "sns.catplot(x='Churn',col='DeviceProtection',data = data,kind='count')"
   ]
  },
  {
   "cell_type": "code",
   "execution_count": 11,
   "metadata": {},
   "outputs": [
    {
     "data": {
      "text/plain": [
       "<seaborn.axisgrid.FacetGrid at 0x24bc41e6860>"
      ]
     },
     "execution_count": 11,
     "metadata": {},
     "output_type": "execute_result"
    },
    {
     "data": {
      "image/png": "[encoded data removed]",
      "text/plain": [
       "<Figure size 1080x360 with 3 Axes>"
      ]
     },
     "metadata": {},
     "output_type": "display_data"
    }
   ],
   "source": [
    "sns.catplot(x='Churn',col='MultipleLines',data = data,kind='count')"
   ]
  },
  {
   "cell_type": "code",
   "execution_count": 12,
   "metadata": {},
   "outputs": [
    {
     "data": {
      "text/plain": [
       "<seaborn.axisgrid.FacetGrid at 0x24bc44fea58>"
      ]
     },
     "execution_count": 12,
     "metadata": {},
     "output_type": "execute_result"
    },
    {
     "data": {
      "image/png": "[encoded data removed]",
      "text/plain": [
       "<Figure size 1080x360 with 3 Axes>"
      ]
     },
     "metadata": {},
     "output_type": "display_data"
    }
   ],
   "source": [
    "sns.catplot(x='Churn',col='StreamingMovies',data = data,kind='count')"
   ]
  },
  {
   "cell_type": "code",
   "execution_count": 13,
   "metadata": {},
   "outputs": [
    {
     "data": {
      "text/plain": [
       "<seaborn.axisgrid.FacetGrid at 0x24bc45346a0>"
      ]
     },
     "execution_count": 13,
     "metadata": {},
     "output_type": "execute_result"
    },
    {
     "data": {
      "image/png": "[encoded data removed]",
      "text/plain": [
       "<Figure size 1080x360 with 3 Axes>"
      ]
     },
     "metadata": {},
     "output_type": "display_data"
    }
   ],
   "source": [
    "sns.catplot(x='Churn',col='StreamingTV',data = data,kind='count')"
   ]
  },
  {
   "cell_type": "code",
   "execution_count": 14,
   "metadata": {},
   "outputs": [
    {
     "data": {
      "text/plain": [
       "<seaborn.axisgrid.FacetGrid at 0x24bc53539b0>"
      ]
     },
     "execution_count": 14,
     "metadata": {},
     "output_type": "execute_result"
    },
    {
     "data": {
      "image/png": "[encoded data removed]",
      "text/plain": [
       "<Figure size 1080x360 with 3 Axes>"
      ]
     },
     "metadata": {},
     "output_type": "display_data"
    }
   ],
   "source": [
    "sns.catplot(x='Churn',col='InternetService',data = data,kind='count')"
   ]
  },
  {
   "cell_type": "code",
   "execution_count": 15,
   "metadata": {},
   "outputs": [
    {
     "data": {
      "text/plain": [
       "<seaborn.axisgrid.FacetGrid at 0x24bc579e2e8>"
      ]
     },
     "execution_count": 15,
     "metadata": {},
     "output_type": "execute_result"
    },
    {
     "data": {
      "image/png": "[encoded data removed]",
      "text/plain": [
       "<Figure size 1080x360 with 3 Axes>"
      ]
     },
     "metadata": {},
     "output_type": "display_data"
    }
   ],
   "source": [
    "sns.catplot(x='Churn',col='Contract',data = data,kind='count')"
   ]
  },
  {
   "cell_type": "code",
   "execution_count": 16,
   "metadata": {},
   "outputs": [
    {
     "data": {
      "text/plain": [
       "<seaborn.axisgrid.FacetGrid at 0x24bc535aeb8>"
      ]
     },
     "execution_count": 16,
     "metadata": {},
     "output_type": "execute_result"
    },
    {
     "data": {
      "image/png": "[encoded data removed]",
      "text/plain": [
       "<Figure size 1440x360 with 4 Axes>"
      ]
     },
     "metadata": {},
     "output_type": "display_data"
    }
   ],
   "source": [
    "sns.catplot(x='Churn',col='PaymentMethod',data = data,kind='count')"
   ]
  },
  {
   "cell_type": "code",
   "execution_count": 17,
   "metadata": {},
   "outputs": [
    {
     "data": {
      "text/plain": [
       "<seaborn.axisgrid.FacetGrid at 0x24bc5b8eb70>"
      ]
     },
     "execution_count": 17,
     "metadata": {},
     "output_type": "execute_result"
    },
    {
     "data": {
      "image/png": "[encoded data removed]",
      "text/plain": [
       "<Figure size 1152.62x360 with 3 Axes>"
      ]
     },
     "metadata": {},
     "output_type": "display_data"
    }
   ],
   "source": [
    "sns.catplot(x='Churn',col='TechSupport',hue='gender',data = data,kind='count')"
   ]
  },
  {
   "cell_type": "code",
   "execution_count": 18,
   "metadata": {},
   "outputs": [
    {
     "data": {
      "text/html": [
       "<div>\n",
       "<style scoped>\n",
       "    .dataframe tbody tr th:only-of-type {\n",
       "        vertical-align: middle;\n",
       "    }\n",
       "\n",
       "    .dataframe tbody tr th {\n",
       "        vertical-align: top;\n",
       "    }\n",
       "\n",
       "    .dataframe thead th {\n",
       "        text-align: right;\n",
       "    }\n",
       "</style>\n",
       "<table border=\"1\" class=\"dataframe\">\n",
       "  <thead>\n",
       "    <tr style=\"text-align: right;\">\n",
       "      <th></th>\n",
       "      <th>customerID</th>\n",
       "      <th>gender</th>\n",
       "      <th>SeniorCitizen</th>\n",
       "      <th>Partner</th>\n",
       "      <th>Dependents</th>\n",
       "      <th>tenure</th>\n",
       "      <th>PhoneService</th>\n",
       "      <th>MultipleLines</th>\n",
       "      <th>InternetService</th>\n",
       "      <th>OnlineSecurity</th>\n",
       "      <th>...</th>\n",
       "      <th>DeviceProtection</th>\n",
       "      <th>TechSupport</th>\n",
       "      <th>StreamingTV</th>\n",
       "      <th>StreamingMovies</th>\n",
       "      <th>Contract</th>\n",
       "      <th>PaperlessBilling</th>\n",
       "      <th>PaymentMethod</th>\n",
       "      <th>MonthlyCharges</th>\n",
       "      <th>TotalCharges</th>\n",
       "      <th>Churn</th>\n",
       "    </tr>\n",
       "  </thead>\n",
       "  <tbody>\n",
       "    <tr>\n",
       "      <th>0</th>\n",
       "      <td>7590-VHVEG</td>\n",
       "      <td>Female</td>\n",
       "      <td>0</td>\n",
       "      <td>Yes</td>\n",
       "      <td>No</td>\n",
       "      <td>1</td>\n",
       "      <td>No</td>\n",
       "      <td>No phone service</td>\n",
       "      <td>DSL</td>\n",
       "      <td>No</td>\n",
       "      <td>...</td>\n",
       "      <td>No</td>\n",
       "      <td>No</td>\n",
       "      <td>No</td>\n",
       "      <td>No</td>\n",
       "      <td>Month-to-month</td>\n",
       "      <td>Yes</td>\n",
       "      <td>Electronic check</td>\n",
       "      <td>29.85</td>\n",
       "      <td>29.85</td>\n",
       "      <td>No</td>\n",
       "    </tr>\n",
       "    <tr>\n",
       "      <th>1</th>\n",
       "      <td>5575-GNVDE</td>\n",
       "      <td>Male</td>\n",
       "      <td>0</td>\n",
       "      <td>No</td>\n",
       "      <td>No</td>\n",
       "      <td>34</td>\n",
       "      <td>Yes</td>\n",
       "      <td>No</td>\n",
       "      <td>DSL</td>\n",
       "      <td>Yes</td>\n",
       "      <td>...</td>\n",
       "      <td>Yes</td>\n",
       "      <td>No</td>\n",
       "      <td>No</td>\n",
       "      <td>No</td>\n",
       "      <td>One year</td>\n",
       "      <td>No</td>\n",
       "      <td>Mailed check</td>\n",
       "      <td>56.95</td>\n",
       "      <td>1889.50</td>\n",
       "      <td>No</td>\n",
       "    </tr>\n",
       "    <tr>\n",
       "      <th>2</th>\n",
       "      <td>3668-QPYBK</td>\n",
       "      <td>Male</td>\n",
       "      <td>0</td>\n",
       "      <td>No</td>\n",
       "      <td>No</td>\n",
       "      <td>2</td>\n",
       "      <td>Yes</td>\n",
       "      <td>No</td>\n",
       "      <td>DSL</td>\n",
       "      <td>Yes</td>\n",
       "      <td>...</td>\n",
       "      <td>No</td>\n",
       "      <td>No</td>\n",
       "      <td>No</td>\n",
       "      <td>No</td>\n",
       "      <td>Month-to-month</td>\n",
       "      <td>Yes</td>\n",
       "      <td>Mailed check</td>\n",
       "      <td>53.85</td>\n",
       "      <td>108.15</td>\n",
       "      <td>Yes</td>\n",
       "    </tr>\n",
       "    <tr>\n",
       "      <th>3</th>\n",
       "      <td>7795-CFOCW</td>\n",
       "      <td>Male</td>\n",
       "      <td>0</td>\n",
       "      <td>No</td>\n",
       "      <td>No</td>\n",
       "      <td>45</td>\n",
       "      <td>No</td>\n",
       "      <td>No phone service</td>\n",
       "      <td>DSL</td>\n",
       "      <td>Yes</td>\n",
       "      <td>...</td>\n",
       "      <td>Yes</td>\n",
       "      <td>Yes</td>\n",
       "      <td>No</td>\n",
       "      <td>No</td>\n",
       "      <td>One year</td>\n",
       "      <td>No</td>\n",
       "      <td>Bank transfer (automatic)</td>\n",
       "      <td>42.30</td>\n",
       "      <td>1840.75</td>\n",
       "      <td>No</td>\n",
       "    </tr>\n",
       "    <tr>\n",
       "      <th>4</th>\n",
       "      <td>9237-HQITU</td>\n",
       "      <td>Female</td>\n",
       "      <td>0</td>\n",
       "      <td>No</td>\n",
       "      <td>No</td>\n",
       "      <td>2</td>\n",
       "      <td>Yes</td>\n",
       "      <td>No</td>\n",
       "      <td>Fiber optic</td>\n",
       "      <td>No</td>\n",
       "      <td>...</td>\n",
       "      <td>No</td>\n",
       "      <td>No</td>\n",
       "      <td>No</td>\n",
       "      <td>No</td>\n",
       "      <td>Month-to-month</td>\n",
       "      <td>Yes</td>\n",
       "      <td>Electronic check</td>\n",
       "      <td>70.70</td>\n",
       "      <td>151.65</td>\n",
       "      <td>Yes</td>\n",
       "    </tr>\n",
       "  </tbody>\n",
       "</table>\n",
       "<p>5 rows × 21 columns</p>\n",
       "</div>"
      ],
      "text/plain": [
       "   customerID  gender  SeniorCitizen Partner Dependents  tenure PhoneService  \\\n",
       "0  7590-VHVEG  Female              0     Yes         No       1           No   \n",
       "1  5575-GNVDE    Male              0      No         No      34          Yes   \n",
       "2  3668-QPYBK    Male              0      No         No       2          Yes   \n",
       "3  7795-CFOCW    Male              0      No         No      45           No   \n",
       "4  9237-HQITU  Female              0      No         No       2          Yes   \n",
       "\n",
       "      MultipleLines InternetService OnlineSecurity  ...   DeviceProtection  \\\n",
       "0  No phone service             DSL             No  ...                 No   \n",
       "1                No             DSL            Yes  ...                Yes   \n",
       "2                No             DSL            Yes  ...                 No   \n",
       "3  No phone service             DSL            Yes  ...                Yes   \n",
       "4                No     Fiber optic             No  ...                 No   \n",
       "\n",
       "  TechSupport StreamingTV StreamingMovies        Contract PaperlessBilling  \\\n",
       "0          No          No              No  Month-to-month              Yes   \n",
       "1          No          No              No        One year               No   \n",
       "2          No          No              No  Month-to-month              Yes   \n",
       "3         Yes          No              No        One year               No   \n",
       "4          No          No              No  Month-to-month              Yes   \n",
       "\n",
       "               PaymentMethod MonthlyCharges  TotalCharges  Churn  \n",
       "0           Electronic check          29.85         29.85     No  \n",
       "1               Mailed check          56.95       1889.50     No  \n",
       "2               Mailed check          53.85        108.15    Yes  \n",
       "3  Bank transfer (automatic)          42.30       1840.75     No  \n",
       "4           Electronic check          70.70        151.65    Yes  \n",
       "\n",
       "[5 rows x 21 columns]"
      ]
     },
     "execution_count": 18,
     "metadata": {},
     "output_type": "execute_result"
    }
   ],
   "source": [
    "data.head()\n"
   ]
  },
  {
   "cell_type": "code",
   "execution_count": 19,
   "metadata": {},
   "outputs": [
    {
     "data": {
      "text/plain": [
       "<matplotlib.axes._subplots.AxesSubplot at 0x24bc6737da0>"
      ]
     },
     "execution_count": 19,
     "metadata": {},
     "output_type": "execute_result"
    },
    {
     "data": {
      "image/png": "[encoded data removed]",
      "text/plain": [
       "<Figure size 432x288 with 2 Axes>"
      ]
     },
     "metadata": {},
     "output_type": "display_data"
    }
   ],
   "source": [
    "sns.heatmap(data.corr())"
   ]
  },
  {
   "cell_type": "code",
   "execution_count": 20,
   "metadata": {},
   "outputs": [
    {
     "data": {
      "text/html": [
       "<div>\n",
       "<style scoped>\n",
       "    .dataframe tbody tr th:only-of-type {\n",
       "        vertical-align: middle;\n",
       "    }\n",
       "\n",
       "    .dataframe tbody tr th {\n",
       "        vertical-align: top;\n",
       "    }\n",
       "\n",
       "    .dataframe thead th {\n",
       "        text-align: right;\n",
       "    }\n",
       "</style>\n",
       "<table border=\"1\" class=\"dataframe\">\n",
       "  <thead>\n",
       "    <tr style=\"text-align: right;\">\n",
       "      <th></th>\n",
       "      <th>customerID</th>\n",
       "      <th>gender</th>\n",
       "      <th>SeniorCitizen</th>\n",
       "      <th>Partner</th>\n",
       "      <th>Dependents</th>\n",
       "      <th>tenure</th>\n",
       "      <th>PhoneService</th>\n",
       "      <th>MultipleLines</th>\n",
       "      <th>InternetService</th>\n",
       "      <th>OnlineSecurity</th>\n",
       "      <th>...</th>\n",
       "      <th>DeviceProtection</th>\n",
       "      <th>TechSupport</th>\n",
       "      <th>StreamingTV</th>\n",
       "      <th>StreamingMovies</th>\n",
       "      <th>Contract</th>\n",
       "      <th>PaperlessBilling</th>\n",
       "      <th>PaymentMethod</th>\n",
       "      <th>MonthlyCharges</th>\n",
       "      <th>TotalCharges</th>\n",
       "      <th>Churn</th>\n",
       "    </tr>\n",
       "  </thead>\n",
       "  <tbody>\n",
       "    <tr>\n",
       "      <th>0</th>\n",
       "      <td>7590-VHVEG</td>\n",
       "      <td>Female</td>\n",
       "      <td>0</td>\n",
       "      <td>Yes</td>\n",
       "      <td>No</td>\n",
       "      <td>1</td>\n",
       "      <td>No</td>\n",
       "      <td>No phone service</td>\n",
       "      <td>DSL</td>\n",
       "      <td>No</td>\n",
       "      <td>...</td>\n",
       "      <td>No</td>\n",
       "      <td>No</td>\n",
       "      <td>No</td>\n",
       "      <td>No</td>\n",
       "      <td>Month-to-month</td>\n",
       "      <td>Yes</td>\n",
       "      <td>Electronic check</td>\n",
       "      <td>29.85</td>\n",
       "      <td>29.85</td>\n",
       "      <td>No</td>\n",
       "    </tr>\n",
       "    <tr>\n",
       "      <th>1</th>\n",
       "      <td>5575-GNVDE</td>\n",
       "      <td>Male</td>\n",
       "      <td>0</td>\n",
       "      <td>No</td>\n",
       "      <td>No</td>\n",
       "      <td>34</td>\n",
       "      <td>Yes</td>\n",
       "      <td>No</td>\n",
       "      <td>DSL</td>\n",
       "      <td>Yes</td>\n",
       "      <td>...</td>\n",
       "      <td>Yes</td>\n",
       "      <td>No</td>\n",
       "      <td>No</td>\n",
       "      <td>No</td>\n",
       "      <td>One year</td>\n",
       "      <td>No</td>\n",
       "      <td>Mailed check</td>\n",
       "      <td>56.95</td>\n",
       "      <td>1889.50</td>\n",
       "      <td>No</td>\n",
       "    </tr>\n",
       "    <tr>\n",
       "      <th>2</th>\n",
       "      <td>3668-QPYBK</td>\n",
       "      <td>Male</td>\n",
       "      <td>0</td>\n",
       "      <td>No</td>\n",
       "      <td>No</td>\n",
       "      <td>2</td>\n",
       "      <td>Yes</td>\n",
       "      <td>No</td>\n",
       "      <td>DSL</td>\n",
       "      <td>Yes</td>\n",
       "      <td>...</td>\n",
       "      <td>No</td>\n",
       "      <td>No</td>\n",
       "      <td>No</td>\n",
       "      <td>No</td>\n",
       "      <td>Month-to-month</td>\n",
       "      <td>Yes</td>\n",
       "      <td>Mailed check</td>\n",
       "      <td>53.85</td>\n",
       "      <td>108.15</td>\n",
       "      <td>Yes</td>\n",
       "    </tr>\n",
       "    <tr>\n",
       "      <th>3</th>\n",
       "      <td>7795-CFOCW</td>\n",
       "      <td>Male</td>\n",
       "      <td>0</td>\n",
       "      <td>No</td>\n",
       "      <td>No</td>\n",
       "      <td>45</td>\n",
       "      <td>No</td>\n",
       "      <td>No phone service</td>\n",
       "      <td>DSL</td>\n",
       "      <td>Yes</td>\n",
       "      <td>...</td>\n",
       "      <td>Yes</td>\n",
       "      <td>Yes</td>\n",
       "      <td>No</td>\n",
       "      <td>No</td>\n",
       "      <td>One year</td>\n",
       "      <td>No</td>\n",
       "      <td>Bank transfer (automatic)</td>\n",
       "      <td>42.30</td>\n",
       "      <td>1840.75</td>\n",
       "      <td>No</td>\n",
       "    </tr>\n",
       "    <tr>\n",
       "      <th>4</th>\n",
       "      <td>9237-HQITU</td>\n",
       "      <td>Female</td>\n",
       "      <td>0</td>\n",
       "      <td>No</td>\n",
       "      <td>No</td>\n",
       "      <td>2</td>\n",
       "      <td>Yes</td>\n",
       "      <td>No</td>\n",
       "      <td>Fiber optic</td>\n",
       "      <td>No</td>\n",
       "      <td>...</td>\n",
       "      <td>No</td>\n",
       "      <td>No</td>\n",
       "      <td>No</td>\n",
       "      <td>No</td>\n",
       "      <td>Month-to-month</td>\n",
       "      <td>Yes</td>\n",
       "      <td>Electronic check</td>\n",
       "      <td>70.70</td>\n",
       "      <td>151.65</td>\n",
       "      <td>Yes</td>\n",
       "    </tr>\n",
       "  </tbody>\n",
       "</table>\n",
       "<p>5 rows × 21 columns</p>\n",
       "</div>"
      ],
      "text/plain": [
       "   customerID  gender  SeniorCitizen Partner Dependents  tenure PhoneService  \\\n",
       "0  7590-VHVEG  Female              0     Yes         No       1           No   \n",
       "1  5575-GNVDE    Male              0      No         No      34          Yes   \n",
       "2  3668-QPYBK    Male              0      No         No       2          Yes   \n",
       "3  7795-CFOCW    Male              0      No         No      45           No   \n",
       "4  9237-HQITU  Female              0      No         No       2          Yes   \n",
       "\n",
       "      MultipleLines InternetService OnlineSecurity  ...   DeviceProtection  \\\n",
       "0  No phone service             DSL             No  ...                 No   \n",
       "1                No             DSL            Yes  ...                Yes   \n",
       "2                No             DSL            Yes  ...                 No   \n",
       "3  No phone service             DSL            Yes  ...                Yes   \n",
       "4                No     Fiber optic             No  ...                 No   \n",
       "\n",
       "  TechSupport StreamingTV StreamingMovies        Contract PaperlessBilling  \\\n",
       "0          No          No              No  Month-to-month              Yes   \n",
       "1          No          No              No        One year               No   \n",
       "2          No          No              No  Month-to-month              Yes   \n",
       "3         Yes          No              No        One year               No   \n",
       "4          No          No              No  Month-to-month              Yes   \n",
       "\n",
       "               PaymentMethod MonthlyCharges  TotalCharges  Churn  \n",
       "0           Electronic check          29.85         29.85     No  \n",
       "1               Mailed check          56.95       1889.50     No  \n",
       "2               Mailed check          53.85        108.15    Yes  \n",
       "3  Bank transfer (automatic)          42.30       1840.75     No  \n",
       "4           Electronic check          70.70        151.65    Yes  \n",
       "\n",
       "[5 rows x 21 columns]"
      ]
     },
     "execution_count": 20,
     "metadata": {},
     "output_type": "execute_result"
    }
   ],
   "source": [
    "data.head()"
   ]
  },
  {
   "cell_type": "code",
   "execution_count": 21,
   "metadata": {},
   "outputs": [
    {
     "data": {
      "text/plain": [
       "Index(['customerID', 'gender', 'SeniorCitizen', 'Partner', 'Dependents',\n",
       "       'tenure', 'PhoneService', 'MultipleLines', 'InternetService',\n",
       "       'OnlineSecurity', 'OnlineBackup', 'DeviceProtection', 'TechSupport',\n",
       "       'StreamingTV', 'StreamingMovies', 'Contract', 'PaperlessBilling',\n",
       "       'PaymentMethod', 'MonthlyCharges', 'TotalCharges', 'Churn'],\n",
       "      dtype='object')"
      ]
     },
     "execution_count": 21,
     "metadata": {},
     "output_type": "execute_result"
    }
   ],
   "source": [
    "data.columns"
   ]
  },
  {
   "cell_type": "code",
   "execution_count": 22,
   "metadata": {},
   "outputs": [],
   "source": [
    "new_data = pd.get_dummies(data,columns=['gender','SeniorCitizen','Partner','Dependents','PhoneService','MultipleLines','InternetService','OnlineSecurity','OnlineBackup','DeviceProtection','TechSupport','StreamingTV','StreamingMovies','Contract','PaperlessBilling','PaymentMethod','Churn'],drop_first=True)"
   ]
  },
  {
   "cell_type": "code",
   "execution_count": 23,
   "metadata": {},
   "outputs": [
    {
     "data": {
      "text/plain": [
       "Index(['customerID', 'tenure', 'MonthlyCharges', 'TotalCharges', 'gender_Male',\n",
       "       'SeniorCitizen_1', 'Partner_Yes', 'Dependents_Yes', 'PhoneService_Yes',\n",
       "       'MultipleLines_No phone service', 'MultipleLines_Yes',\n",
       "       'InternetService_Fiber optic', 'InternetService_No',\n",
       "       'OnlineSecurity_No internet service', 'OnlineSecurity_Yes',\n",
       "       'OnlineBackup_No internet service', 'OnlineBackup_Yes',\n",
       "       'DeviceProtection_No internet service', 'DeviceProtection_Yes',\n",
       "       'TechSupport_No internet service', 'TechSupport_Yes',\n",
       "       'StreamingTV_No internet service', 'StreamingTV_Yes',\n",
       "       'StreamingMovies_No internet service', 'StreamingMovies_Yes',\n",
       "       'Contract_One year', 'Contract_Two year', 'PaperlessBilling_Yes',\n",
       "       'PaymentMethod_Credit card (automatic)',\n",
       "       'PaymentMethod_Electronic check', 'PaymentMethod_Mailed check',\n",
       "       'Churn_Yes'],\n",
       "      dtype='object')"
      ]
     },
     "execution_count": 23,
     "metadata": {},
     "output_type": "execute_result"
    }
   ],
   "source": [
    "new_data.columns"
   ]
  },
  {
   "cell_type": "code",
   "execution_count": 24,
   "metadata": {},
   "outputs": [
    {
     "data": {
      "text/plain": [
       "array(['Month-to-month', 'One year', 'Two year'], dtype=object)"
      ]
     },
     "execution_count": 24,
     "metadata": {},
     "output_type": "execute_result"
    }
   ],
   "source": [
    "data.Contract.unique()"
   ]
  },
  {
   "cell_type": "code",
   "execution_count": 25,
   "metadata": {},
   "outputs": [],
   "source": [
    "new_data = new_data.drop(['MultipleLines_No phone service','OnlineSecurity_No internet service','OnlineBackup_No internet service','DeviceProtection_No internet service','TechSupport_No internet service','StreamingTV_No internet service','StreamingMovies_No internet service'],axis=1)"
   ]
  },
  {
   "cell_type": "code",
   "execution_count": 26,
   "metadata": {},
   "outputs": [
    {
     "data": {
      "text/plain": [
       "Index(['customerID', 'tenure', 'MonthlyCharges', 'TotalCharges', 'gender_Male',\n",
       "       'SeniorCitizen_1', 'Partner_Yes', 'Dependents_Yes', 'PhoneService_Yes',\n",
       "       'MultipleLines_Yes', 'InternetService_Fiber optic',\n",
       "       'InternetService_No', 'OnlineSecurity_Yes', 'OnlineBackup_Yes',\n",
       "       'DeviceProtection_Yes', 'TechSupport_Yes', 'StreamingTV_Yes',\n",
       "       'StreamingMovies_Yes', 'Contract_One year', 'Contract_Two year',\n",
       "       'PaperlessBilling_Yes', 'PaymentMethod_Credit card (automatic)',\n",
       "       'PaymentMethod_Electronic check', 'PaymentMethod_Mailed check',\n",
       "       'Churn_Yes'],\n",
       "      dtype='object')"
      ]
     },
     "execution_count": 26,
     "metadata": {},
     "output_type": "execute_result"
    }
   ],
   "source": [
    "new_data.columns"
   ]
  },
  {
   "cell_type": "code",
   "execution_count": 91,
   "metadata": {},
   "outputs": [
    {
     "data": {
      "text/html": [
       "<div>\n",
       "<style scoped>\n",
       "    .dataframe tbody tr th:only-of-type {\n",
       "        vertical-align: middle;\n",
       "    }\n",
       "\n",
       "    .dataframe tbody tr th {\n",
       "        vertical-align: top;\n",
       "    }\n",
       "\n",
       "    .dataframe thead th {\n",
       "        text-align: right;\n",
       "    }\n",
       "</style>\n",
       "<table border=\"1\" class=\"dataframe\">\n",
       "  <thead>\n",
       "    <tr style=\"text-align: right;\">\n",
       "      <th></th>\n",
       "      <th>tenure</th>\n",
       "      <th>SeniorCitizen_1</th>\n",
       "      <th>PhoneService_Yes</th>\n",
       "      <th>InternetService_Fiber optic</th>\n",
       "      <th>InternetService_No</th>\n",
       "    </tr>\n",
       "  </thead>\n",
       "  <tbody>\n",
       "    <tr>\n",
       "      <th>0</th>\n",
       "      <td>1</td>\n",
       "      <td>0</td>\n",
       "      <td>0</td>\n",
       "      <td>0</td>\n",
       "      <td>0</td>\n",
       "    </tr>\n",
       "    <tr>\n",
       "      <th>1</th>\n",
       "      <td>34</td>\n",
       "      <td>0</td>\n",
       "      <td>1</td>\n",
       "      <td>0</td>\n",
       "      <td>0</td>\n",
       "    </tr>\n",
       "    <tr>\n",
       "      <th>2</th>\n",
       "      <td>2</td>\n",
       "      <td>0</td>\n",
       "      <td>1</td>\n",
       "      <td>0</td>\n",
       "      <td>0</td>\n",
       "    </tr>\n",
       "    <tr>\n",
       "      <th>3</th>\n",
       "      <td>45</td>\n",
       "      <td>0</td>\n",
       "      <td>0</td>\n",
       "      <td>0</td>\n",
       "      <td>0</td>\n",
       "    </tr>\n",
       "    <tr>\n",
       "      <th>4</th>\n",
       "      <td>2</td>\n",
       "      <td>0</td>\n",
       "      <td>1</td>\n",
       "      <td>1</td>\n",
       "      <td>0</td>\n",
       "    </tr>\n",
       "    <tr>\n",
       "      <th>5</th>\n",
       "      <td>8</td>\n",
       "      <td>0</td>\n",
       "      <td>1</td>\n",
       "      <td>1</td>\n",
       "      <td>0</td>\n",
       "    </tr>\n",
       "    <tr>\n",
       "      <th>6</th>\n",
       "      <td>22</td>\n",
       "      <td>0</td>\n",
       "      <td>1</td>\n",
       "      <td>1</td>\n",
       "      <td>0</td>\n",
       "    </tr>\n",
       "    <tr>\n",
       "      <th>7</th>\n",
       "      <td>10</td>\n",
       "      <td>0</td>\n",
       "      <td>0</td>\n",
       "      <td>0</td>\n",
       "      <td>0</td>\n",
       "    </tr>\n",
       "    <tr>\n",
       "      <th>8</th>\n",
       "      <td>28</td>\n",
       "      <td>0</td>\n",
       "      <td>1</td>\n",
       "      <td>1</td>\n",
       "      <td>0</td>\n",
       "    </tr>\n",
       "    <tr>\n",
       "      <th>9</th>\n",
       "      <td>62</td>\n",
       "      <td>0</td>\n",
       "      <td>1</td>\n",
       "      <td>0</td>\n",
       "      <td>0</td>\n",
       "    </tr>\n",
       "    <tr>\n",
       "      <th>10</th>\n",
       "      <td>13</td>\n",
       "      <td>0</td>\n",
       "      <td>1</td>\n",
       "      <td>0</td>\n",
       "      <td>0</td>\n",
       "    </tr>\n",
       "    <tr>\n",
       "      <th>11</th>\n",
       "      <td>16</td>\n",
       "      <td>0</td>\n",
       "      <td>1</td>\n",
       "      <td>0</td>\n",
       "      <td>1</td>\n",
       "    </tr>\n",
       "    <tr>\n",
       "      <th>12</th>\n",
       "      <td>58</td>\n",
       "      <td>0</td>\n",
       "      <td>1</td>\n",
       "      <td>1</td>\n",
       "      <td>0</td>\n",
       "    </tr>\n",
       "    <tr>\n",
       "      <th>13</th>\n",
       "      <td>49</td>\n",
       "      <td>0</td>\n",
       "      <td>1</td>\n",
       "      <td>1</td>\n",
       "      <td>0</td>\n",
       "    </tr>\n",
       "    <tr>\n",
       "      <th>14</th>\n",
       "      <td>25</td>\n",
       "      <td>0</td>\n",
       "      <td>1</td>\n",
       "      <td>1</td>\n",
       "      <td>0</td>\n",
       "    </tr>\n",
       "    <tr>\n",
       "      <th>15</th>\n",
       "      <td>69</td>\n",
       "      <td>0</td>\n",
       "      <td>1</td>\n",
       "      <td>1</td>\n",
       "      <td>0</td>\n",
       "    </tr>\n",
       "    <tr>\n",
       "      <th>16</th>\n",
       "      <td>52</td>\n",
       "      <td>0</td>\n",
       "      <td>1</td>\n",
       "      <td>0</td>\n",
       "      <td>1</td>\n",
       "    </tr>\n",
       "    <tr>\n",
       "      <th>17</th>\n",
       "      <td>71</td>\n",
       "      <td>0</td>\n",
       "      <td>1</td>\n",
       "      <td>1</td>\n",
       "      <td>0</td>\n",
       "    </tr>\n",
       "    <tr>\n",
       "      <th>18</th>\n",
       "      <td>10</td>\n",
       "      <td>0</td>\n",
       "      <td>1</td>\n",
       "      <td>0</td>\n",
       "      <td>0</td>\n",
       "    </tr>\n",
       "    <tr>\n",
       "      <th>19</th>\n",
       "      <td>21</td>\n",
       "      <td>0</td>\n",
       "      <td>1</td>\n",
       "      <td>1</td>\n",
       "      <td>0</td>\n",
       "    </tr>\n",
       "    <tr>\n",
       "      <th>20</th>\n",
       "      <td>1</td>\n",
       "      <td>1</td>\n",
       "      <td>0</td>\n",
       "      <td>0</td>\n",
       "      <td>0</td>\n",
       "    </tr>\n",
       "    <tr>\n",
       "      <th>21</th>\n",
       "      <td>12</td>\n",
       "      <td>0</td>\n",
       "      <td>1</td>\n",
       "      <td>0</td>\n",
       "      <td>1</td>\n",
       "    </tr>\n",
       "    <tr>\n",
       "      <th>22</th>\n",
       "      <td>1</td>\n",
       "      <td>0</td>\n",
       "      <td>1</td>\n",
       "      <td>0</td>\n",
       "      <td>1</td>\n",
       "    </tr>\n",
       "    <tr>\n",
       "      <th>23</th>\n",
       "      <td>58</td>\n",
       "      <td>0</td>\n",
       "      <td>1</td>\n",
       "      <td>0</td>\n",
       "      <td>0</td>\n",
       "    </tr>\n",
       "    <tr>\n",
       "      <th>24</th>\n",
       "      <td>49</td>\n",
       "      <td>0</td>\n",
       "      <td>1</td>\n",
       "      <td>0</td>\n",
       "      <td>0</td>\n",
       "    </tr>\n",
       "    <tr>\n",
       "      <th>25</th>\n",
       "      <td>30</td>\n",
       "      <td>0</td>\n",
       "      <td>1</td>\n",
       "      <td>0</td>\n",
       "      <td>0</td>\n",
       "    </tr>\n",
       "    <tr>\n",
       "      <th>26</th>\n",
       "      <td>47</td>\n",
       "      <td>0</td>\n",
       "      <td>1</td>\n",
       "      <td>1</td>\n",
       "      <td>0</td>\n",
       "    </tr>\n",
       "    <tr>\n",
       "      <th>27</th>\n",
       "      <td>1</td>\n",
       "      <td>0</td>\n",
       "      <td>0</td>\n",
       "      <td>0</td>\n",
       "      <td>0</td>\n",
       "    </tr>\n",
       "    <tr>\n",
       "      <th>28</th>\n",
       "      <td>72</td>\n",
       "      <td>0</td>\n",
       "      <td>1</td>\n",
       "      <td>0</td>\n",
       "      <td>0</td>\n",
       "    </tr>\n",
       "    <tr>\n",
       "      <th>29</th>\n",
       "      <td>17</td>\n",
       "      <td>0</td>\n",
       "      <td>1</td>\n",
       "      <td>0</td>\n",
       "      <td>0</td>\n",
       "    </tr>\n",
       "    <tr>\n",
       "      <th>...</th>\n",
       "      <td>...</td>\n",
       "      <td>...</td>\n",
       "      <td>...</td>\n",
       "      <td>...</td>\n",
       "      <td>...</td>\n",
       "    </tr>\n",
       "    <tr>\n",
       "      <th>7013</th>\n",
       "      <td>40</td>\n",
       "      <td>0</td>\n",
       "      <td>1</td>\n",
       "      <td>1</td>\n",
       "      <td>0</td>\n",
       "    </tr>\n",
       "    <tr>\n",
       "      <th>7014</th>\n",
       "      <td>41</td>\n",
       "      <td>0</td>\n",
       "      <td>1</td>\n",
       "      <td>1</td>\n",
       "      <td>0</td>\n",
       "    </tr>\n",
       "    <tr>\n",
       "      <th>7015</th>\n",
       "      <td>34</td>\n",
       "      <td>1</td>\n",
       "      <td>1</td>\n",
       "      <td>1</td>\n",
       "      <td>0</td>\n",
       "    </tr>\n",
       "    <tr>\n",
       "      <th>7016</th>\n",
       "      <td>1</td>\n",
       "      <td>0</td>\n",
       "      <td>1</td>\n",
       "      <td>0</td>\n",
       "      <td>0</td>\n",
       "    </tr>\n",
       "    <tr>\n",
       "      <th>7017</th>\n",
       "      <td>51</td>\n",
       "      <td>0</td>\n",
       "      <td>1</td>\n",
       "      <td>0</td>\n",
       "      <td>1</td>\n",
       "    </tr>\n",
       "    <tr>\n",
       "      <th>7018</th>\n",
       "      <td>1</td>\n",
       "      <td>0</td>\n",
       "      <td>1</td>\n",
       "      <td>1</td>\n",
       "      <td>0</td>\n",
       "    </tr>\n",
       "    <tr>\n",
       "      <th>7019</th>\n",
       "      <td>39</td>\n",
       "      <td>0</td>\n",
       "      <td>1</td>\n",
       "      <td>0</td>\n",
       "      <td>1</td>\n",
       "    </tr>\n",
       "    <tr>\n",
       "      <th>7020</th>\n",
       "      <td>12</td>\n",
       "      <td>0</td>\n",
       "      <td>1</td>\n",
       "      <td>0</td>\n",
       "      <td>1</td>\n",
       "    </tr>\n",
       "    <tr>\n",
       "      <th>7021</th>\n",
       "      <td>12</td>\n",
       "      <td>0</td>\n",
       "      <td>1</td>\n",
       "      <td>0</td>\n",
       "      <td>0</td>\n",
       "    </tr>\n",
       "    <tr>\n",
       "      <th>7022</th>\n",
       "      <td>72</td>\n",
       "      <td>0</td>\n",
       "      <td>1</td>\n",
       "      <td>1</td>\n",
       "      <td>0</td>\n",
       "    </tr>\n",
       "    <tr>\n",
       "      <th>7023</th>\n",
       "      <td>63</td>\n",
       "      <td>1</td>\n",
       "      <td>1</td>\n",
       "      <td>1</td>\n",
       "      <td>0</td>\n",
       "    </tr>\n",
       "    <tr>\n",
       "      <th>7024</th>\n",
       "      <td>44</td>\n",
       "      <td>0</td>\n",
       "      <td>1</td>\n",
       "      <td>1</td>\n",
       "      <td>0</td>\n",
       "    </tr>\n",
       "    <tr>\n",
       "      <th>7025</th>\n",
       "      <td>18</td>\n",
       "      <td>0</td>\n",
       "      <td>1</td>\n",
       "      <td>1</td>\n",
       "      <td>0</td>\n",
       "    </tr>\n",
       "    <tr>\n",
       "      <th>7026</th>\n",
       "      <td>9</td>\n",
       "      <td>0</td>\n",
       "      <td>1</td>\n",
       "      <td>0</td>\n",
       "      <td>0</td>\n",
       "    </tr>\n",
       "    <tr>\n",
       "      <th>7027</th>\n",
       "      <td>13</td>\n",
       "      <td>0</td>\n",
       "      <td>1</td>\n",
       "      <td>0</td>\n",
       "      <td>0</td>\n",
       "    </tr>\n",
       "    <tr>\n",
       "      <th>7028</th>\n",
       "      <td>68</td>\n",
       "      <td>0</td>\n",
       "      <td>1</td>\n",
       "      <td>0</td>\n",
       "      <td>0</td>\n",
       "    </tr>\n",
       "    <tr>\n",
       "      <th>7029</th>\n",
       "      <td>6</td>\n",
       "      <td>1</td>\n",
       "      <td>0</td>\n",
       "      <td>0</td>\n",
       "      <td>0</td>\n",
       "    </tr>\n",
       "    <tr>\n",
       "      <th>7030</th>\n",
       "      <td>2</td>\n",
       "      <td>0</td>\n",
       "      <td>1</td>\n",
       "      <td>0</td>\n",
       "      <td>1</td>\n",
       "    </tr>\n",
       "    <tr>\n",
       "      <th>7031</th>\n",
       "      <td>55</td>\n",
       "      <td>1</td>\n",
       "      <td>1</td>\n",
       "      <td>0</td>\n",
       "      <td>0</td>\n",
       "    </tr>\n",
       "    <tr>\n",
       "      <th>7032</th>\n",
       "      <td>1</td>\n",
       "      <td>1</td>\n",
       "      <td>1</td>\n",
       "      <td>1</td>\n",
       "      <td>0</td>\n",
       "    </tr>\n",
       "    <tr>\n",
       "      <th>7033</th>\n",
       "      <td>38</td>\n",
       "      <td>0</td>\n",
       "      <td>1</td>\n",
       "      <td>1</td>\n",
       "      <td>0</td>\n",
       "    </tr>\n",
       "    <tr>\n",
       "      <th>7034</th>\n",
       "      <td>67</td>\n",
       "      <td>0</td>\n",
       "      <td>1</td>\n",
       "      <td>1</td>\n",
       "      <td>0</td>\n",
       "    </tr>\n",
       "    <tr>\n",
       "      <th>7035</th>\n",
       "      <td>19</td>\n",
       "      <td>0</td>\n",
       "      <td>1</td>\n",
       "      <td>1</td>\n",
       "      <td>0</td>\n",
       "    </tr>\n",
       "    <tr>\n",
       "      <th>7036</th>\n",
       "      <td>12</td>\n",
       "      <td>0</td>\n",
       "      <td>0</td>\n",
       "      <td>0</td>\n",
       "      <td>0</td>\n",
       "    </tr>\n",
       "    <tr>\n",
       "      <th>7037</th>\n",
       "      <td>72</td>\n",
       "      <td>0</td>\n",
       "      <td>1</td>\n",
       "      <td>0</td>\n",
       "      <td>1</td>\n",
       "    </tr>\n",
       "    <tr>\n",
       "      <th>7038</th>\n",
       "      <td>24</td>\n",
       "      <td>0</td>\n",
       "      <td>1</td>\n",
       "      <td>0</td>\n",
       "      <td>0</td>\n",
       "    </tr>\n",
       "    <tr>\n",
       "      <th>7039</th>\n",
       "      <td>72</td>\n",
       "      <td>0</td>\n",
       "      <td>1</td>\n",
       "      <td>1</td>\n",
       "      <td>0</td>\n",
       "    </tr>\n",
       "    <tr>\n",
       "      <th>7040</th>\n",
       "      <td>11</td>\n",
       "      <td>0</td>\n",
       "      <td>0</td>\n",
       "      <td>0</td>\n",
       "      <td>0</td>\n",
       "    </tr>\n",
       "    <tr>\n",
       "      <th>7041</th>\n",
       "      <td>4</td>\n",
       "      <td>1</td>\n",
       "      <td>1</td>\n",
       "      <td>1</td>\n",
       "      <td>0</td>\n",
       "    </tr>\n",
       "    <tr>\n",
       "      <th>7042</th>\n",
       "      <td>66</td>\n",
       "      <td>0</td>\n",
       "      <td>1</td>\n",
       "      <td>1</td>\n",
       "      <td>0</td>\n",
       "    </tr>\n",
       "  </tbody>\n",
       "</table>\n",
       "<p>7043 rows × 5 columns</p>\n",
       "</div>"
      ],
      "text/plain": [
       "      tenure  SeniorCitizen_1  PhoneService_Yes  InternetService_Fiber optic  \\\n",
       "0          1                0                 0                            0   \n",
       "1         34                0                 1                            0   \n",
       "2          2                0                 1                            0   \n",
       "3         45                0                 0                            0   \n",
       "4          2                0                 1                            1   \n",
       "5          8                0                 1                            1   \n",
       "6         22                0                 1                            1   \n",
       "7         10                0                 0                            0   \n",
       "8         28                0                 1                            1   \n",
       "9         62                0                 1                            0   \n",
       "10        13                0                 1                            0   \n",
       "11        16                0                 1                            0   \n",
       "12        58                0                 1                            1   \n",
       "13        49                0                 1                            1   \n",
       "14        25                0                 1                            1   \n",
       "15        69                0                 1                            1   \n",
       "16        52                0                 1                            0   \n",
       "17        71                0                 1                            1   \n",
       "18        10                0                 1                            0   \n",
       "19        21                0                 1                            1   \n",
       "20         1                1                 0                            0   \n",
       "21        12                0                 1                            0   \n",
       "22         1                0                 1                            0   \n",
       "23        58                0                 1                            0   \n",
       "24        49                0                 1                            0   \n",
       "25        30                0                 1                            0   \n",
       "26        47                0                 1                            1   \n",
       "27         1                0                 0                            0   \n",
       "28        72                0                 1                            0   \n",
       "29        17                0                 1                            0   \n",
       "...      ...              ...               ...                          ...   \n",
       "7013      40                0                 1                            1   \n",
       "7014      41                0                 1                            1   \n",
       "7015      34                1                 1                            1   \n",
       "7016       1                0                 1                            0   \n",
       "7017      51                0                 1                            0   \n",
       "7018       1                0                 1                            1   \n",
       "7019      39                0                 1                            0   \n",
       "7020      12                0                 1                            0   \n",
       "7021      12                0                 1                            0   \n",
       "7022      72                0                 1                            1   \n",
       "7023      63                1                 1                            1   \n",
       "7024      44                0                 1                            1   \n",
       "7025      18                0                 1                            1   \n",
       "7026       9                0                 1                            0   \n",
       "7027      13                0                 1                            0   \n",
       "7028      68                0                 1                            0   \n",
       "7029       6                1                 0                            0   \n",
       "7030       2                0                 1                            0   \n",
       "7031      55                1                 1                            0   \n",
       "7032       1                1                 1                            1   \n",
       "7033      38                0                 1                            1   \n",
       "7034      67                0                 1                            1   \n",
       "7035      19                0                 1                            1   \n",
       "7036      12                0                 0                            0   \n",
       "7037      72                0                 1                            0   \n",
       "7038      24                0                 1                            0   \n",
       "7039      72                0                 1                            1   \n",
       "7040      11                0                 0                            0   \n",
       "7041       4                1                 1                            1   \n",
       "7042      66                0                 1                            1   \n",
       "\n",
       "      InternetService_No  \n",
       "0                      0  \n",
       "1                      0  \n",
       "2                      0  \n",
       "3                      0  \n",
       "4                      0  \n",
       "5                      0  \n",
       "6                      0  \n",
       "7                      0  \n",
       "8                      0  \n",
       "9                      0  \n",
       "10                     0  \n",
       "11                     1  \n",
       "12                     0  \n",
       "13                     0  \n",
       "14                     0  \n",
       "15                     0  \n",
       "16                     1  \n",
       "17                     0  \n",
       "18                     0  \n",
       "19                     0  \n",
       "20                     0  \n",
       "21                     1  \n",
       "22                     1  \n",
       "23                     0  \n",
       "24                     0  \n",
       "25                     0  \n",
       "26                     0  \n",
       "27                     0  \n",
       "28                     0  \n",
       "29                     0  \n",
       "...                  ...  \n",
       "7013                   0  \n",
       "7014                   0  \n",
       "7015                   0  \n",
       "7016                   0  \n",
       "7017                   1  \n",
       "7018                   0  \n",
       "7019                   1  \n",
       "7020                   1  \n",
       "7021                   0  \n",
       "7022                   0  \n",
       "7023                   0  \n",
       "7024                   0  \n",
       "7025                   0  \n",
       "7026                   0  \n",
       "7027                   0  \n",
       "7028                   0  \n",
       "7029                   0  \n",
       "7030                   1  \n",
       "7031                   0  \n",
       "7032                   0  \n",
       "7033                   0  \n",
       "7034                   0  \n",
       "7035                   0  \n",
       "7036                   0  \n",
       "7037                   1  \n",
       "7038                   0  \n",
       "7039                   0  \n",
       "7040                   0  \n",
       "7041                   0  \n",
       "7042                   0  \n",
       "\n",
       "[7043 rows x 5 columns]"
      ]
     },
     "execution_count": 91,
     "metadata": {},
     "output_type": "execute_result"
    }
   ],
   "source": [
    "#new_data [0, 4, 7, 9, 10]\n",
    "filter = new_data.drop(['Churn_Yes','customerID'],axis=1)\n",
    "filter.iloc[:,[0,4,7,9,10]]\n"
   ]
  },
  {
   "cell_type": "code",
   "execution_count": 27,
   "metadata": {},
   "outputs": [],
   "source": [
    "y = new_data['Churn_Yes'].values\n",
    "X = new_data.drop(['Churn_Yes','customerID'], axis=1).values"
   ]
  },
  {
   "cell_type": "markdown",
   "metadata": {},
   "source": [
    "# Logistic Regression"
   ]
  },
  {
   "cell_type": "code",
   "execution_count": 28,
   "metadata": {},
   "outputs": [
    {
     "name": "stdout",
     "output_type": "stream",
     "text": [
      "[[1403  136]\n",
      " [ 280  294]]\n",
      "             precision    recall  f1-score   support\n",
      "\n",
      "          0       0.83      0.91      0.87      1539\n",
      "          1       0.68      0.51      0.59       574\n",
      "\n",
      "avg / total       0.79      0.80      0.79      2113\n",
      "\n",
      "0.8031235210601041\n"
     ]
    }
   ],
   "source": [
    "from sklearn.linear_model import LogisticRegression\n",
    "from sklearn.metrics import confusion_matrix, classification_report\n",
    "from sklearn.model_selection import train_test_split\n",
    "\n",
    "# Create training and test sets\n",
    "X_train, X_test, y_train, y_test = train_test_split(X, y, test_size = 0.3, random_state=42)\n",
    "\n",
    "# Create the classifier: logreg\n",
    "logreg = LogisticRegression()\n",
    "\n",
    "# Fit the classifier to the training data\n",
    "logreg.fit(X_train,y_train)\n",
    "\n",
    "# Predict the labels of the test set: y_pred\n",
    "y_pred = logreg.predict(X_test)\n",
    "\n",
    "# Compute and print the confusion matrix and classification report\n",
    "print(confusion_matrix(y_test, y_pred))\n",
    "print(classification_report(y_test, y_pred))\n",
    "from sklearn import metrics\n",
    "\n",
    "print (metrics.accuracy_score(y_test,y_pred))"
   ]
  },
  {
   "cell_type": "code",
   "execution_count": 29,
   "metadata": {},
   "outputs": [
    {
     "data": {
      "text/plain": [
       "array(['Electronic check', 'Mailed check', 'Bank transfer (automatic)',\n",
       "       'Credit card (automatic)'], dtype=object)"
      ]
     },
     "execution_count": 29,
     "metadata": {},
     "output_type": "execute_result"
    }
   ],
   "source": [
    "data.PaymentMethod.unique()"
   ]
  },
  {
   "cell_type": "code",
   "execution_count": 30,
   "metadata": {},
   "outputs": [
    {
     "data": {
      "text/plain": [
       "False"
      ]
     },
     "execution_count": 30,
     "metadata": {},
     "output_type": "execute_result"
    }
   ],
   "source": [
    "data.isnull().values.any()"
   ]
  },
  {
   "cell_type": "code",
   "execution_count": 31,
   "metadata": {},
   "outputs": [
    {
     "data": {
      "text/html": [
       "<div>\n",
       "<style scoped>\n",
       "    .dataframe tbody tr th:only-of-type {\n",
       "        vertical-align: middle;\n",
       "    }\n",
       "\n",
       "    .dataframe tbody tr th {\n",
       "        vertical-align: top;\n",
       "    }\n",
       "\n",
       "    .dataframe thead th {\n",
       "        text-align: right;\n",
       "    }\n",
       "</style>\n",
       "<table border=\"1\" class=\"dataframe\">\n",
       "  <thead>\n",
       "    <tr style=\"text-align: right;\">\n",
       "      <th></th>\n",
       "      <th>customerID</th>\n",
       "      <th>gender</th>\n",
       "      <th>SeniorCitizen</th>\n",
       "      <th>Partner</th>\n",
       "      <th>Dependents</th>\n",
       "      <th>tenure</th>\n",
       "      <th>PhoneService</th>\n",
       "      <th>MultipleLines</th>\n",
       "      <th>InternetService</th>\n",
       "      <th>OnlineSecurity</th>\n",
       "      <th>...</th>\n",
       "      <th>DeviceProtection</th>\n",
       "      <th>TechSupport</th>\n",
       "      <th>StreamingTV</th>\n",
       "      <th>StreamingMovies</th>\n",
       "      <th>Contract</th>\n",
       "      <th>PaperlessBilling</th>\n",
       "      <th>PaymentMethod</th>\n",
       "      <th>MonthlyCharges</th>\n",
       "      <th>TotalCharges</th>\n",
       "      <th>Churn</th>\n",
       "    </tr>\n",
       "  </thead>\n",
       "  <tbody>\n",
       "  </tbody>\n",
       "</table>\n",
       "<p>0 rows × 21 columns</p>\n",
       "</div>"
      ],
      "text/plain": [
       "Empty DataFrame\n",
       "Columns: [customerID, gender, SeniorCitizen, Partner, Dependents, tenure, PhoneService, MultipleLines, InternetService, OnlineSecurity, OnlineBackup, DeviceProtection, TechSupport, StreamingTV, StreamingMovies, Contract, PaperlessBilling, PaymentMethod, MonthlyCharges, TotalCharges, Churn]\n",
       "Index: []\n",
       "\n",
       "[0 rows x 21 columns]"
      ]
     },
     "execution_count": 31,
     "metadata": {},
     "output_type": "execute_result"
    }
   ],
   "source": [
    "data[data.TotalCharges.isnull()]"
   ]
  },
  {
   "cell_type": "code",
   "execution_count": 32,
   "metadata": {},
   "outputs": [
    {
     "data": {
      "image/png": "[encoded data removed]",
      "text/plain": [
       "<Figure size 432x288 with 1 Axes>"
      ]
     },
     "metadata": {},
     "output_type": "display_data"
    }
   ],
   "source": [
    "# Import necessary modules\n",
    "from sklearn.metrics import roc_curve\n",
    "\n",
    "# Compute predicted probabilities: y_pred_prob\n",
    "y_pred_prob = logreg.predict_proba(X_test)[:,1]\n",
    "\n",
    "# Generate ROC curve values: fpr, tpr, thresholds\n",
    "fpr, tpr, thresholds = roc_curve(y_test, y_pred_prob)\n",
    "\n",
    "# Plot ROC curve\n",
    "plt.plot([0, 1], [0, 1], 'k--')\n",
    "plt.plot(fpr, tpr)\n",
    "plt.xlabel('False Positive Rate')\n",
    "plt.ylabel('True Positive Rate')\n",
    "plt.title('ROC Curve')\n",
    "plt.show()"
   ]
  },
  {
   "cell_type": "code",
   "execution_count": 33,
   "metadata": {},
   "outputs": [
    {
     "data": {
      "text/plain": [
       "array([1, 0, 0, ..., 0, 0, 0], dtype=uint8)"
      ]
     },
     "execution_count": 33,
     "metadata": {},
     "output_type": "execute_result"
    }
   ],
   "source": [
    "y_test"
   ]
  },
  {
   "cell_type": "code",
   "execution_count": 34,
   "metadata": {},
   "outputs": [
    {
     "name": "stdout",
     "output_type": "stream",
     "text": [
      "AUC: 0.8553984328481546\n",
      "AUC scores computed using 5-fold cross-validation: [0.85759901 0.85671291 0.83314862 0.83751582 0.83906949]\n"
     ]
    }
   ],
   "source": [
    "from sklearn.metrics import roc_auc_score\n",
    "from sklearn.model_selection import cross_val_score\n",
    "print(\"AUC: {}\".format(roc_auc_score(y_test, y_pred_prob)))\n",
    "\n",
    "# Compute cross-validated AUC scores: cv_auc\n",
    "cv_auc = cross_val_score(logreg,X,y,cv=5,scoring ='roc_auc')\n",
    "\n",
    "# Print list of AUC scores\n",
    "print(\"AUC scores computed using 5-fold cross-validation: {}\".format(cv_auc))"
   ]
  },
  {
   "cell_type": "markdown",
   "metadata": {},
   "source": [
    "# Deep Learning\n"
   ]
  },
  {
   "cell_type": "code",
   "execution_count": 35,
   "metadata": {},
   "outputs": [
    {
     "name": "stderr",
     "output_type": "stream",
     "text": [
      "C:\\Users\\Sivakumar\\Anaconda3\\lib\\site-packages\\h5py\\__init__.py:36: FutureWarning: Conversion of the second argument of issubdtype from `float` to `np.floating` is deprecated. In future, it will be treated as `np.float64 == np.dtype(float).type`.\n",
      "  from ._conv import register_converters as _register_converters\n",
      "Using TensorFlow backend.\n"
     ]
    },
    {
     "name": "stdout",
     "output_type": "stream",
     "text": [
      "Train on 4437 samples, validate on 493 samples\n",
      "Epoch 1/100\n",
      "4437/4437 [==============================] - 2s 383us/step - loss: 4.2863 - acc: 0.6570 - val_loss: 2.1736 - val_acc: 0.7890\n",
      "Epoch 2/100\n",
      "4437/4437 [==============================] - 0s 39us/step - loss: 3.6582 - acc: 0.7255 - val_loss: 2.7975 - val_acc: 0.8012\n",
      "Epoch 3/100\n",
      "4437/4437 [==============================] - 0s 34us/step - loss: 3.4970 - acc: 0.7505 - val_loss: 2.7148 - val_acc: 0.8012\n",
      "Epoch 4/100\n",
      "4437/4437 [==============================] - 0s 35us/step - loss: 3.4896 - acc: 0.7419 - val_loss: 2.7810 - val_acc: 0.8053\n",
      "Epoch 5/100\n",
      "4437/4437 [==============================] - 0s 35us/step - loss: 3.6234 - acc: 0.7291 - val_loss: 11.8180 - val_acc: 0.2272\n",
      "Epoch 6/100\n",
      "4437/4437 [==============================] - 0s 39us/step - loss: 8.4593 - acc: 0.4471 - val_loss: 3.5830 - val_acc: 0.7748\n",
      "Epoch 7/100\n",
      "4437/4437 [==============================] - 0s 49us/step - loss: 3.6122 - acc: 0.7476 - val_loss: 2.6634 - val_acc: 0.7992\n",
      "Epoch 8/100\n",
      "4437/4437 [==============================] - 0s 48us/step - loss: 3.2245 - acc: 0.7575 - val_loss: 3.5328 - val_acc: 0.7748\n",
      "Epoch 9/100\n",
      "4437/4437 [==============================] - 0s 39us/step - loss: 4.2473 - acc: 0.7332 - val_loss: 3.5236 - val_acc: 0.7748\n",
      "Epoch 10/100\n",
      "4437/4437 [==============================] - 0s 35us/step - loss: 3.8595 - acc: 0.7395 - val_loss: 2.7782 - val_acc: 0.8053\n",
      "Epoch 11/100\n",
      "4437/4437 [==============================] - 0s 39us/step - loss: 3.4561 - acc: 0.7557 - val_loss: 2.6131 - val_acc: 0.7992\n",
      "Epoch 12/100\n",
      "4437/4437 [==============================] - 0s 36us/step - loss: 3.2401 - acc: 0.7582 - val_loss: 2.5166 - val_acc: 0.7992\n",
      "Epoch 13/100\n",
      "4437/4437 [==============================] - 0s 35us/step - loss: 2.9572 - acc: 0.7618 - val_loss: 2.2337 - val_acc: 0.7972\n",
      "Epoch 14/100\n",
      "4437/4437 [==============================] - 0s 39us/step - loss: 2.5648 - acc: 0.7670 - val_loss: 2.6627 - val_acc: 0.7262\n",
      "Epoch 15/100\n",
      "4437/4437 [==============================] - 0s 38us/step - loss: 2.7301 - acc: 0.7492 - val_loss: 1.5877 - val_acc: 0.8053\n",
      "Epoch 16/100\n",
      "4437/4437 [==============================] - 0s 39us/step - loss: 2.5844 - acc: 0.7555 - val_loss: 1.8299 - val_acc: 0.7972\n",
      "Epoch 17/100\n",
      "4437/4437 [==============================] - 0s 35us/step - loss: 2.5855 - acc: 0.7528 - val_loss: 2.5536 - val_acc: 0.7748\n",
      "Epoch 18/100\n",
      "4437/4437 [==============================] - 0s 38us/step - loss: 2.6584 - acc: 0.7440 - val_loss: 2.3811 - val_acc: 0.7850\n",
      "Epoch 19/100\n",
      "4437/4437 [==============================] - 0s 35us/step - loss: 2.6766 - acc: 0.7546 - val_loss: 1.8448 - val_acc: 0.7667\n",
      "Epoch 20/100\n",
      "4437/4437 [==============================] - 0s 39us/step - loss: 2.6032 - acc: 0.7465 - val_loss: 2.2028 - val_acc: 0.8012\n",
      "Epoch 21/100\n",
      "4437/4437 [==============================] - 0s 35us/step - loss: 2.3070 - acc: 0.7584 - val_loss: 1.8233 - val_acc: 0.7850\n",
      "Epoch 22/100\n",
      "4437/4437 [==============================] - 0s 39us/step - loss: 2.4155 - acc: 0.7480 - val_loss: 1.9978 - val_acc: 0.7870\n",
      "Epoch 23/100\n",
      "4437/4437 [==============================] - 0s 35us/step - loss: 1.9705 - acc: 0.7593 - val_loss: 2.1235 - val_acc: 0.7890\n",
      "Epoch 24/100\n",
      "4437/4437 [==============================] - 0s 49us/step - loss: 2.7179 - acc: 0.7507 - val_loss: 2.2540 - val_acc: 0.7951\n",
      "Epoch 25/100\n",
      "4437/4437 [==============================] - 0s 60us/step - loss: 2.2706 - acc: 0.7539 - val_loss: 1.4111 - val_acc: 0.7850\n",
      "Epoch 26/100\n",
      "4437/4437 [==============================] - 0s 45us/step - loss: 2.6010 - acc: 0.7444 - val_loss: 1.5990 - val_acc: 0.7606\n",
      "Epoch 27/100\n",
      "4437/4437 [==============================] - 0s 39us/step - loss: 2.7336 - acc: 0.7343 - val_loss: 2.7662 - val_acc: 0.7748\n",
      "Epoch 28/100\n",
      "4437/4437 [==============================] - 0s 35us/step - loss: 2.9532 - acc: 0.7625 - val_loss: 2.1252 - val_acc: 0.7890\n",
      "Epoch 29/100\n",
      "4437/4437 [==============================] - 0s 40us/step - loss: 2.6124 - acc: 0.7570 - val_loss: 2.1135 - val_acc: 0.7769\n",
      "Epoch 30/100\n",
      "4437/4437 [==============================] - 0s 35us/step - loss: 2.4180 - acc: 0.7435 - val_loss: 1.9799 - val_acc: 0.7667\n",
      "Epoch 31/100\n",
      "4437/4437 [==============================] - 0s 39us/step - loss: 2.6410 - acc: 0.7325 - val_loss: 2.6645 - val_acc: 0.7748\n",
      "Epoch 32/100\n",
      "4437/4437 [==============================] - 0s 35us/step - loss: 2.6281 - acc: 0.7422 - val_loss: 1.4706 - val_acc: 0.7890\n",
      "Epoch 33/100\n",
      "4437/4437 [==============================] - 0s 39us/step - loss: 2.2724 - acc: 0.7467 - val_loss: 1.5402 - val_acc: 0.7769\n",
      "Epoch 34/100\n",
      "4437/4437 [==============================] - 0s 35us/step - loss: 2.0377 - acc: 0.7323 - val_loss: 1.9254 - val_acc: 0.7911\n",
      "Epoch 35/100\n",
      "4437/4437 [==============================] - 0s 39us/step - loss: 1.8249 - acc: 0.7253 - val_loss: 1.2545 - val_acc: 0.6085\n",
      "Epoch 36/100\n",
      "4437/4437 [==============================] - 0s 35us/step - loss: 1.3719 - acc: 0.7347 - val_loss: 0.8299 - val_acc: 0.7302\n",
      "Epoch 37/100\n",
      "4437/4437 [==============================] - 0s 39us/step - loss: 0.8078 - acc: 0.7397 - val_loss: 0.7380 - val_acc: 0.8053\n",
      "Epoch 38/100\n",
      "4437/4437 [==============================] - 0s 51us/step - loss: 0.6420 - acc: 0.7588 - val_loss: 0.7538 - val_acc: 0.8012\n",
      "Epoch 39/100\n",
      "4437/4437 [==============================] - 0s 46us/step - loss: 0.7570 - acc: 0.7417 - val_loss: 0.7870 - val_acc: 0.8154\n",
      "Epoch 40/100\n",
      "4437/4437 [==============================] - 0s 35us/step - loss: 0.6315 - acc: 0.7568 - val_loss: 0.4571 - val_acc: 0.8134\n",
      "Epoch 41/100\n",
      "4437/4437 [==============================] - 0s 35us/step - loss: 0.4814 - acc: 0.7821 - val_loss: 0.4019 - val_acc: 0.8012\n",
      "Epoch 42/100\n",
      "4437/4437 [==============================] - 0s 35us/step - loss: 0.5498 - acc: 0.7658 - val_loss: 0.4666 - val_acc: 0.8114\n",
      "Epoch 43/100\n",
      "4437/4437 [==============================] - 0s 41us/step - loss: 0.4995 - acc: 0.7773 - val_loss: 0.3981 - val_acc: 0.8154\n",
      "Epoch 44/100\n",
      "4437/4437 [==============================] - 0s 35us/step - loss: 0.4751 - acc: 0.7823 - val_loss: 0.5503 - val_acc: 0.8174\n",
      "Epoch 45/100\n",
      "4437/4437 [==============================] - 0s 39us/step - loss: 0.4622 - acc: 0.7850 - val_loss: 0.3982 - val_acc: 0.7972\n",
      "Epoch 46/100\n",
      "4437/4437 [==============================] - 0s 35us/step - loss: 0.4706 - acc: 0.7854 - val_loss: 0.4458 - val_acc: 0.8215\n",
      "Epoch 47/100\n",
      "4437/4437 [==============================] - 0s 35us/step - loss: 0.4576 - acc: 0.7845 - val_loss: 0.5135 - val_acc: 0.6897\n",
      "Epoch 48/100\n",
      "4437/4437 [==============================] - 0s 39us/step - loss: 0.4958 - acc: 0.7816 - val_loss: 0.4867 - val_acc: 0.7201\n",
      "Epoch 49/100\n",
      "4437/4437 [==============================] - 0s 39us/step - loss: 0.4845 - acc: 0.7832 - val_loss: 0.4591 - val_acc: 0.8174\n",
      "Epoch 50/100\n",
      "4437/4437 [==============================] - 0s 39us/step - loss: 0.4635 - acc: 0.7890 - val_loss: 0.4328 - val_acc: 0.8195\n",
      "Epoch 51/100\n",
      "4437/4437 [==============================] - 0s 35us/step - loss: 0.4977 - acc: 0.7760 - val_loss: 0.3986 - val_acc: 0.7992\n",
      "Epoch 52/100\n",
      "4437/4437 [==============================] - 0s 39us/step - loss: 0.4683 - acc: 0.7888 - val_loss: 0.4988 - val_acc: 0.8093\n",
      "Epoch 53/100\n",
      "4437/4437 [==============================] - 0s 36us/step - loss: 0.5201 - acc: 0.7767 - val_loss: 0.4331 - val_acc: 0.8032\n",
      "Epoch 54/100\n",
      "4437/4437 [==============================] - 0s 35us/step - loss: 0.4516 - acc: 0.7906 - val_loss: 0.4160 - val_acc: 0.8053\n",
      "Epoch 55/100\n",
      "4437/4437 [==============================] - 0s 39us/step - loss: 0.4726 - acc: 0.7861 - val_loss: 0.4510 - val_acc: 0.8174\n",
      "Epoch 56/100\n",
      "4437/4437 [==============================] - 0s 60us/step - loss: 0.4592 - acc: 0.7863 - val_loss: 0.3956 - val_acc: 0.8114\n",
      "Epoch 57/100\n",
      "4437/4437 [==============================] - 0s 49us/step - loss: 0.4521 - acc: 0.7899 - val_loss: 0.4150 - val_acc: 0.7992\n",
      "Epoch 58/100\n",
      "4437/4437 [==============================] - 0s 35us/step - loss: 0.4428 - acc: 0.7963 - val_loss: 0.4185 - val_acc: 0.8174\n",
      "Epoch 59/100\n",
      "4437/4437 [==============================] - 0s 35us/step - loss: 0.4509 - acc: 0.7920 - val_loss: 0.3863 - val_acc: 0.8154\n",
      "Epoch 60/100\n"
     ]
    },
    {
     "name": "stdout",
     "output_type": "stream",
     "text": [
      "4437/4437 [==============================] - 0s 35us/step - loss: 0.4517 - acc: 0.7924 - val_loss: 0.4220 - val_acc: 0.8114\n",
      "Epoch 61/100\n",
      "4437/4437 [==============================] - 0s 38us/step - loss: 0.4467 - acc: 0.7904 - val_loss: 0.5626 - val_acc: 0.8114\n",
      "Epoch 62/100\n",
      "4437/4437 [==============================] - 0s 39us/step - loss: 0.4672 - acc: 0.7902 - val_loss: 0.4050 - val_acc: 0.8134\n",
      "Epoch 63/100\n",
      "4437/4437 [==============================] - 0s 39us/step - loss: 0.4703 - acc: 0.7850 - val_loss: 0.3950 - val_acc: 0.8032\n",
      "Epoch 64/100\n",
      "4437/4437 [==============================] - 0s 35us/step - loss: 0.4423 - acc: 0.7945 - val_loss: 0.4546 - val_acc: 0.7789\n",
      "Epoch 65/100\n",
      "4437/4437 [==============================] - 0s 35us/step - loss: 0.4529 - acc: 0.7843 - val_loss: 0.4148 - val_acc: 0.7992\n",
      "Epoch 66/100\n",
      "4437/4437 [==============================] - 0s 37us/step - loss: 0.4523 - acc: 0.7886 - val_loss: 0.3946 - val_acc: 0.8235\n",
      "Epoch 67/100\n",
      "4437/4437 [==============================] - 0s 46us/step - loss: 0.4775 - acc: 0.7850 - val_loss: 0.3939 - val_acc: 0.8174\n",
      "Epoch 68/100\n",
      "4437/4437 [==============================] - 0s 49us/step - loss: 0.4450 - acc: 0.7936 - val_loss: 0.4242 - val_acc: 0.8134\n",
      "Epoch 69/100\n",
      "4437/4437 [==============================] - 0s 58us/step - loss: 0.4426 - acc: 0.7949 - val_loss: 0.3956 - val_acc: 0.8114\n",
      "Epoch 70/100\n",
      "4437/4437 [==============================] - 0s 56us/step - loss: 0.4415 - acc: 0.7965 - val_loss: 0.4047 - val_acc: 0.8215\n",
      "Epoch 71/100\n",
      "4437/4437 [==============================] - 0s 45us/step - loss: 0.4447 - acc: 0.7872 - val_loss: 0.3899 - val_acc: 0.8174\n",
      "Epoch 72/100\n",
      "4437/4437 [==============================] - 0s 49us/step - loss: 0.4407 - acc: 0.7931 - val_loss: 0.3830 - val_acc: 0.8195\n",
      "Epoch 73/100\n",
      "4437/4437 [==============================] - 0s 45us/step - loss: 0.4517 - acc: 0.7902 - val_loss: 0.3818 - val_acc: 0.8174\n",
      "Epoch 74/100\n",
      "4437/4437 [==============================] - 0s 42us/step - loss: 0.4463 - acc: 0.7879 - val_loss: 0.3854 - val_acc: 0.8296\n",
      "Epoch 75/100\n",
      "4437/4437 [==============================] - 0s 42us/step - loss: 0.4367 - acc: 0.7967 - val_loss: 0.4008 - val_acc: 0.8215\n",
      "Epoch 76/100\n",
      "4437/4437 [==============================] - 0s 44us/step - loss: 0.4407 - acc: 0.7936 - val_loss: 0.3855 - val_acc: 0.8154\n",
      "Epoch 77/100\n",
      "4437/4437 [==============================] - 0s 42us/step - loss: 0.4448 - acc: 0.7965 - val_loss: 0.3783 - val_acc: 0.8276\n",
      "Epoch 78/100\n",
      "4437/4437 [==============================] - 0s 46us/step - loss: 0.4428 - acc: 0.7972 - val_loss: 0.3982 - val_acc: 0.8093\n",
      "Epoch 79/100\n",
      "4437/4437 [==============================] - 0s 48us/step - loss: 0.4447 - acc: 0.7922 - val_loss: 0.4260 - val_acc: 0.8256\n",
      "Epoch 80/100\n",
      "4437/4437 [==============================] - 0s 46us/step - loss: 0.4454 - acc: 0.7947 - val_loss: 0.3843 - val_acc: 0.8114\n",
      "Epoch 81/100\n",
      "4437/4437 [==============================] - 0s 54us/step - loss: 0.4349 - acc: 0.7996 - val_loss: 0.3834 - val_acc: 0.8154\n",
      "Epoch 82/100\n",
      "4437/4437 [==============================] - 0s 49us/step - loss: 0.4394 - acc: 0.7915 - val_loss: 0.3878 - val_acc: 0.8093\n",
      "Epoch 83/100\n",
      "4437/4437 [==============================] - 0s 61us/step - loss: 0.4426 - acc: 0.7972 - val_loss: 0.4121 - val_acc: 0.8235\n",
      "Epoch 84/100\n",
      "4437/4437 [==============================] - 0s 64us/step - loss: 0.4549 - acc: 0.7920 - val_loss: 0.4011 - val_acc: 0.8073\n",
      "Epoch 85/100\n",
      "4437/4437 [==============================] - 0s 46us/step - loss: 0.4353 - acc: 0.7976 - val_loss: 0.3839 - val_acc: 0.8215\n",
      "Epoch 86/100\n",
      "4437/4437 [==============================] - 0s 44us/step - loss: 0.4327 - acc: 0.7987 - val_loss: 0.3916 - val_acc: 0.8215\n",
      "Epoch 87/100\n",
      "4437/4437 [==============================] - 0s 42us/step - loss: 0.4307 - acc: 0.7999 - val_loss: 0.3843 - val_acc: 0.8195\n",
      "Epoch 88/100\n",
      "4437/4437 [==============================] - 0s 42us/step - loss: 0.4378 - acc: 0.7965 - val_loss: 0.4264 - val_acc: 0.8276\n",
      "Epoch 89/100\n",
      "4437/4437 [==============================] - 0s 49us/step - loss: 0.4438 - acc: 0.7940 - val_loss: 0.4026 - val_acc: 0.8215\n",
      "Epoch 90/100\n",
      "4437/4437 [==============================] - 0s 46us/step - loss: 0.4634 - acc: 0.7877 - val_loss: 0.4015 - val_acc: 0.8154\n",
      "Epoch 91/100\n",
      "4437/4437 [==============================] - 0s 35us/step - loss: 0.4377 - acc: 0.7969 - val_loss: 0.3993 - val_acc: 0.8032\n",
      "Epoch 92/100\n",
      "4437/4437 [==============================] - 0s 39us/step - loss: 0.4349 - acc: 0.7983 - val_loss: 0.3926 - val_acc: 0.8235\n",
      "Epoch 93/100\n",
      "4437/4437 [==============================] - 0s 35us/step - loss: 0.4307 - acc: 0.7983 - val_loss: 0.3936 - val_acc: 0.8195\n",
      "Epoch 94/100\n",
      "4437/4437 [==============================] - 0s 38us/step - loss: 0.4322 - acc: 0.7969 - val_loss: 0.4031 - val_acc: 0.8235\n",
      "Epoch 95/100\n",
      "4437/4437 [==============================] - 0s 45us/step - loss: 0.4367 - acc: 0.7983 - val_loss: 0.3878 - val_acc: 0.8154\n",
      "Epoch 96/100\n",
      "4437/4437 [==============================] - 0s 49us/step - loss: 0.4305 - acc: 0.7972 - val_loss: 0.3854 - val_acc: 0.8134\n",
      "Epoch 97/100\n",
      "4437/4437 [==============================] - 0s 42us/step - loss: 0.4282 - acc: 0.7963 - val_loss: 0.3899 - val_acc: 0.8195\n",
      "Epoch 98/100\n",
      "4437/4437 [==============================] - 0s 35us/step - loss: 0.4298 - acc: 0.7981 - val_loss: 0.3901 - val_acc: 0.8134\n",
      "Epoch 99/100\n",
      "4437/4437 [==============================] - 0s 37us/step - loss: 0.4344 - acc: 0.8003 - val_loss: 0.3808 - val_acc: 0.8296\n",
      "Epoch 100/100\n",
      "4437/4437 [==============================] - 0s 37us/step - loss: 0.4310 - acc: 0.7956 - val_loss: 0.3802 - val_acc: 0.8256\n"
     ]
    },
    {
     "data": {
      "text/plain": [
       "<keras.callbacks.History at 0x24bcc009c18>"
      ]
     },
     "execution_count": 35,
     "metadata": {},
     "output_type": "execute_result"
    }
   ],
   "source": [
    "\n",
    "import keras\n",
    "from keras.layers import Dense\n",
    "from keras.models import Sequential\n",
    "from keras.utils import to_categorical\n",
    "\n",
    "# Convert the target to categorical: target\n",
    "target = to_categorical(new_data.Churn_Yes)\n",
    "n_cols = X.shape[1]\n",
    "A_train, A_test, b_train, b_test = train_test_split(X, target, test_size = 0.3, random_state=42)\n",
    "# Set up the model\n",
    "model = Sequential()\n",
    "\n",
    "# Add the first layer\n",
    "model.add(Dense(64,activation='relu',input_shape=(n_cols,)))\n",
    "\n",
    "model.add(Dense(64,activation='relu'))\n",
    "# Add the output layer\n",
    "\n",
    "model.add(Dense(64,activation='relu'))\n",
    "model.add(Dense(2,activation='softmax'))\n",
    "\n",
    "# Compile the model\n",
    "model.compile(optimizer='adam',loss='categorical_crossentropy',metrics=['accuracy'])\n",
    "\n",
    "# Fit the model\n",
    "model.fit(A_train,b_train,validation_split=0.1,epochs=100)\n"
   ]
  },
  {
   "cell_type": "code",
   "execution_count": 36,
   "metadata": {},
   "outputs": [
    {
     "ename": "IndexError",
     "evalue": "too many indices for array",
     "output_type": "error",
     "traceback": [
      "\u001b[1;31m---------------------------------------------------------------------------\u001b[0m",
      "\u001b[1;31mIndexError\u001b[0m                                Traceback (most recent call last)",
      "\u001b[1;32m<ipython-input-36-9c4597badbd6>\u001b[0m in \u001b[0;36m<module>\u001b[1;34m()\u001b[0m\n\u001b[0;32m      3\u001b[0m \u001b[1;33m\u001b[0m\u001b[0m\n\u001b[0;32m      4\u001b[0m \u001b[1;31m# Calculate predicted probability of survival: predicted_prob_true\u001b[0m\u001b[1;33m\u001b[0m\u001b[1;33m\u001b[0m\u001b[0m\n\u001b[1;32m----> 5\u001b[1;33m \u001b[0mpredicted_prob_true\u001b[0m \u001b[1;33m=\u001b[0m \u001b[0mpredictions\u001b[0m\u001b[1;33m[\u001b[0m\u001b[1;33m:\u001b[0m\u001b[1;33m,\u001b[0m\u001b[1;36m1\u001b[0m\u001b[1;33m]\u001b[0m\u001b[1;33m\u001b[0m\u001b[0m\n\u001b[0m\u001b[0;32m      6\u001b[0m \u001b[1;33m\u001b[0m\u001b[0m\n\u001b[0;32m      7\u001b[0m \u001b[1;31m# print predicted_prob_true\u001b[0m\u001b[1;33m\u001b[0m\u001b[1;33m\u001b[0m\u001b[0m\n",
      "\u001b[1;31mIndexError\u001b[0m: too many indices for array"
     ]
    }
   ],
   "source": [
    "# Calculate predictions: predictions\n",
    "predictions = model.predict_classes(A_test)\n",
    "\n",
    "# Calculate predicted probability of survival: predicted_prob_true\n",
    "predicted_prob_true = predictions[:,1]\n",
    "\n",
    "# print predicted_prob_true\n",
    "print(predicted_prob_true)"
   ]
  },
  {
   "cell_type": "code",
   "execution_count": 37,
   "metadata": {},
   "outputs": [],
   "source": [
    "b_test_labels = np.argmax(b_test,1)"
   ]
  },
  {
   "cell_type": "code",
   "execution_count": 38,
   "metadata": {},
   "outputs": [
    {
     "name": "stdout",
     "output_type": "stream",
     "text": [
      "[[1457   82]\n",
      " [ 343  231]]\n",
      "             precision    recall  f1-score   support\n",
      "\n",
      "          0       0.81      0.95      0.87      1539\n",
      "          1       0.74      0.40      0.52       574\n",
      "\n",
      "avg / total       0.79      0.80      0.78      2113\n",
      "\n"
     ]
    }
   ],
   "source": [
    "classes_pred = model.predict_classes(A_test)\n",
    "\n",
    "print(confusion_matrix(b_test_labels, classes_pred))\n",
    "print(classification_report(b_test_labels, classes_pred))\n"
   ]
  },
  {
   "cell_type": "code",
   "execution_count": 39,
   "metadata": {},
   "outputs": [
    {
     "ename": "NameError",
     "evalue": "name 'predictors' is not defined",
     "output_type": "error",
     "traceback": [
      "\u001b[1;31m---------------------------------------------------------------------------\u001b[0m",
      "\u001b[1;31mNameError\u001b[0m                                 Traceback (most recent call last)",
      "\u001b[1;32m<ipython-input-39-dff5a9c6b642>\u001b[0m in \u001b[0;36m<module>\u001b[1;34m()\u001b[0m\n\u001b[0;32m      2\u001b[0m \u001b[1;32mfrom\u001b[0m \u001b[0mkeras\u001b[0m\u001b[1;33m.\u001b[0m\u001b[0moptimizers\u001b[0m \u001b[1;32mimport\u001b[0m \u001b[0mSGD\u001b[0m\u001b[1;33m\u001b[0m\u001b[0m\n\u001b[0;32m      3\u001b[0m \u001b[1;31m# Add the first layer\u001b[0m\u001b[1;33m\u001b[0m\u001b[1;33m\u001b[0m\u001b[0m\n\u001b[1;32m----> 4\u001b[1;33m \u001b[0mn_cols\u001b[0m \u001b[1;33m=\u001b[0m \u001b[0mpredictors\u001b[0m\u001b[1;33m.\u001b[0m\u001b[0mshape\u001b[0m\u001b[1;33m[\u001b[0m\u001b[1;36m1\u001b[0m\u001b[1;33m]\u001b[0m\u001b[1;33m\u001b[0m\u001b[0m\n\u001b[0m\u001b[0;32m      5\u001b[0m \u001b[0mmodel\u001b[0m\u001b[1;33m.\u001b[0m\u001b[0madd\u001b[0m\u001b[1;33m(\u001b[0m\u001b[0mDense\u001b[0m\u001b[1;33m(\u001b[0m\u001b[1;36m32\u001b[0m\u001b[1;33m,\u001b[0m\u001b[0mactivation\u001b[0m\u001b[1;33m=\u001b[0m\u001b[1;34m'relu'\u001b[0m\u001b[1;33m,\u001b[0m\u001b[0minput_shape\u001b[0m\u001b[1;33m=\u001b[0m\u001b[1;33m(\u001b[0m\u001b[0mn_cols\u001b[0m\u001b[1;33m,\u001b[0m\u001b[1;33m)\u001b[0m\u001b[1;33m)\u001b[0m\u001b[1;33m)\u001b[0m\u001b[1;33m\u001b[0m\u001b[0m\n\u001b[0;32m      6\u001b[0m \u001b[0mmodel\u001b[0m\u001b[1;33m.\u001b[0m\u001b[0madd\u001b[0m\u001b[1;33m(\u001b[0m\u001b[0mDense\u001b[0m\u001b[1;33m(\u001b[0m\u001b[1;36m32\u001b[0m\u001b[1;33m,\u001b[0m\u001b[0mactivation\u001b[0m\u001b[1;33m=\u001b[0m\u001b[1;34m'relu'\u001b[0m\u001b[1;33m)\u001b[0m\u001b[1;33m)\u001b[0m\u001b[1;33m\u001b[0m\u001b[0m\n",
      "\u001b[1;31mNameError\u001b[0m: name 'predictors' is not defined"
     ]
    }
   ],
   "source": [
    "model = Sequential()\n",
    "from keras.optimizers import SGD\n",
    "# Add the first layer\n",
    "n_cols = predictors.shape[1]\n",
    "model.add(Dense(32,activation='relu',input_shape=(n_cols,)))\n",
    "model.add(Dense(32,activation='relu'))\n",
    "# Add the output layer\n",
    "model.add(Dense(2,activation='softmax'))\n",
    "\n",
    "my_optimizer = SGD(lr=0.01)\n",
    "# Compile the model\n",
    "model.compile(optimizer=my_optimizer,loss='categorical_crossentropy',metrics=['accuracy'])\n",
    "\n",
    "# Fit the model\n",
    "model.fit(A_train,b_train)\n"
   ]
  },
  {
   "cell_type": "code",
   "execution_count": null,
   "metadata": {},
   "outputs": [],
   "source": [
    "new_data.Churn_Yes.value_counts()"
   ]
  },
  {
   "cell_type": "code",
   "execution_count": null,
   "metadata": {},
   "outputs": [],
   "source": [
    "new_data.columns"
   ]
  },
  {
   "cell_type": "markdown",
   "metadata": {},
   "source": [
    "# SMOTE - Logistic Regression"
   ]
  },
  {
   "cell_type": "code",
   "execution_count": 40,
   "metadata": {},
   "outputs": [
    {
     "name": "stdout",
     "output_type": "stream",
     "text": [
      "[[754 282]\n",
      " [ 65 308]]\n",
      "             precision    recall  f1-score   support\n",
      "\n",
      "          0       0.92      0.73      0.81      1036\n",
      "          1       0.52      0.83      0.64       373\n",
      "\n",
      "avg / total       0.82      0.75      0.77      1409\n",
      "\n",
      "0.7537260468417317\n"
     ]
    }
   ],
   "source": [
    "from sklearn.linear_model import LogisticRegression\n",
    "from sklearn.metrics import confusion_matrix, classification_report\n",
    "from sklearn.model_selection import train_test_split\n",
    "from imblearn.over_sampling import SMOTE\n",
    "\n",
    "\n",
    "# Create training and test sets\n",
    "X_train, X_test, y_train, y_test = train_test_split(X, y, test_size = 0.2, random_state=42)\n",
    "\n",
    "\n",
    "sm = SMOTE(random_state=42)\n",
    "X_train_res, y_train_res = sm.fit_sample(X_train, y_train)\n",
    "\n",
    "# Create the classifier: logreg\n",
    "logreg = LogisticRegression()\n",
    "\n",
    "# Fit the classifier to the training data\n",
    "logreg.fit(X_train_res,y_train_res)\n",
    "\n",
    "# Predict the labels of the test set: y_pred\n",
    "y_pred = logreg.predict(X_test)\n",
    "\n",
    "# Compute and print the confusion matrix and classification report\n",
    "print(confusion_matrix(y_test, y_pred))\n",
    "print(classification_report(y_test, y_pred))\n",
    "from sklearn import metrics\n",
    "\n",
    "print (metrics.accuracy_score(y_test,y_pred))"
   ]
  },
  {
   "cell_type": "markdown",
   "metadata": {},
   "source": [
    "# Decision trees"
   ]
  },
  {
   "cell_type": "code",
   "execution_count": 45,
   "metadata": {},
   "outputs": [
    {
     "name": "stdout",
     "output_type": "stream",
     "text": [
      "[[835 201]\n",
      " [189 184]]\n",
      "             precision    recall  f1-score   support\n",
      "\n",
      "          0       0.82      0.81      0.81      1036\n",
      "          1       0.48      0.49      0.49       373\n",
      "\n",
      "avg / total       0.73      0.72      0.72      1409\n",
      "\n",
      "0.723207948899929\n"
     ]
    }
   ],
   "source": [
    "\n",
    "import model_evaluation_utils as meu\n",
    "from sklearn.tree import DecisionTreeClassifier\n",
    "\n",
    "Dtree = DecisionTreeClassifier()\n",
    "Dtree.fit(X_train,y_train)\n",
    "\n",
    "Dtree_predictions = Dtree.predict(X_test)\n",
    "\n",
    "#meu.display_model_performance_metrics(true_labels=y_test, predicted_labels=Dtree_predictions, \n",
    "                                    #  classes=b_test_labels)\n",
    "    \n",
    "from sklearn import metrics\n",
    "\n",
    "print(confusion_matrix(y_test, Dtree_predictions))\n",
    "print(classification_report(y_test, Dtree_predictions))\n",
    "\n",
    "print (metrics.accuracy_score(y_test,Dtree_predictions))"
   ]
  },
  {
   "cell_type": "markdown",
   "metadata": {},
   "source": [
    "# Random Forest"
   ]
  },
  {
   "cell_type": "code",
   "execution_count": 46,
   "metadata": {},
   "outputs": [
    {
     "name": "stdout",
     "output_type": "stream",
     "text": [
      "[[941  95]\n",
      " [207 166]]\n",
      "             precision    recall  f1-score   support\n",
      "\n",
      "          0       0.82      0.91      0.86      1036\n",
      "          1       0.64      0.45      0.52       373\n",
      "\n",
      "avg / total       0.77      0.79      0.77      1409\n",
      "\n",
      "0.7856635911994322\n"
     ]
    }
   ],
   "source": [
    "from sklearn.ensemble import RandomForestClassifier\n",
    "# train the model\n",
    "RF = RandomForestClassifier()\n",
    "RF.fit(X_train, y_train)\n",
    "# predict and evaluate performance\n",
    "RF_predictions = RF.predict(X_test)\n",
    "\n",
    "print(confusion_matrix(y_test, RF_predictions))\n",
    "print(classification_report(y_test, RF_predictions))\n",
    "\n",
    "print (metrics.accuracy_score(y_test,RF_predictions))"
   ]
  },
  {
   "cell_type": "markdown",
   "metadata": {},
   "source": [
    "# trying feature selection by RF"
   ]
  },
  {
   "cell_type": "code",
   "execution_count": 72,
   "metadata": {},
   "outputs": [
    {
     "name": "stderr",
     "output_type": "stream",
     "text": [
      "[Parallel(n_jobs=1)]: Done   1 out of   1 | elapsed:    2.2s remaining:    0.0s\n",
      "[Parallel(n_jobs=1)]: Done  23 out of  23 | elapsed:   40.1s finished\n",
      "\n",
      "[2018-09-14 12:26:03] Features: 1/5 -- score: 0.751862727253329[Parallel(n_jobs=1)]: Done   1 out of   1 | elapsed:    3.0s remaining:    0.0s\n",
      "[Parallel(n_jobs=1)]: Done  22 out of  22 | elapsed:   51.0s finished\n",
      "\n",
      "[2018-09-14 12:26:54] Features: 2/5 -- score: 0.7825703307745907[Parallel(n_jobs=1)]: Done   1 out of   1 | elapsed:    2.2s remaining:    0.0s\n",
      "[Parallel(n_jobs=1)]: Done  21 out of  21 | elapsed:   44.1s finished\n",
      "\n",
      "[2018-09-14 12:27:38] Features: 3/5 -- score: 0.7843441681613632[Parallel(n_jobs=1)]: Done   1 out of   1 | elapsed:    2.4s remaining:    0.0s\n",
      "[Parallel(n_jobs=1)]: Done  20 out of  20 | elapsed:   42.9s finished\n",
      "\n",
      "[2018-09-14 12:28:21] Features: 4/5 -- score: 0.7852319526996145[Parallel(n_jobs=1)]: Done   1 out of   1 | elapsed:    2.9s remaining:    0.0s\n"
     ]
    },
    {
     "name": "stdout",
     "output_type": "stream",
     "text": [
      "[0, 4, 7, 9, 10]\n"
     ]
    },
    {
     "name": "stderr",
     "output_type": "stream",
     "text": [
      "[Parallel(n_jobs=1)]: Done  19 out of  19 | elapsed:   41.3s finished\n",
      "\n",
      "[2018-09-14 12:29:03] Features: 5/5 -- score: 0.7806169847593755"
     ]
    }
   ],
   "source": [
    "from mlxtend.feature_selection import SequentialFeatureSelector as sfs\n",
    "clf = RandomForestClassifier(n_estimators=100, n_jobs=-1)\n",
    "\n",
    "sfs1 = sfs(clf,\n",
    "           k_features=5,\n",
    "           forward=True,\n",
    "           floating=False,\n",
    "           verbose=2,\n",
    "           scoring='accuracy',\n",
    "           cv=5)\n",
    "\n",
    "# Perform SFFS\n",
    "sfs1 = sfs1.fit(X_train, y_train)\n",
    "\n",
    "feat_cols = list(sfs1.k_feature_idx_)\n",
    "print(feat_cols)"
   ]
  },
  {
   "cell_type": "code",
   "execution_count": 95,
   "metadata": {},
   "outputs": [
    {
     "data": {
      "text/plain": [
       "Index(['customerID', 'tenure', 'MonthlyCharges', 'TotalCharges', 'gender_Male',\n",
       "       'SeniorCitizen_1', 'Partner_Yes', 'Dependents_Yes', 'PhoneService_Yes',\n",
       "       'MultipleLines_Yes', 'InternetService_Fiber optic',\n",
       "       'InternetService_No', 'OnlineSecurity_Yes', 'OnlineBackup_Yes',\n",
       "       'DeviceProtection_Yes', 'TechSupport_Yes', 'StreamingTV_Yes',\n",
       "       'StreamingMovies_Yes', 'Contract_One year', 'Contract_Two year',\n",
       "       'PaperlessBilling_Yes', 'PaymentMethod_Credit card (automatic)',\n",
       "       'PaymentMethod_Electronic check', 'PaymentMethod_Mailed check',\n",
       "       'Churn_Yes'],\n",
       "      dtype='object')"
      ]
     },
     "execution_count": 95,
     "metadata": {},
     "output_type": "execute_result"
    }
   ],
   "source": [
    "# tenure\tSeniorCitizen_1\tPhoneService_Yes\tInternetService_Fiber optic\tInternetService_No\n",
    "new_data.columns"
   ]
  },
  {
   "cell_type": "code",
   "execution_count": 100,
   "metadata": {},
   "outputs": [],
   "source": [
    "y2 = new_data['Churn_Yes'].values\n",
    "X2= new_data[['tenure','SeniorCitizen_1','PhoneService_Yes','InternetService_Fiber optic','InternetService_No']].values\n",
    "\n"
   ]
  },
  {
   "cell_type": "code",
   "execution_count": 101,
   "metadata": {},
   "outputs": [
    {
     "name": "stdout",
     "output_type": "stream",
     "text": [
      "[[1358  181]\n",
      " [ 296  278]]\n",
      "             precision    recall  f1-score   support\n",
      "\n",
      "          0       0.82      0.88      0.85      1539\n",
      "          1       0.61      0.48      0.54       574\n",
      "\n",
      "avg / total       0.76      0.77      0.77      2113\n",
      "\n",
      "0.7742546142924751\n"
     ]
    }
   ],
   "source": [
    "X2_train, X2_test, y2_train, y2_test = train_test_split(X2, y2, test_size = 0.3, random_state=42)\n",
    "RF2 = RandomForestClassifier()\n",
    "RF2.fit(X2_train, y2_train)\n",
    "# predict and evaluate performance\n",
    "RF2_predictions = RF2.predict(X2_test)\n",
    "\n",
    "print(confusion_matrix(y2_test, RF2_predictions))\n",
    "print(classification_report(y2_test, RF2_predictions))\n",
    "\n",
    "print (metrics.accuracy_score(y2_test,RF2_predictions))"
   ]
  },
  {
   "cell_type": "code",
   "execution_count": null,
   "metadata": {},
   "outputs": [],
   "source": []
  },
  {
   "cell_type": "markdown",
   "metadata": {},
   "source": [
    "# XG Boost"
   ]
  },
  {
   "cell_type": "code",
   "execution_count": 48,
   "metadata": {},
   "outputs": [],
   "source": [
    "import xgboost as xgb"
   ]
  },
  {
   "cell_type": "code",
   "execution_count": 49,
   "metadata": {},
   "outputs": [
    {
     "name": "stderr",
     "output_type": "stream",
     "text": [
      "C:\\Users\\Sivakumar\\Anaconda3\\lib\\site-packages\\sklearn\\preprocessing\\label.py:151: DeprecationWarning: The truth value of an empty array is ambiguous. Returning False, but in future this will result in an error. Use `array.size > 0` to check that an array is not empty.\n",
      "  if diff:\n"
     ]
    }
   ],
   "source": [
    "xgb = xgb.XGBClassifier(seed=42)\n",
    "xgb.fit(X_train, y_train)\n",
    "xgb_predictions = xgb.predict(X_test)"
   ]
  },
  {
   "cell_type": "code",
   "execution_count": 50,
   "metadata": {},
   "outputs": [
    {
     "name": "stdout",
     "output_type": "stream",
     "text": [
      "[[943  93]\n",
      " [171 202]]\n",
      "             precision    recall  f1-score   support\n",
      "\n",
      "          0       0.85      0.91      0.88      1036\n",
      "          1       0.68      0.54      0.60       373\n",
      "\n",
      "avg / total       0.80      0.81      0.81      1409\n",
      "\n",
      "0.8126330731014905\n"
     ]
    }
   ],
   "source": [
    "print(confusion_matrix(y_test, xgb_predictions))\n",
    "print(classification_report(y_test, xgb_predictions))\n",
    "\n",
    "print (metrics.accuracy_score(y_test,xgb_predictions))"
   ]
  },
  {
   "cell_type": "markdown",
   "metadata": {},
   "source": [
    "# SVM\n"
   ]
  },
  {
   "cell_type": "code",
   "execution_count": 55,
   "metadata": {},
   "outputs": [
    {
     "name": "stdout",
     "output_type": "stream",
     "text": [
      "[[992  44]\n",
      " [261 112]]\n",
      "             precision    recall  f1-score   support\n",
      "\n",
      "          0       0.79      0.96      0.87      1036\n",
      "          1       0.72      0.30      0.42       373\n",
      "\n",
      "avg / total       0.77      0.78      0.75      1409\n",
      "\n",
      "0.7835344215755855\n"
     ]
    }
   ],
   "source": [
    "from sklearn import svm\n",
    "sv = svm.SVC()\n",
    "sv.fit(X_train, y_train)\n",
    "# predict and evaluate performance\n",
    "sv_predictions = sv.predict(X_test)\n",
    "\n",
    "print(confusion_matrix(y_test, sv_predictions))\n",
    "print(classification_report(y_test, sv_predictions))\n",
    "\n",
    "print (metrics.accuracy_score(y_test,sv_predictions))"
   ]
  },
  {
   "cell_type": "markdown",
   "metadata": {},
   "source": []
  },
  {
   "cell_type": "code",
   "execution_count": null,
   "metadata": {},
   "outputs": [],
   "source": []
  },
  {
   "cell_type": "code",
   "execution_count": 59,
   "metadata": {},
   "outputs": [
    {
     "data": {
      "image/png": "[encoded data removed]",
      "text/plain": [
       "<Figure size 432x288 with 1 Axes>"
      ]
     },
     "metadata": {},
     "output_type": "display_data"
    }
   ],
   "source": [
    "from sklearn.decomposition import PCA\n",
    "from sklearn.preprocessing import StandardScaler\n",
    "from sklearn.pipeline import make_pipeline\n",
    "import matplotlib.pyplot as plt\n",
    "\n",
    "# Create scaler: scaler\n",
    "scaler = StandardScaler()\n",
    "\n",
    "# Create a PCA instance: pca\n",
    "pca = PCA()\n",
    "\n",
    "# Create pipeline: pipeline\n",
    "pipeline = make_pipeline(scaler,pca)\n",
    "\n",
    "# Fit the pipeline to 'samples'\n",
    "pipeline.fit(X)\n",
    "\n",
    "# Plot the explained variances\n",
    "features =range(pca.n_components_)\n",
    "plt.bar(features, pca.explained_variance_)\n",
    "plt.xlabel('PCA feature')\n",
    "plt.ylabel('variance')\n",
    "plt.xticks(features)\n",
    "#plt.yticks(pca.explained_variance_)\n",
    "plt.show()\n"
   ]
  },
  {
   "cell_type": "code",
   "execution_count": 63,
   "metadata": {},
   "outputs": [
    {
     "name": "stdout",
     "output_type": "stream",
     "text": [
      "[[992  44]\n",
      " [267 106]]\n",
      "             precision    recall  f1-score   support\n",
      "\n",
      "          0       0.79      0.96      0.86      1036\n",
      "          1       0.71      0.28      0.41       373\n",
      "\n",
      "avg / total       0.77      0.78      0.74      1409\n",
      "\n",
      "0.7792760823278921\n"
     ]
    }
   ],
   "source": [
    "from sklearn.pipeline import Pipeline\n",
    "pca = PCA(n_components=21)\n",
    "\n",
    "svm2 = svm.SVC()\n",
    "pipeline = Pipeline([(\"pca\", pca), (\"svm\", svm2)])\n",
    "\n",
    "pipeline.fit(X_train, y_train)\n",
    "# predict and evaluate performance\n",
    "pipeline_predictions = pipeline.predict(X_test)\n",
    "\n",
    "print(confusion_matrix(y_test, pipeline_predictions))\n",
    "print(classification_report(y_test, pipeline_predictions))\n",
    "\n",
    "print (metrics.accuracy_score(y_test,pipeline_predictions))"
   ]
  },
  {
   "cell_type": "markdown",
   "metadata": {},
   "source": [
    "# Feature selection"
   ]
  },
  {
   "cell_type": "code",
   "execution_count": 67,
   "metadata": {},
   "outputs": [],
   "source": [
    "import scipy.stats as stats\n",
    "import statsmodels.api as sm\n",
    "from statsmodels.formula.api import ols"
   ]
  },
  {
   "cell_type": "code",
   "execution_count": 70,
   "metadata": {},
   "outputs": [
    {
     "ename": "ValueError",
     "evalue": "shapes (7043,2) and (7043,2) not aligned: 2 (dim 1) != 7043 (dim 0)",
     "output_type": "error",
     "traceback": [
      "\u001b[1;31m---------------------------------------------------------------------------\u001b[0m",
      "\u001b[1;31mValueError\u001b[0m                                Traceback (most recent call last)",
      "\u001b[1;32m<ipython-input-70-39f645af5016>\u001b[0m in \u001b[0;36m<module>\u001b[1;34m()\u001b[0m\n\u001b[0;32m      1\u001b[0m \u001b[0mcrp\u001b[0m \u001b[1;33m=\u001b[0m \u001b[0mols\u001b[0m\u001b[1;33m(\u001b[0m\u001b[1;34m'Churn ~ gender + SeniorCitizen + Partner + Dependents + tenure + PhoneService + MultipleLines + InternetService + OnlineSecurity + OnlineBackup + DeviceProtection + TechSupport + StreamingTV + StreamingMovies + Contract + PaperlessBilling + PaymentMethod + MonthlyCharges + TotalCharges'\u001b[0m\u001b[1;33m,\u001b[0m\u001b[0mdata\u001b[0m\u001b[1;33m)\u001b[0m\u001b[1;33m.\u001b[0m\u001b[0mfit\u001b[0m\u001b[1;33m(\u001b[0m\u001b[1;33m)\u001b[0m\u001b[1;33m\u001b[0m\u001b[0m\n\u001b[1;32m----> 2\u001b[1;33m \u001b[0mprint\u001b[0m\u001b[1;33m(\u001b[0m\u001b[0mcrp\u001b[0m\u001b[1;33m.\u001b[0m\u001b[0msummary\u001b[0m\u001b[1;33m(\u001b[0m\u001b[1;33m)\u001b[0m\u001b[1;33m)\u001b[0m\u001b[1;33m\u001b[0m\u001b[0m\n\u001b[0m",
      "\u001b[1;32m~\\Anaconda3\\lib\\site-packages\\statsmodels\\regression\\linear_model.py\u001b[0m in \u001b[0;36msummary\u001b[1;34m(self, yname, xname, title, alpha)\u001b[0m\n\u001b[0;32m   2374\u001b[0m             \u001b[0mtop_left\u001b[0m\u001b[1;33m.\u001b[0m\u001b[0mappend\u001b[0m\u001b[1;33m(\u001b[0m\u001b[1;33m(\u001b[0m\u001b[1;34m'Covariance Type:'\u001b[0m\u001b[1;33m,\u001b[0m \u001b[1;33m[\u001b[0m\u001b[0mself\u001b[0m\u001b[1;33m.\u001b[0m\u001b[0mcov_type\u001b[0m\u001b[1;33m]\u001b[0m\u001b[1;33m)\u001b[0m\u001b[1;33m)\u001b[0m\u001b[1;33m\u001b[0m\u001b[0m\n\u001b[0;32m   2375\u001b[0m \u001b[1;33m\u001b[0m\u001b[0m\n\u001b[1;32m-> 2376\u001b[1;33m         top_right = [('R-squared:', [\"%#8.3f\" % self.rsquared]),\n\u001b[0m\u001b[0;32m   2377\u001b[0m                      \u001b[1;33m(\u001b[0m\u001b[1;34m'Adj. R-squared:'\u001b[0m\u001b[1;33m,\u001b[0m \u001b[1;33m[\u001b[0m\u001b[1;34m\"%#8.3f\"\u001b[0m \u001b[1;33m%\u001b[0m \u001b[0mself\u001b[0m\u001b[1;33m.\u001b[0m\u001b[0mrsquared_adj\u001b[0m\u001b[1;33m]\u001b[0m\u001b[1;33m)\u001b[0m\u001b[1;33m,\u001b[0m\u001b[1;33m\u001b[0m\u001b[0m\n\u001b[0;32m   2378\u001b[0m                      \u001b[1;33m(\u001b[0m\u001b[1;34m'F-statistic:'\u001b[0m\u001b[1;33m,\u001b[0m \u001b[1;33m[\u001b[0m\u001b[1;34m\"%#8.4g\"\u001b[0m \u001b[1;33m%\u001b[0m \u001b[0mself\u001b[0m\u001b[1;33m.\u001b[0m\u001b[0mfvalue\u001b[0m\u001b[1;33m]\u001b[0m\u001b[1;33m)\u001b[0m\u001b[1;33m,\u001b[0m\u001b[1;33m\u001b[0m\u001b[0m\n",
      "\u001b[1;32m~\\Anaconda3\\lib\\site-packages\\statsmodels\\tools\\decorators.py\u001b[0m in \u001b[0;36m__get__\u001b[1;34m(self, obj, type)\u001b[0m\n\u001b[0;32m     95\u001b[0m         \u001b[1;32mif\u001b[0m \u001b[0m_cachedval\u001b[0m \u001b[1;32mis\u001b[0m \u001b[1;32mNone\u001b[0m\u001b[1;33m:\u001b[0m\u001b[1;33m\u001b[0m\u001b[0m\n\u001b[0;32m     96\u001b[0m             \u001b[1;31m# Call the \"fget\" function\u001b[0m\u001b[1;33m\u001b[0m\u001b[1;33m\u001b[0m\u001b[0m\n\u001b[1;32m---> 97\u001b[1;33m             \u001b[0m_cachedval\u001b[0m \u001b[1;33m=\u001b[0m \u001b[0mself\u001b[0m\u001b[1;33m.\u001b[0m\u001b[0mfget\u001b[0m\u001b[1;33m(\u001b[0m\u001b[0mobj\u001b[0m\u001b[1;33m)\u001b[0m\u001b[1;33m\u001b[0m\u001b[0m\n\u001b[0m\u001b[0;32m     98\u001b[0m             \u001b[1;31m# Set the attribute in obj\u001b[0m\u001b[1;33m\u001b[0m\u001b[1;33m\u001b[0m\u001b[0m\n\u001b[0;32m     99\u001b[0m             \u001b[1;31m# print(\"Setting %s in cache to %s\" % (name, _cachedval))\u001b[0m\u001b[1;33m\u001b[0m\u001b[1;33m\u001b[0m\u001b[0m\n",
      "\u001b[1;32m~\\Anaconda3\\lib\\site-packages\\statsmodels\\regression\\linear_model.py\u001b[0m in \u001b[0;36mrsquared\u001b[1;34m(self)\u001b[0m\n\u001b[0;32m   1541\u001b[0m     \u001b[1;32mdef\u001b[0m \u001b[0mrsquared\u001b[0m\u001b[1;33m(\u001b[0m\u001b[0mself\u001b[0m\u001b[1;33m)\u001b[0m\u001b[1;33m:\u001b[0m\u001b[1;33m\u001b[0m\u001b[0m\n\u001b[0;32m   1542\u001b[0m         \u001b[1;32mif\u001b[0m \u001b[0mself\u001b[0m\u001b[1;33m.\u001b[0m\u001b[0mk_constant\u001b[0m\u001b[1;33m:\u001b[0m\u001b[1;33m\u001b[0m\u001b[0m\n\u001b[1;32m-> 1543\u001b[1;33m             \u001b[1;32mreturn\u001b[0m \u001b[1;36m1\u001b[0m \u001b[1;33m-\u001b[0m \u001b[0mself\u001b[0m\u001b[1;33m.\u001b[0m\u001b[0mssr\u001b[0m\u001b[1;33m/\u001b[0m\u001b[0mself\u001b[0m\u001b[1;33m.\u001b[0m\u001b[0mcentered_tss\u001b[0m\u001b[1;33m\u001b[0m\u001b[0m\n\u001b[0m\u001b[0;32m   1544\u001b[0m         \u001b[1;32melse\u001b[0m\u001b[1;33m:\u001b[0m\u001b[1;33m\u001b[0m\u001b[0m\n\u001b[0;32m   1545\u001b[0m             \u001b[1;32mreturn\u001b[0m \u001b[1;36m1\u001b[0m \u001b[1;33m-\u001b[0m \u001b[0mself\u001b[0m\u001b[1;33m.\u001b[0m\u001b[0mssr\u001b[0m\u001b[1;33m/\u001b[0m\u001b[0mself\u001b[0m\u001b[1;33m.\u001b[0m\u001b[0muncentered_tss\u001b[0m\u001b[1;33m\u001b[0m\u001b[0m\n",
      "\u001b[1;32m~\\Anaconda3\\lib\\site-packages\\statsmodels\\tools\\decorators.py\u001b[0m in \u001b[0;36m__get__\u001b[1;34m(self, obj, type)\u001b[0m\n\u001b[0;32m     95\u001b[0m         \u001b[1;32mif\u001b[0m \u001b[0m_cachedval\u001b[0m \u001b[1;32mis\u001b[0m \u001b[1;32mNone\u001b[0m\u001b[1;33m:\u001b[0m\u001b[1;33m\u001b[0m\u001b[0m\n\u001b[0;32m     96\u001b[0m             \u001b[1;31m# Call the \"fget\" function\u001b[0m\u001b[1;33m\u001b[0m\u001b[1;33m\u001b[0m\u001b[0m\n\u001b[1;32m---> 97\u001b[1;33m             \u001b[0m_cachedval\u001b[0m \u001b[1;33m=\u001b[0m \u001b[0mself\u001b[0m\u001b[1;33m.\u001b[0m\u001b[0mfget\u001b[0m\u001b[1;33m(\u001b[0m\u001b[0mobj\u001b[0m\u001b[1;33m)\u001b[0m\u001b[1;33m\u001b[0m\u001b[0m\n\u001b[0m\u001b[0;32m     98\u001b[0m             \u001b[1;31m# Set the attribute in obj\u001b[0m\u001b[1;33m\u001b[0m\u001b[1;33m\u001b[0m\u001b[0m\n\u001b[0;32m     99\u001b[0m             \u001b[1;31m# print(\"Setting %s in cache to %s\" % (name, _cachedval))\u001b[0m\u001b[1;33m\u001b[0m\u001b[1;33m\u001b[0m\u001b[0m\n",
      "\u001b[1;32m~\\Anaconda3\\lib\\site-packages\\statsmodels\\regression\\linear_model.py\u001b[0m in \u001b[0;36mssr\u001b[1;34m(self)\u001b[0m\n\u001b[0;32m   1513\u001b[0m     \u001b[1;32mdef\u001b[0m \u001b[0mssr\u001b[0m\u001b[1;33m(\u001b[0m\u001b[0mself\u001b[0m\u001b[1;33m)\u001b[0m\u001b[1;33m:\u001b[0m\u001b[1;33m\u001b[0m\u001b[0m\n\u001b[0;32m   1514\u001b[0m         \u001b[0mwresid\u001b[0m \u001b[1;33m=\u001b[0m \u001b[0mself\u001b[0m\u001b[1;33m.\u001b[0m\u001b[0mwresid\u001b[0m\u001b[1;33m\u001b[0m\u001b[0m\n\u001b[1;32m-> 1515\u001b[1;33m         \u001b[1;32mreturn\u001b[0m \u001b[0mnp\u001b[0m\u001b[1;33m.\u001b[0m\u001b[0mdot\u001b[0m\u001b[1;33m(\u001b[0m\u001b[0mwresid\u001b[0m\u001b[1;33m,\u001b[0m \u001b[0mwresid\u001b[0m\u001b[1;33m)\u001b[0m\u001b[1;33m\u001b[0m\u001b[0m\n\u001b[0m\u001b[0;32m   1516\u001b[0m \u001b[1;33m\u001b[0m\u001b[0m\n\u001b[0;32m   1517\u001b[0m     \u001b[1;33m@\u001b[0m\u001b[0mcache_readonly\u001b[0m\u001b[1;33m\u001b[0m\u001b[0m\n",
      "\u001b[1;31mValueError\u001b[0m: shapes (7043,2) and (7043,2) not aligned: 2 (dim 1) != 7043 (dim 0)"
     ]
    }
   ],
   "source": [
    "crp = ols('Churn ~ gender + SeniorCitizen + Partner + Dependents + tenure + PhoneService + MultipleLines + InternetService + OnlineSecurity + OnlineBackup + DeviceProtection + TechSupport + StreamingTV + StreamingMovies + Contract + PaperlessBilling + PaymentMethod + MonthlyCharges + TotalCharges',data).fit()\n"
   ]
  },
  {
   "cell_type": "code",
   "execution_count": 125,
   "metadata": {},
   "outputs": [
    {
     "data": {
      "text/plain": [
       "Index(['customerID', 'tenure', 'MonthlyCharges', 'TotalCharges', 'gender_Male',\n",
       "       'SeniorCitizen_1', 'Partner_Yes', 'Dependents_Yes', 'PhoneService_Yes',\n",
       "       'MultipleLines_Yes', 'InternetService_Fiber optic',\n",
       "       'InternetService_No', 'OnlineSecurity_Yes', 'OnlineBackup_Yes',\n",
       "       'DeviceProtection_Yes', 'TechSupport_Yes', 'StreamingTV_Yes',\n",
       "       'StreamingMovies_Yes', 'Contract_One year', 'Contract_Two year',\n",
       "       'PaperlessBilling_Yes', 'PaymentMethod_Credit card (automatic)',\n",
       "       'PaymentMethod_Electronic check', 'PaymentMethod_Mailed check',\n",
       "       'Churn_Yes'],\n",
       "      dtype='object')"
      ]
     },
     "execution_count": 125,
     "metadata": {},
     "output_type": "execute_result"
    }
   ],
   "source": [
    "new_data.columns"
   ]
  },
  {
   "cell_type": "code",
   "execution_count": 164,
   "metadata": {},
   "outputs": [],
   "source": [
    "new_data = new_data.rename({'InternetService_Fiber optic' : 'InternetService_Fiber_optic','Contract_One year':'Contract_One_year','Contract_Two year':'Contract_Two_year','PaymentMethod_Credit card_automatic':'PaymentMethod_Credit_card_automatic','PaymentMethod_Electronic check':'PaymentMethod_Electronic_check','PaymentMethod_Mailed check':'PaymentMethod_Mailed_check'},axis='columns')\n",
    "                \n",
    "             #   'Contract_One year':'Contract_One_year','Contract_Two year':'Contract_Two_year','PaymentMethod_Credit card (automatic)':'PaymentMethod_Credit card_automatic','PaymentMethod_Electronic check':'PaymentMethod_Electronic_check',axis='columns')"
   ]
  },
  {
   "cell_type": "code",
   "execution_count": 165,
   "metadata": {},
   "outputs": [
    {
     "data": {
      "text/plain": [
       "Index(['customerID', 'tenure', 'MonthlyCharges', 'TotalCharges', 'gender_Male',\n",
       "       'SeniorCitizen_1', 'Partner_Yes', 'Dependents_Yes', 'PhoneService_Yes',\n",
       "       'MultipleLines_Yes', 'InternetService_Fiber_optic',\n",
       "       'InternetService_No', 'OnlineSecurity_Yes', 'OnlineBackup_Yes',\n",
       "       'DeviceProtection_Yes', 'TechSupport_Yes', 'StreamingTV_Yes',\n",
       "       'StreamingMovies_Yes', 'Contract_One_year', 'Contract_Two_year',\n",
       "       'PaperlessBilling_Yes', 'PaymentMethod_Credit_card_automatic',\n",
       "       'PaymentMethod_Electronic_check', 'PaymentMethod_Mailed_check',\n",
       "       'Churn_Yes'],\n",
       "      dtype='object')"
      ]
     },
     "execution_count": 165,
     "metadata": {},
     "output_type": "execute_result"
    }
   ],
   "source": [
    "new_data.columns"
   ]
  },
  {
   "cell_type": "code",
   "execution_count": 166,
   "metadata": {},
   "outputs": [
    {
     "name": "stdout",
     "output_type": "stream",
     "text": [
      "                            OLS Regression Results                            \n",
      "==============================================================================\n",
      "Dep. Variable:              Churn_Yes   R-squared:                       0.284\n",
      "Model:                            OLS   Adj. R-squared:                  0.282\n",
      "Method:                 Least Squares   F-statistic:                     121.1\n",
      "Date:                Mon, 17 Sep 2018   Prob (F-statistic):               0.00\n",
      "Time:                        13:26:36   Log-Likelihood:                -3058.7\n",
      "No. Observations:                7043   AIC:                             6165.\n",
      "Df Residuals:                    7019   BIC:                             6330.\n",
      "Df Model:                          23                                         \n",
      "Covariance Type:            nonrobust                                         \n",
      "=======================================================================================================\n",
      "                                          coef    std err          t      P>|t|      [0.025      0.975]\n",
      "-------------------------------------------------------------------------------------------------------\n",
      "Intercept                               0.4128      0.112      3.693      0.000       0.194       0.632\n",
      "gender_Male                            -0.0033      0.009     -0.369      0.712      -0.021       0.014\n",
      "tenure                                 -0.0019      0.000     -3.799      0.000      -0.003      -0.001\n",
      "MonthlyCharges                         -0.0013      0.004     -0.309      0.757      -0.010       0.007\n",
      "TotalCharges                         -4.44e-05   6.46e-06     -6.870      0.000   -5.71e-05   -3.17e-05\n",
      "SeniorCitizen_1                         0.0442      0.013      3.403      0.001       0.019       0.070\n",
      "Partner_Yes                            -0.0012      0.011     -0.113      0.910      -0.022       0.020\n",
      "Dependents_Yes                         -0.0209      0.011     -1.826      0.068      -0.043       0.002\n",
      "PhoneService_Yes                       -0.0044      0.089     -0.049      0.961      -0.179       0.170\n",
      "MultipleLines_Yes                       0.0581      0.024      2.387      0.017       0.010       0.106\n",
      "InternetService_Fiber_optic             0.2110      0.109      1.929      0.054      -0.003       0.425\n",
      "InternetService_No                     -0.1802      0.110     -1.631      0.103      -0.397       0.036\n",
      "OnlineSecurity_Yes                     -0.0427      0.025     -1.720      0.085      -0.091       0.006\n",
      "OnlineBackup_Yes                       -0.0118      0.024     -0.483      0.629      -0.060       0.036\n",
      "DeviceProtection_Yes                    0.0043      0.025      0.174      0.862      -0.044       0.053\n",
      "TechSupport_Yes                        -0.0438      0.025     -1.754      0.079      -0.093       0.005\n",
      "StreamingTV_Yes                         0.0635      0.045      1.412      0.158      -0.025       0.152\n",
      "StreamingMovies_Yes                     0.0664      0.045      1.478      0.139      -0.022       0.155\n",
      "Contract_One_year                      -0.1069      0.014     -7.654      0.000      -0.134      -0.080\n",
      "Contract_Two_year                      -0.0730      0.017     -4.317      0.000      -0.106      -0.040\n",
      "PaperlessBilling_Yes                    0.0449      0.010      4.502      0.000       0.025       0.064\n",
      "PaymentMethod_Credit_card_automatic    -0.0058      0.014     -0.427      0.669      -0.032       0.021\n",
      "PaymentMethod_Electronic_check          0.0679      0.013      5.113      0.000       0.042       0.094\n",
      "PaymentMethod_Mailed_check             -0.0067      0.014     -0.465      0.642      -0.035       0.022\n",
      "==============================================================================\n",
      "Omnibus:                      356.398   Durbin-Watson:                   2.005\n",
      "Prob(Omnibus):                  0.000   Jarque-Bera (JB):              386.647\n",
      "Skew:                           0.551   Prob(JB):                     1.10e-84\n",
      "Kurtosis:                       2.678   Cond. No.                     1.60e+05\n",
      "==============================================================================\n",
      "\n",
      "Warnings:\n",
      "[1] Standard Errors assume that the covariance matrix of the errors is correctly specified.\n",
      "[2] The condition number is large, 1.6e+05. This might indicate that there are\n",
      "strong multicollinearity or other numerical problems.\n"
     ]
    }
   ],
   "source": [
    "import statsmodels.formula.api as smf\n",
    "from statsmodels.formula.api import ols\n",
    "m = ols('Churn_Yes ~ gender_Male + tenure + MonthlyCharges + TotalCharges + SeniorCitizen_1 + Partner_Yes + Dependents_Yes + PhoneService_Yes + MultipleLines_Yes + InternetService_Fiber_optic+ InternetService_No + OnlineSecurity_Yes + OnlineBackup_Yes +DeviceProtection_Yes + TechSupport_Yes+ StreamingTV_Yes + StreamingMovies_Yes + Contract_One_year+ Contract_Two_year + PaperlessBilling_Yes + PaymentMethod_Credit_card_automatic + PaymentMethod_Electronic_check + PaymentMethod_Mailed_check',new_data).fit()\n",
    "print(m.summary())"
   ]
  },
  {
   "cell_type": "code",
   "execution_count": 114,
   "metadata": {},
   "outputs": [
    {
     "data": {
      "text/plain": [
       "Index(['customerID', 'tenure', 'MonthlyCharges', 'TotalCharges', 'gender_Male',\n",
       "       'SeniorCitizen_1', 'Partner_Yes', 'Dependents_Yes', 'PhoneService_Yes',\n",
       "       'MultipleLines_Yes', 'InternetService_Fiber optic',\n",
       "       'InternetService_No', 'OnlineSecurity_Yes', 'OnlineBackup_Yes',\n",
       "       'DeviceProtection_Yes', 'TechSupport_Yes', 'StreamingTV_Yes',\n",
       "       'StreamingMovies_Yes', 'Contract_One year', 'Contract_Two year',\n",
       "       'PaperlessBilling_Yes', 'PaymentMethod_Credit card (automatic)',\n",
       "       'PaymentMethod_Electronic check', 'PaymentMethod_Mailed check',\n",
       "       'Churn_Yes'],\n",
       "      dtype='object')"
      ]
     },
     "execution_count": 114,
     "metadata": {},
     "output_type": "execute_result"
    }
   ],
   "source": [
    "new_data.columns"
   ]
  },
  {
   "cell_type": "code",
   "execution_count": null,
   "metadata": {},
   "outputs": [],
   "source": []
  }
 ],
 "metadata": {
  "kernelspec": {
   "display_name": "Python 3",
   "language": "python",
   "name": "python3"
  },
  "language_info": {
   "codemirror_mode": {
    "name": "ipython",
    "version": 3
   },
   "file_extension": ".py",
   "mimetype": "text/x-python",
   "name": "python",
   "nbconvert_exporter": "python",
   "pygments_lexer": "ipython3",
   "version": "3.6.4"
  }
 },
 "nbformat": 4,
 "nbformat_minor": 2
}
